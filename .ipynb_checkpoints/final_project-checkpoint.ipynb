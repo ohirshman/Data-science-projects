{
 "cells": [
  {
   "cell_type": "code",
   "execution_count": 2,
   "metadata": {},
   "outputs": [
    {
     "name": "stderr",
     "output_type": "stream",
     "text": [
      "Using TensorFlow backend.\n"
     ]
    }
   ],
   "source": [
    "import pandas as pd\n",
    "import numpy as np\n",
    "from sklearn.metrics import confusion_matrix\n",
    "import random\n",
    "from sklearn.linear_model import LogisticRegression\n",
    "from sklearn.ensemble import GradientBoostingClassifier\n",
    "from sklearn.feature_selection import RFECV\n",
    "from sklearn.ensemble import RandomForestClassifier\n",
    "from sklearn.neural_network import MLPClassifier\n",
    "import matplotlib.pyplot as plt\n",
    "from sklearn.ensemble import AdaBoostClassifier\n",
    "from sklearn import svm\n",
    "from sklearn.neighbors import KNeighborsClassifier\n",
    "from sklearn.naive_bayes import MultinomialNB \n",
    "from sklearn.preprocessing import StandardScaler\n",
    "from sklearn.svm import SVC\n",
    "from sklearn import preprocessing\n",
    "from sklearn.feature_selection import SelectFromModel\n",
    "from sklearn.model_selection import train_test_split\n",
    "from sklearn.model_selection import cross_val_score\n",
    "from sklearn.metrics import classification_report, confusion_matrix\n",
    "from sklearn.metrics import roc_auc_score\n",
    "from sklearn import preprocessing\n",
    "from xgboost import XGBClassifier\n",
    "from sklearn.neighbors import KNeighborsClassifier\n",
    "from sklearn.metrics import accuracy_score\n",
    "from sklearn.model_selection import RandomizedSearchCV\n",
    "from sklearn.model_selection import cross_val_predict\n",
    "from sklearn import metrics\n",
    "import keras\n",
    "from keras.metrics import *\n",
    "from keras.models import Sequential\n",
    "from keras.layers import *\n",
    "from keras.models import load_model \n",
    "from keras import optimizers\n",
    "from keras.optimizers import Adam\n",
    "from sklearn.preprocessing import MinMaxScaler\n",
    "import tensorflow as tf\n",
    "from sklearn.model_selection import GridSearchCV\n",
    "from keras.wrappers.scikit_learn import KerasClassifier"
   ]
  },
  {
   "cell_type": "code",
   "execution_count": 7,
   "metadata": {},
   "outputs": [],
   "source": [
    "reviews = pd.read_csv(\"C:\\\\Users\\\\or.hirshman\\\\Documents\\\\\\learning\\\\data_mining\\\\hw\\\\final_project\\\\reviews_training.csv\")"
   ]
  },
  {
   "cell_type": "code",
   "execution_count": 8,
   "metadata": {},
   "outputs": [],
   "source": [
    "reviews_fromHw = pd.read_csv(\"C:\\\\Users\\\\or.hirshman\\\\Documents\\\\\\learning\\\\data_mining\\\\hw\\\\final_project\\\\hw\\\\text_training.csv\")"
   ]
  },
  {
   "cell_type": "code",
   "execution_count": 10,
   "metadata": {},
   "outputs": [],
   "source": [
    "data = pd.read_csv(\"C:\\\\Users\\\\or.hirshman\\\\Documents\\\\\\learning\\\\data_mining\\\\hw\\\\final_project\\\\ffp_train.csv\")"
   ]
  },
  {
   "cell_type": "code",
   "execution_count": 11,
   "metadata": {},
   "outputs": [],
   "source": [
    "y_hw = reviews_fromHw['rating'].values\n",
    "features_hw = reviews_fromHw[reviews_fromHw.columns[1:-1]]"
   ]
  },
  {
   "cell_type": "code",
   "execution_count": 12,
   "metadata": {},
   "outputs": [],
   "source": [
    "#data_buyer = pd.DataFrame(data, columns = ['ID', 'BUYER_FLAG']) \n",
    "#reviews_withBuyer = pd.merge(reviews, data_buyer, how='inner', left_on='ID', right_on='ID')\n",
    "#reviews_withBuyer.head(5)"
   ]
  },
  {
   "cell_type": "code",
   "execution_count": 13,
   "metadata": {},
   "outputs": [],
   "source": [
    "#y_reviews = reviews_withBuyer['BUYER_FLAG'].values\n",
    "#features_reviews = reviews_withBuyer[reviews_withBuyer.columns[1:-1]]"
   ]
  },
  {
   "cell_type": "code",
   "execution_count": 15,
   "metadata": {},
   "outputs": [],
   "source": [
    "# calculate reviews sentiment\n",
    "logisticReg = LogisticRegression(random_state=0, max_iter=1000)\n",
    "rfecv = RFECV(estimator=logisticReg, cv=7, scoring='accuracy')\n",
    "rfecv = rfecv.fit(features_hw, y_hw)"
   ]
  },
  {
   "cell_type": "code",
   "execution_count": 9,
   "metadata": {},
   "outputs": [
    {
     "name": "stdout",
     "output_type": "stream",
     "text": [
      "Optimal number of features : 657\n"
     ]
    }
   ],
   "source": [
    "print(\"Optimal number of features : %d\" % rfecv.n_features_)\n"
   ]
  },
  {
   "cell_type": "code",
   "execution_count": 10,
   "metadata": {},
   "outputs": [
    {
     "data": {
      "image/png": "[encoded data removed]",
      "text/plain": [
       "<Figure size 432x288 with 1 Axes>"
      ]
     },
     "metadata": {
      "needs_background": "light"
     },
     "output_type": "display_data"
    }
   ],
   "source": [
    "plt.figure()\n",
    "plt.xlabel(\"Number of features selected\")\n",
    "plt.ylabel(\"Cross validation score (nb of correct classifications)\")\n",
    "plt.plot(range(1, len(rfecv.grid_scores_) + 1), rfecv.grid_scores_)\n",
    "plt.show()"
   ]
  },
  {
   "cell_type": "code",
   "execution_count": 11,
   "metadata": {},
   "outputs": [
    {
     "name": "stdout",
     "output_type": "stream",
     "text": [
      "0.8619853830380146\n"
     ]
    }
   ],
   "source": [
    "print(rfecv.grid_scores_[rfecv.n_features_])"
   ]
  },
  {
   "cell_type": "code",
   "execution_count": 13,
   "metadata": {},
   "outputs": [
    {
     "data": {
      "text/html": [
       "<div>\n",
       "<style scoped>\n",
       "    .dataframe tbody tr th:only-of-type {\n",
       "        vertical-align: middle;\n",
       "    }\n",
       "\n",
       "    .dataframe tbody tr th {\n",
       "        vertical-align: top;\n",
       "    }\n",
       "\n",
       "    .dataframe thead th {\n",
       "        text-align: right;\n",
       "    }\n",
       "</style>\n",
       "<table border=\"1\" class=\"dataframe\">\n",
       "  <thead>\n",
       "    <tr style=\"text-align: right;\">\n",
       "      <th></th>\n",
       "      <th>ID</th>\n",
       "      <th>GROUP</th>\n",
       "      <th>CHEF_CLUB</th>\n",
       "      <th>NUM_DEAL</th>\n",
       "      <th>LAST_DEAL</th>\n",
       "      <th>ADVANCE_PURCHASE</th>\n",
       "      <th>FARE_L_Y1</th>\n",
       "      <th>FARE_L_Y2</th>\n",
       "      <th>FARE_L_Y3</th>\n",
       "      <th>FARE_L_Y4</th>\n",
       "      <th>...</th>\n",
       "      <th>POINTS_L_Y1</th>\n",
       "      <th>POINTS_L_Y2</th>\n",
       "      <th>POINTS_L_Y3</th>\n",
       "      <th>POINTS_L_Y4</th>\n",
       "      <th>POINTS_L_Y5</th>\n",
       "      <th>CALL_FLAG</th>\n",
       "      <th>CREDIT_PROBLEM</th>\n",
       "      <th>RETURN_FLAG</th>\n",
       "      <th>BENEFIT_FLAG</th>\n",
       "      <th>BUYER_FLAG</th>\n",
       "    </tr>\n",
       "  </thead>\n",
       "  <tbody>\n",
       "    <tr>\n",
       "      <th>0</th>\n",
       "      <td>1</td>\n",
       "      <td>1</td>\n",
       "      <td>0</td>\n",
       "      <td>5</td>\n",
       "      <td>23.3</td>\n",
       "      <td>12</td>\n",
       "      <td>111.7</td>\n",
       "      <td>113.3</td>\n",
       "      <td>117.5</td>\n",
       "      <td>119.2</td>\n",
       "      <td>...</td>\n",
       "      <td>140.6</td>\n",
       "      <td>121.1</td>\n",
       "      <td>122.6</td>\n",
       "      <td>133.5</td>\n",
       "      <td>138.2</td>\n",
       "      <td>0</td>\n",
       "      <td>1</td>\n",
       "      <td>0</td>\n",
       "      <td>0</td>\n",
       "      <td>0</td>\n",
       "    </tr>\n",
       "    <tr>\n",
       "      <th>1</th>\n",
       "      <td>2</td>\n",
       "      <td>1</td>\n",
       "      <td>0</td>\n",
       "      <td>2</td>\n",
       "      <td>60.0</td>\n",
       "      <td>19</td>\n",
       "      <td>116.7</td>\n",
       "      <td>120.0</td>\n",
       "      <td>115.0</td>\n",
       "      <td>117.5</td>\n",
       "      <td>...</td>\n",
       "      <td>92.3</td>\n",
       "      <td>97.9</td>\n",
       "      <td>78.5</td>\n",
       "      <td>59.8</td>\n",
       "      <td>66.5</td>\n",
       "      <td>0</td>\n",
       "      <td>0</td>\n",
       "      <td>0</td>\n",
       "      <td>0</td>\n",
       "      <td>0</td>\n",
       "    </tr>\n",
       "    <tr>\n",
       "      <th>2</th>\n",
       "      <td>3</td>\n",
       "      <td>5</td>\n",
       "      <td>0</td>\n",
       "      <td>2</td>\n",
       "      <td>83.3</td>\n",
       "      <td>20</td>\n",
       "      <td>152.5</td>\n",
       "      <td>149.2</td>\n",
       "      <td>150.8</td>\n",
       "      <td>152.5</td>\n",
       "      <td>...</td>\n",
       "      <td>168.5</td>\n",
       "      <td>166.8</td>\n",
       "      <td>182.2</td>\n",
       "      <td>163.4</td>\n",
       "      <td>150.4</td>\n",
       "      <td>0</td>\n",
       "      <td>0</td>\n",
       "      <td>0</td>\n",
       "      <td>0</td>\n",
       "      <td>0</td>\n",
       "    </tr>\n",
       "    <tr>\n",
       "      <th>3</th>\n",
       "      <td>4</td>\n",
       "      <td>3</td>\n",
       "      <td>0</td>\n",
       "      <td>6</td>\n",
       "      <td>16.7</td>\n",
       "      <td>18</td>\n",
       "      <td>126.7</td>\n",
       "      <td>118.3</td>\n",
       "      <td>94.2</td>\n",
       "      <td>81.7</td>\n",
       "      <td>...</td>\n",
       "      <td>84.9</td>\n",
       "      <td>73.8</td>\n",
       "      <td>74.6</td>\n",
       "      <td>70.8</td>\n",
       "      <td>74.3</td>\n",
       "      <td>0</td>\n",
       "      <td>0</td>\n",
       "      <td>0</td>\n",
       "      <td>0</td>\n",
       "      <td>0</td>\n",
       "    </tr>\n",
       "    <tr>\n",
       "      <th>4</th>\n",
       "      <td>5</td>\n",
       "      <td>5</td>\n",
       "      <td>0</td>\n",
       "      <td>4</td>\n",
       "      <td>43.3</td>\n",
       "      <td>25</td>\n",
       "      <td>163.3</td>\n",
       "      <td>162.5</td>\n",
       "      <td>165.8</td>\n",
       "      <td>171.7</td>\n",
       "      <td>...</td>\n",
       "      <td>166.9</td>\n",
       "      <td>173.8</td>\n",
       "      <td>162.7</td>\n",
       "      <td>124.8</td>\n",
       "      <td>156.8</td>\n",
       "      <td>1</td>\n",
       "      <td>0</td>\n",
       "      <td>0</td>\n",
       "      <td>0</td>\n",
       "      <td>1</td>\n",
       "    </tr>\n",
       "    <tr>\n",
       "      <th>5</th>\n",
       "      <td>6</td>\n",
       "      <td>2</td>\n",
       "      <td>0</td>\n",
       "      <td>6</td>\n",
       "      <td>26.7</td>\n",
       "      <td>23</td>\n",
       "      <td>147.5</td>\n",
       "      <td>148.3</td>\n",
       "      <td>158.3</td>\n",
       "      <td>156.7</td>\n",
       "      <td>...</td>\n",
       "      <td>198.4</td>\n",
       "      <td>200.8</td>\n",
       "      <td>166.3</td>\n",
       "      <td>170.3</td>\n",
       "      <td>177.2</td>\n",
       "      <td>0</td>\n",
       "      <td>0</td>\n",
       "      <td>0</td>\n",
       "      <td>0</td>\n",
       "      <td>0</td>\n",
       "    </tr>\n",
       "    <tr>\n",
       "      <th>6</th>\n",
       "      <td>7</td>\n",
       "      <td>2</td>\n",
       "      <td>0</td>\n",
       "      <td>7</td>\n",
       "      <td>20.0</td>\n",
       "      <td>22</td>\n",
       "      <td>102.5</td>\n",
       "      <td>106.7</td>\n",
       "      <td>119.2</td>\n",
       "      <td>110.0</td>\n",
       "      <td>...</td>\n",
       "      <td>108.4</td>\n",
       "      <td>81.9</td>\n",
       "      <td>109.8</td>\n",
       "      <td>100.5</td>\n",
       "      <td>137.4</td>\n",
       "      <td>0</td>\n",
       "      <td>0</td>\n",
       "      <td>0</td>\n",
       "      <td>0</td>\n",
       "      <td>0</td>\n",
       "    </tr>\n",
       "    <tr>\n",
       "      <th>7</th>\n",
       "      <td>8</td>\n",
       "      <td>2</td>\n",
       "      <td>0</td>\n",
       "      <td>4</td>\n",
       "      <td>30.0</td>\n",
       "      <td>20</td>\n",
       "      <td>114.2</td>\n",
       "      <td>110.0</td>\n",
       "      <td>106.7</td>\n",
       "      <td>118.3</td>\n",
       "      <td>...</td>\n",
       "      <td>125.0</td>\n",
       "      <td>98.4</td>\n",
       "      <td>96.8</td>\n",
       "      <td>147.6</td>\n",
       "      <td>137.9</td>\n",
       "      <td>0</td>\n",
       "      <td>1</td>\n",
       "      <td>0</td>\n",
       "      <td>0</td>\n",
       "      <td>0</td>\n",
       "    </tr>\n",
       "    <tr>\n",
       "      <th>8</th>\n",
       "      <td>9</td>\n",
       "      <td>2</td>\n",
       "      <td>0</td>\n",
       "      <td>4</td>\n",
       "      <td>56.7</td>\n",
       "      <td>25</td>\n",
       "      <td>227.5</td>\n",
       "      <td>230.0</td>\n",
       "      <td>225.8</td>\n",
       "      <td>210.0</td>\n",
       "      <td>...</td>\n",
       "      <td>287.9</td>\n",
       "      <td>268.5</td>\n",
       "      <td>233.1</td>\n",
       "      <td>243.9</td>\n",
       "      <td>255.5</td>\n",
       "      <td>1</td>\n",
       "      <td>0</td>\n",
       "      <td>0</td>\n",
       "      <td>0</td>\n",
       "      <td>0</td>\n",
       "    </tr>\n",
       "    <tr>\n",
       "      <th>9</th>\n",
       "      <td>10</td>\n",
       "      <td>2</td>\n",
       "      <td>0</td>\n",
       "      <td>4</td>\n",
       "      <td>43.3</td>\n",
       "      <td>28</td>\n",
       "      <td>180.8</td>\n",
       "      <td>175.0</td>\n",
       "      <td>181.7</td>\n",
       "      <td>173.3</td>\n",
       "      <td>...</td>\n",
       "      <td>274.2</td>\n",
       "      <td>245.9</td>\n",
       "      <td>176.5</td>\n",
       "      <td>188.6</td>\n",
       "      <td>206.8</td>\n",
       "      <td>0</td>\n",
       "      <td>0</td>\n",
       "      <td>0</td>\n",
       "      <td>1</td>\n",
       "      <td>1</td>\n",
       "    </tr>\n",
       "  </tbody>\n",
       "</table>\n",
       "<p>10 rows × 21 columns</p>\n",
       "</div>"
      ],
      "text/plain": [
       "   ID  GROUP  CHEF_CLUB  NUM_DEAL  LAST_DEAL  ADVANCE_PURCHASE  FARE_L_Y1  \\\n",
       "0   1      1          0         5       23.3                12      111.7   \n",
       "1   2      1          0         2       60.0                19      116.7   \n",
       "2   3      5          0         2       83.3                20      152.5   \n",
       "3   4      3          0         6       16.7                18      126.7   \n",
       "4   5      5          0         4       43.3                25      163.3   \n",
       "5   6      2          0         6       26.7                23      147.5   \n",
       "6   7      2          0         7       20.0                22      102.5   \n",
       "7   8      2          0         4       30.0                20      114.2   \n",
       "8   9      2          0         4       56.7                25      227.5   \n",
       "9  10      2          0         4       43.3                28      180.8   \n",
       "\n",
       "   FARE_L_Y2  FARE_L_Y3  FARE_L_Y4  ...  POINTS_L_Y1  POINTS_L_Y2  \\\n",
       "0      113.3      117.5      119.2  ...        140.6        121.1   \n",
       "1      120.0      115.0      117.5  ...         92.3         97.9   \n",
       "2      149.2      150.8      152.5  ...        168.5        166.8   \n",
       "3      118.3       94.2       81.7  ...         84.9         73.8   \n",
       "4      162.5      165.8      171.7  ...        166.9        173.8   \n",
       "5      148.3      158.3      156.7  ...        198.4        200.8   \n",
       "6      106.7      119.2      110.0  ...        108.4         81.9   \n",
       "7      110.0      106.7      118.3  ...        125.0         98.4   \n",
       "8      230.0      225.8      210.0  ...        287.9        268.5   \n",
       "9      175.0      181.7      173.3  ...        274.2        245.9   \n",
       "\n",
       "   POINTS_L_Y3  POINTS_L_Y4  POINTS_L_Y5  CALL_FLAG  CREDIT_PROBLEM  \\\n",
       "0        122.6        133.5        138.2          0               1   \n",
       "1         78.5         59.8         66.5          0               0   \n",
       "2        182.2        163.4        150.4          0               0   \n",
       "3         74.6         70.8         74.3          0               0   \n",
       "4        162.7        124.8        156.8          1               0   \n",
       "5        166.3        170.3        177.2          0               0   \n",
       "6        109.8        100.5        137.4          0               0   \n",
       "7         96.8        147.6        137.9          0               1   \n",
       "8        233.1        243.9        255.5          1               0   \n",
       "9        176.5        188.6        206.8          0               0   \n",
       "\n",
       "   RETURN_FLAG  BENEFIT_FLAG  BUYER_FLAG  \n",
       "0            0             0           0  \n",
       "1            0             0           0  \n",
       "2            0             0           0  \n",
       "3            0             0           0  \n",
       "4            0             0           1  \n",
       "5            0             0           0  \n",
       "6            0             0           0  \n",
       "7            0             0           0  \n",
       "8            0             0           0  \n",
       "9            0             1           1  \n",
       "\n",
       "[10 rows x 21 columns]"
      ]
     },
     "execution_count": 13,
     "metadata": {},
     "output_type": "execute_result"
    }
   ],
   "source": [
    "reviews['rating'] = 0\n",
    "features_reviews = reviews[reviews.columns[1:-1]]\n",
    "reviews_rating = pd.DataFrame(rfecv.predict(features_reviews))\n",
    "reviews['rating'] = reviews_rating\n",
    "#reviews.to_csv(r'C:\\\\Users\\\\or.hirshman\\\\Downloads\\\\final_project\\\\reviews_train_rating.csv', index = True)\n",
    "data.head(10)"
   ]
  },
  {
   "cell_type": "code",
   "execution_count": 19,
   "metadata": {},
   "outputs": [],
   "source": [
    "reviews_withOnlyRating = pd.DataFrame(reviews, columns = ['ID', 'rating']) \n",
    "data_withRating = pd.merge(data, reviews_withOnlyRating, how='outer', left_on='ID', right_on='ID')\n",
    "data_withRating['rating'] = data_withRating['rating'].fillna(2)\n",
    "#data_withRating.to_csv(r'C:\\\\Users\\\\or.hirshman\\\\Downloads\\\\final_project\\\\data_train_withRating2.csv', index = True)\n",
    "\n",
    "withoutId = data_withRating[data_withRating.columns[1:]]\n",
    "\n",
    "rows_to_remove = withoutId[ (withoutId['LAST_DEAL'] == 0) & (withoutId['FARE_L_Y1'] > 0)].index\n",
    "withoutId = withoutId.drop(rows_to_remove)\n",
    "\n",
    "#withoutId['bad_customer'] = withoutId['RETURN_FLAG']* withoutId['CALL_FLAG']\n",
    "#withoutId['mean_deal'] = withoutId['FARE_L_Y1']/ withoutId['NUM_DEAL']\n",
    "#withoutId['avg_FARE'] = withoutId[['FARE_L_Y1', 'FARE_L_Y2' , 'FARE_L_Y3', 'FARE_L_Y4', 'FARE_L_Y5']].mean(axis=1)\n",
    "#withoutId['avg_POINTS'] = withoutId[['POINTS_L_Y1', 'POINTS_L_Y2' , 'POINTS_L_Y3', 'POINTS_L_Y4', 'POINTS_L_Y5']].mean(axis=1)\n",
    "#withoutId.loc[withoutId.NUM_DEAL == 0, ['mean_deal']] = 0\n",
    "\n",
    "withoutId['GROUP'] = pd.Categorical(withoutId.GROUP)\n",
    "withoutId['CHEF_CLUB'] = pd.Categorical(withoutId.CHEF_CLUB)\n",
    "withoutId['CALL_FLAG'] = pd.Categorical(withoutId.CALL_FLAG)\n",
    "withoutId['CREDIT_PROBLEM'] = pd.Categorical(withoutId.CREDIT_PROBLEM)\n",
    "withoutId['RETURN_FLAG'] = pd.Categorical(withoutId.RETURN_FLAG)\n",
    "withoutId['BENEFIT_FLAG'] = pd.Categorical(withoutId.BENEFIT_FLAG)\n",
    "withoutId['BUYER_FLAG'] = pd.Categorical(withoutId.BUYER_FLAG)\n",
    "withoutId['rating'] = pd.Categorical(withoutId.rating)\n",
    "\n",
    "X_all = withoutId.loc[:, withoutId.columns != 'BUYER_FLAG']\n",
    "y_all = withoutId['BUYER_FLAG'].values"
   ]
  },
  {
   "cell_type": "code",
   "execution_count": 17,
   "metadata": {},
   "outputs": [
    {
     "data": {
      "text/html": [
       "<div>\n",
       "<style scoped>\n",
       "    .dataframe tbody tr th:only-of-type {\n",
       "        vertical-align: middle;\n",
       "    }\n",
       "\n",
       "    .dataframe tbody tr th {\n",
       "        vertical-align: top;\n",
       "    }\n",
       "\n",
       "    .dataframe thead th {\n",
       "        text-align: right;\n",
       "    }\n",
       "</style>\n",
       "<table border=\"1\" class=\"dataframe\">\n",
       "  <thead>\n",
       "    <tr style=\"text-align: right;\">\n",
       "      <th></th>\n",
       "      <th>ID</th>\n",
       "      <th>GROUP</th>\n",
       "      <th>CHEF_CLUB</th>\n",
       "      <th>NUM_DEAL</th>\n",
       "      <th>LAST_DEAL</th>\n",
       "      <th>ADVANCE_PURCHASE</th>\n",
       "      <th>FARE_L_Y1</th>\n",
       "      <th>FARE_L_Y2</th>\n",
       "      <th>FARE_L_Y3</th>\n",
       "      <th>FARE_L_Y4</th>\n",
       "      <th>...</th>\n",
       "      <th>POINTS_L_Y2</th>\n",
       "      <th>POINTS_L_Y3</th>\n",
       "      <th>POINTS_L_Y4</th>\n",
       "      <th>POINTS_L_Y5</th>\n",
       "      <th>CALL_FLAG</th>\n",
       "      <th>CREDIT_PROBLEM</th>\n",
       "      <th>RETURN_FLAG</th>\n",
       "      <th>BENEFIT_FLAG</th>\n",
       "      <th>BUYER_FLAG</th>\n",
       "      <th>rating</th>\n",
       "    </tr>\n",
       "  </thead>\n",
       "  <tbody>\n",
       "    <tr>\n",
       "      <th>76</th>\n",
       "      <td>77</td>\n",
       "      <td>4</td>\n",
       "      <td>0</td>\n",
       "      <td>3</td>\n",
       "      <td>53.3</td>\n",
       "      <td>14</td>\n",
       "      <td>124.2</td>\n",
       "      <td>130.8</td>\n",
       "      <td>137.5</td>\n",
       "      <td>151.7</td>\n",
       "      <td>...</td>\n",
       "      <td>97.4</td>\n",
       "      <td>146.8</td>\n",
       "      <td>134.3</td>\n",
       "      <td>180.4</td>\n",
       "      <td>0</td>\n",
       "      <td>1</td>\n",
       "      <td>0</td>\n",
       "      <td>0</td>\n",
       "      <td>1</td>\n",
       "      <td>1.0</td>\n",
       "    </tr>\n",
       "    <tr>\n",
       "      <th>103</th>\n",
       "      <td>104</td>\n",
       "      <td>5</td>\n",
       "      <td>0</td>\n",
       "      <td>5</td>\n",
       "      <td>33.3</td>\n",
       "      <td>16</td>\n",
       "      <td>162.5</td>\n",
       "      <td>163.3</td>\n",
       "      <td>154.2</td>\n",
       "      <td>154.2</td>\n",
       "      <td>...</td>\n",
       "      <td>211.2</td>\n",
       "      <td>217.6</td>\n",
       "      <td>193.7</td>\n",
       "      <td>153.9</td>\n",
       "      <td>0</td>\n",
       "      <td>0</td>\n",
       "      <td>0</td>\n",
       "      <td>0</td>\n",
       "      <td>0</td>\n",
       "      <td>1.0</td>\n",
       "    </tr>\n",
       "    <tr>\n",
       "      <th>108</th>\n",
       "      <td>109</td>\n",
       "      <td>1</td>\n",
       "      <td>0</td>\n",
       "      <td>5</td>\n",
       "      <td>30.0</td>\n",
       "      <td>17</td>\n",
       "      <td>109.2</td>\n",
       "      <td>110.0</td>\n",
       "      <td>120.8</td>\n",
       "      <td>130.8</td>\n",
       "      <td>...</td>\n",
       "      <td>111.8</td>\n",
       "      <td>147.8</td>\n",
       "      <td>175.3</td>\n",
       "      <td>170.2</td>\n",
       "      <td>0</td>\n",
       "      <td>0</td>\n",
       "      <td>0</td>\n",
       "      <td>0</td>\n",
       "      <td>0</td>\n",
       "      <td>0.0</td>\n",
       "    </tr>\n",
       "    <tr>\n",
       "      <th>109</th>\n",
       "      <td>110</td>\n",
       "      <td>3</td>\n",
       "      <td>0</td>\n",
       "      <td>6</td>\n",
       "      <td>36.7</td>\n",
       "      <td>35</td>\n",
       "      <td>195.0</td>\n",
       "      <td>200.0</td>\n",
       "      <td>206.7</td>\n",
       "      <td>216.7</td>\n",
       "      <td>...</td>\n",
       "      <td>230.5</td>\n",
       "      <td>197.2</td>\n",
       "      <td>189.7</td>\n",
       "      <td>238.2</td>\n",
       "      <td>0</td>\n",
       "      <td>0</td>\n",
       "      <td>0</td>\n",
       "      <td>0</td>\n",
       "      <td>0</td>\n",
       "      <td>NaN</td>\n",
       "    </tr>\n",
       "    <tr>\n",
       "      <th>115</th>\n",
       "      <td>116</td>\n",
       "      <td>5</td>\n",
       "      <td>0</td>\n",
       "      <td>3</td>\n",
       "      <td>40.0</td>\n",
       "      <td>19</td>\n",
       "      <td>107.5</td>\n",
       "      <td>118.3</td>\n",
       "      <td>112.5</td>\n",
       "      <td>104.2</td>\n",
       "      <td>...</td>\n",
       "      <td>119.0</td>\n",
       "      <td>125.0</td>\n",
       "      <td>144.4</td>\n",
       "      <td>125.1</td>\n",
       "      <td>0</td>\n",
       "      <td>1</td>\n",
       "      <td>0</td>\n",
       "      <td>0</td>\n",
       "      <td>1</td>\n",
       "      <td>1.0</td>\n",
       "    </tr>\n",
       "    <tr>\n",
       "      <th>122</th>\n",
       "      <td>123</td>\n",
       "      <td>1</td>\n",
       "      <td>0</td>\n",
       "      <td>1</td>\n",
       "      <td>103.3</td>\n",
       "      <td>15</td>\n",
       "      <td>100.8</td>\n",
       "      <td>103.3</td>\n",
       "      <td>111.7</td>\n",
       "      <td>117.5</td>\n",
       "      <td>...</td>\n",
       "      <td>124.4</td>\n",
       "      <td>148.0</td>\n",
       "      <td>110.4</td>\n",
       "      <td>136.4</td>\n",
       "      <td>0</td>\n",
       "      <td>0</td>\n",
       "      <td>0</td>\n",
       "      <td>0</td>\n",
       "      <td>1</td>\n",
       "      <td>1.0</td>\n",
       "    </tr>\n",
       "  </tbody>\n",
       "</table>\n",
       "<p>6 rows × 22 columns</p>\n",
       "</div>"
      ],
      "text/plain": [
       "      ID  GROUP  CHEF_CLUB  NUM_DEAL  LAST_DEAL  ADVANCE_PURCHASE  FARE_L_Y1  \\\n",
       "76    77      4          0         3       53.3                14      124.2   \n",
       "103  104      5          0         5       33.3                16      162.5   \n",
       "108  109      1          0         5       30.0                17      109.2   \n",
       "109  110      3          0         6       36.7                35      195.0   \n",
       "115  116      5          0         3       40.0                19      107.5   \n",
       "122  123      1          0         1      103.3                15      100.8   \n",
       "\n",
       "     FARE_L_Y2  FARE_L_Y3  FARE_L_Y4  ...  POINTS_L_Y2  POINTS_L_Y3  \\\n",
       "76       130.8      137.5      151.7  ...         97.4        146.8   \n",
       "103      163.3      154.2      154.2  ...        211.2        217.6   \n",
       "108      110.0      120.8      130.8  ...        111.8        147.8   \n",
       "109      200.0      206.7      216.7  ...        230.5        197.2   \n",
       "115      118.3      112.5      104.2  ...        119.0        125.0   \n",
       "122      103.3      111.7      117.5  ...        124.4        148.0   \n",
       "\n",
       "     POINTS_L_Y4  POINTS_L_Y5  CALL_FLAG  CREDIT_PROBLEM  RETURN_FLAG  \\\n",
       "76         134.3        180.4          0               1            0   \n",
       "103        193.7        153.9          0               0            0   \n",
       "108        175.3        170.2          0               0            0   \n",
       "109        189.7        238.2          0               0            0   \n",
       "115        144.4        125.1          0               1            0   \n",
       "122        110.4        136.4          0               0            0   \n",
       "\n",
       "     BENEFIT_FLAG  BUYER_FLAG  rating  \n",
       "76              0           1     1.0  \n",
       "103             0           0     1.0  \n",
       "108             0           0     0.0  \n",
       "109             0           0     NaN  \n",
       "115             0           1     1.0  \n",
       "122             0           1     1.0  \n",
       "\n",
       "[6 rows x 22 columns]"
      ]
     },
     "execution_count": 17,
     "metadata": {},
     "output_type": "execute_result"
    }
   ],
   "source": [
    "#data_withRating.loc[data_withRating['ID'].isin({77,104,109,110,116,123})]"
   ]
  },
  {
   "cell_type": "code",
   "execution_count": 21,
   "metadata": {},
   "outputs": [],
   "source": [
    "#data_withRating.loc[data_withRating.NUM_DEAL == 0, 'NUM_DEAL'] = 1\n",
    "#change all zero values of num_deal to 1"
   ]
  },
  {
   "cell_type": "code",
   "execution_count": 369,
   "metadata": {},
   "outputs": [],
   "source": [
    "#withoutId[['mean_deal']] = withoutId[['mean_deal']].fillna(value=0)"
   ]
  },
  {
   "cell_type": "code",
   "execution_count": 277,
   "metadata": {},
   "outputs": [
    {
     "data": {
      "text/plain": [
       "0        0\n",
       "1        0\n",
       "2        0\n",
       "3        0\n",
       "4        0\n",
       "        ..\n",
       "44995    1\n",
       "44996    0\n",
       "44997    0\n",
       "44998    0\n",
       "44999    0\n",
       "Name: BENEFIT_FLAG, Length: 43431, dtype: category\n",
       "Categories (2, int64): [0, 1]"
      ]
     },
     "execution_count": 277,
     "metadata": {},
     "output_type": "execute_result"
    }
   ],
   "source": [
    "withoutId['BENEFIT_FLAG'] "
   ]
  },
  {
   "cell_type": "code",
   "execution_count": 224,
   "metadata": {},
   "outputs": [
    {
     "ename": "SyntaxError",
     "evalue": "invalid syntax (<ipython-input-224-36b80b2d9050>, line 2)",
     "output_type": "error",
     "traceback": [
      "\u001b[1;36m  File \u001b[1;32m\"<ipython-input-224-36b80b2d9050>\"\u001b[1;36m, line \u001b[1;32m2\u001b[0m\n\u001b[1;33m    withoutId.loc[data_withRating['CREDIT_PROBLEM']==1)]\u001b[0m\n\u001b[1;37m                                                      ^\u001b[0m\n\u001b[1;31mSyntaxError\u001b[0m\u001b[1;31m:\u001b[0m invalid syntax\n"
     ]
    }
   ],
   "source": [
    "#withoutId.loc[data_withRating['ID'].isin({77,104,109,110,116,123})]\n",
    "#withoutId.loc[data_withRating['CREDIT_PROBLEM']==1]"
   ]
  },
  {
   "cell_type": "code",
   "execution_count": 189,
   "metadata": {},
   "outputs": [],
   "source": [
    "#withoutId.loc[withoutId.NUM_DEAL == 0, ['mean_deal']] = 0"
   ]
  },
  {
   "cell_type": "code",
   "execution_count": 190,
   "metadata": {},
   "outputs": [
    {
     "data": {
      "text/plain": [
       "GROUP               0\n",
       "CHEF_CLUB           0\n",
       "NUM_DEAL            0\n",
       "LAST_DEAL           0\n",
       "ADVANCE_PURCHASE    0\n",
       "FARE_L_Y1           0\n",
       "FARE_L_Y2           0\n",
       "FARE_L_Y3           0\n",
       "FARE_L_Y4           0\n",
       "FARE_L_Y5           0\n",
       "POINTS_L_Y1         0\n",
       "POINTS_L_Y2         0\n",
       "POINTS_L_Y3         0\n",
       "POINTS_L_Y4         0\n",
       "POINTS_L_Y5         0\n",
       "CALL_FLAG           0\n",
       "CREDIT_PROBLEM      0\n",
       "RETURN_FLAG         0\n",
       "BENEFIT_FLAG        0\n",
       "BUYER_FLAG          0\n",
       "rating              0\n",
       "mean_deal           0\n",
       "avg_FARE            0\n",
       "avg_POINTS          0\n",
       "dtype: int64"
      ]
     },
     "execution_count": 190,
     "metadata": {},
     "output_type": "execute_result"
    }
   ],
   "source": [
    "withoutId.isnull().sum()"
   ]
  },
  {
   "cell_type": "code",
   "execution_count": 192,
   "metadata": {},
   "outputs": [
    {
     "data": {
      "text/html": [
       "<div>\n",
       "<style scoped>\n",
       "    .dataframe tbody tr th:only-of-type {\n",
       "        vertical-align: middle;\n",
       "    }\n",
       "\n",
       "    .dataframe tbody tr th {\n",
       "        vertical-align: top;\n",
       "    }\n",
       "\n",
       "    .dataframe thead th {\n",
       "        text-align: right;\n",
       "    }\n",
       "</style>\n",
       "<table border=\"1\" class=\"dataframe\">\n",
       "  <thead>\n",
       "    <tr style=\"text-align: right;\">\n",
       "      <th></th>\n",
       "      <th>NUM_DEAL</th>\n",
       "      <th>LAST_DEAL</th>\n",
       "      <th>ADVANCE_PURCHASE</th>\n",
       "      <th>FARE_L_Y1</th>\n",
       "      <th>FARE_L_Y2</th>\n",
       "      <th>FARE_L_Y3</th>\n",
       "      <th>FARE_L_Y4</th>\n",
       "      <th>FARE_L_Y5</th>\n",
       "      <th>POINTS_L_Y1</th>\n",
       "      <th>POINTS_L_Y2</th>\n",
       "      <th>POINTS_L_Y3</th>\n",
       "      <th>POINTS_L_Y4</th>\n",
       "      <th>POINTS_L_Y5</th>\n",
       "      <th>mean_deal</th>\n",
       "      <th>avg_FARE</th>\n",
       "      <th>avg_POINTS</th>\n",
       "    </tr>\n",
       "  </thead>\n",
       "  <tbody>\n",
       "    <tr>\n",
       "      <th>count</th>\n",
       "      <td>43431.000000</td>\n",
       "      <td>43431.000000</td>\n",
       "      <td>43431.000000</td>\n",
       "      <td>43431.000000</td>\n",
       "      <td>43431.000000</td>\n",
       "      <td>43431.000000</td>\n",
       "      <td>43431.000000</td>\n",
       "      <td>43431.000000</td>\n",
       "      <td>43431.000000</td>\n",
       "      <td>43431.000000</td>\n",
       "      <td>43431.000000</td>\n",
       "      <td>43431.000000</td>\n",
       "      <td>43431.000000</td>\n",
       "      <td>43431.000000</td>\n",
       "      <td>43431.000000</td>\n",
       "      <td>43431.000000</td>\n",
       "    </tr>\n",
       "    <tr>\n",
       "      <th>mean</th>\n",
       "      <td>4.002901</td>\n",
       "      <td>51.728719</td>\n",
       "      <td>20.709332</td>\n",
       "      <td>150.969902</td>\n",
       "      <td>151.073982</td>\n",
       "      <td>151.170747</td>\n",
       "      <td>151.045196</td>\n",
       "      <td>150.963342</td>\n",
       "      <td>150.314667</td>\n",
       "      <td>150.273429</td>\n",
       "      <td>150.290224</td>\n",
       "      <td>150.329847</td>\n",
       "      <td>150.469416</td>\n",
       "      <td>50.134084</td>\n",
       "      <td>151.044634</td>\n",
       "      <td>150.335517</td>\n",
       "    </tr>\n",
       "    <tr>\n",
       "      <th>std</th>\n",
       "      <td>1.861863</td>\n",
       "      <td>38.858180</td>\n",
       "      <td>4.668955</td>\n",
       "      <td>49.988596</td>\n",
       "      <td>49.835978</td>\n",
       "      <td>49.965246</td>\n",
       "      <td>49.872660</td>\n",
       "      <td>49.849371</td>\n",
       "      <td>56.451872</td>\n",
       "      <td>56.412660</td>\n",
       "      <td>56.429583</td>\n",
       "      <td>56.288353</td>\n",
       "      <td>56.504631</td>\n",
       "      <td>38.870242</td>\n",
       "      <td>49.043979</td>\n",
       "      <td>53.271077</td>\n",
       "    </tr>\n",
       "    <tr>\n",
       "      <th>min</th>\n",
       "      <td>0.000000</td>\n",
       "      <td>0.000000</td>\n",
       "      <td>6.000000</td>\n",
       "      <td>0.000000</td>\n",
       "      <td>0.000000</td>\n",
       "      <td>0.000000</td>\n",
       "      <td>0.000000</td>\n",
       "      <td>0.000000</td>\n",
       "      <td>0.000000</td>\n",
       "      <td>0.000000</td>\n",
       "      <td>0.000000</td>\n",
       "      <td>0.000000</td>\n",
       "      <td>0.000000</td>\n",
       "      <td>0.000000</td>\n",
       "      <td>20.660000</td>\n",
       "      <td>15.500000</td>\n",
       "    </tr>\n",
       "    <tr>\n",
       "      <th>25%</th>\n",
       "      <td>3.000000</td>\n",
       "      <td>26.700000</td>\n",
       "      <td>17.000000</td>\n",
       "      <td>115.000000</td>\n",
       "      <td>115.000000</td>\n",
       "      <td>115.000000</td>\n",
       "      <td>115.000000</td>\n",
       "      <td>115.000000</td>\n",
       "      <td>112.100000</td>\n",
       "      <td>112.100000</td>\n",
       "      <td>112.100000</td>\n",
       "      <td>112.300000</td>\n",
       "      <td>112.200000</td>\n",
       "      <td>26.450000</td>\n",
       "      <td>115.000000</td>\n",
       "      <td>114.200000</td>\n",
       "    </tr>\n",
       "    <tr>\n",
       "      <th>50%</th>\n",
       "      <td>4.000000</td>\n",
       "      <td>40.000000</td>\n",
       "      <td>21.000000</td>\n",
       "      <td>140.000000</td>\n",
       "      <td>140.800000</td>\n",
       "      <td>140.800000</td>\n",
       "      <td>140.800000</td>\n",
       "      <td>140.800000</td>\n",
       "      <td>141.400000</td>\n",
       "      <td>141.600000</td>\n",
       "      <td>141.500000</td>\n",
       "      <td>141.600000</td>\n",
       "      <td>141.500000</td>\n",
       "      <td>37.500000</td>\n",
       "      <td>141.340000</td>\n",
       "      <td>140.260000</td>\n",
       "    </tr>\n",
       "    <tr>\n",
       "      <th>75%</th>\n",
       "      <td>5.000000</td>\n",
       "      <td>60.000000</td>\n",
       "      <td>24.000000</td>\n",
       "      <td>171.700000</td>\n",
       "      <td>171.700000</td>\n",
       "      <td>171.700000</td>\n",
       "      <td>171.700000</td>\n",
       "      <td>171.700000</td>\n",
       "      <td>177.400000</td>\n",
       "      <td>177.400000</td>\n",
       "      <td>177.500000</td>\n",
       "      <td>177.600000</td>\n",
       "      <td>177.600000</td>\n",
       "      <td>58.333333</td>\n",
       "      <td>172.160000</td>\n",
       "      <td>173.830000</td>\n",
       "    </tr>\n",
       "    <tr>\n",
       "      <th>max</th>\n",
       "      <td>13.000000</td>\n",
       "      <td>493.300000</td>\n",
       "      <td>42.000000</td>\n",
       "      <td>518.300000</td>\n",
       "      <td>524.200000</td>\n",
       "      <td>495.800000</td>\n",
       "      <td>494.200000</td>\n",
       "      <td>515.800000</td>\n",
       "      <td>462.200000</td>\n",
       "      <td>476.200000</td>\n",
       "      <td>467.500000</td>\n",
       "      <td>501.900000</td>\n",
       "      <td>498.600000</td>\n",
       "      <td>423.300000</td>\n",
       "      <td>492.160000</td>\n",
       "      <td>466.840000</td>\n",
       "    </tr>\n",
       "  </tbody>\n",
       "</table>\n",
       "</div>"
      ],
      "text/plain": [
       "           NUM_DEAL     LAST_DEAL  ADVANCE_PURCHASE     FARE_L_Y1  \\\n",
       "count  43431.000000  43431.000000      43431.000000  43431.000000   \n",
       "mean       4.002901     51.728719         20.709332    150.969902   \n",
       "std        1.861863     38.858180          4.668955     49.988596   \n",
       "min        0.000000      0.000000          6.000000      0.000000   \n",
       "25%        3.000000     26.700000         17.000000    115.000000   \n",
       "50%        4.000000     40.000000         21.000000    140.000000   \n",
       "75%        5.000000     60.000000         24.000000    171.700000   \n",
       "max       13.000000    493.300000         42.000000    518.300000   \n",
       "\n",
       "          FARE_L_Y2     FARE_L_Y3     FARE_L_Y4     FARE_L_Y5   POINTS_L_Y1  \\\n",
       "count  43431.000000  43431.000000  43431.000000  43431.000000  43431.000000   \n",
       "mean     151.073982    151.170747    151.045196    150.963342    150.314667   \n",
       "std       49.835978     49.965246     49.872660     49.849371     56.451872   \n",
       "min        0.000000      0.000000      0.000000      0.000000      0.000000   \n",
       "25%      115.000000    115.000000    115.000000    115.000000    112.100000   \n",
       "50%      140.800000    140.800000    140.800000    140.800000    141.400000   \n",
       "75%      171.700000    171.700000    171.700000    171.700000    177.400000   \n",
       "max      524.200000    495.800000    494.200000    515.800000    462.200000   \n",
       "\n",
       "        POINTS_L_Y2   POINTS_L_Y3   POINTS_L_Y4   POINTS_L_Y5     mean_deal  \\\n",
       "count  43431.000000  43431.000000  43431.000000  43431.000000  43431.000000   \n",
       "mean     150.273429    150.290224    150.329847    150.469416     50.134084   \n",
       "std       56.412660     56.429583     56.288353     56.504631     38.870242   \n",
       "min        0.000000      0.000000      0.000000      0.000000      0.000000   \n",
       "25%      112.100000    112.100000    112.300000    112.200000     26.450000   \n",
       "50%      141.600000    141.500000    141.600000    141.500000     37.500000   \n",
       "75%      177.400000    177.500000    177.600000    177.600000     58.333333   \n",
       "max      476.200000    467.500000    501.900000    498.600000    423.300000   \n",
       "\n",
       "           avg_FARE    avg_POINTS  \n",
       "count  43431.000000  43431.000000  \n",
       "mean     151.044634    150.335517  \n",
       "std       49.043979     53.271077  \n",
       "min       20.660000     15.500000  \n",
       "25%      115.000000    114.200000  \n",
       "50%      141.340000    140.260000  \n",
       "75%      172.160000    173.830000  \n",
       "max      492.160000    466.840000  "
      ]
     },
     "execution_count": 192,
     "metadata": {},
     "output_type": "execute_result"
    }
   ],
   "source": [
    "withoutId.describe()"
   ]
  },
  {
   "cell_type": "code",
   "execution_count": 1570,
   "metadata": {},
   "outputs": [],
   "source": [
    "#withoutId.to_csv(r'C:\\\\Users\\\\or.hirshman\\\\Downloads\\\\final_project\\\\withoutId.csv', index = True)"
   ]
  },
  {
   "cell_type": "code",
   "execution_count": 1571,
   "metadata": {},
   "outputs": [],
   "source": [
    "#withoutId[(withoutId[\"NUM_DEAL\"] == 0) & (withoutId[\"FARE_L_Y1\"] ==0) ]"
   ]
  },
  {
   "cell_type": "code",
   "execution_count": 1572,
   "metadata": {},
   "outputs": [],
   "source": [
    "#data_buy = withoutId.loc[withoutId['BUYER_FLAG'] == 1]\n",
    "#data_Notbuy = withoutId.loc[withoutId['BUYER_FLAG'] == 0]"
   ]
  },
  {
   "cell_type": "code",
   "execution_count": 20,
   "metadata": {},
   "outputs": [],
   "source": [
    "X_all = withoutId.loc[:, withoutId.columns != 'BUYER_FLAG']\n",
    "y_all = withoutId['BUYER_FLAG'].values"
   ]
  },
  {
   "cell_type": "code",
   "execution_count": 153,
   "metadata": {},
   "outputs": [
    {
     "data": {
      "text/plain": [
       "4211"
      ]
     },
     "execution_count": 153,
     "metadata": {},
     "output_type": "execute_result"
    }
   ],
   "source": [
    "data_withRating['BUYER_FLAG'].sum()"
   ]
  },
  {
   "cell_type": "code",
   "execution_count": 413,
   "metadata": {},
   "outputs": [],
   "source": [
    "randomForest = RandomForestClassifier(n_estimators=2000, random_state = 22, min_samples_split= 10,\n",
    "                                      min_samples_leaf= 1, max_features= 'sqrt', max_depth=  10, bootstrap= False)"
   ]
  },
  {
   "cell_type": "code",
   "execution_count": null,
   "metadata": {},
   "outputs": [],
   "source": [
    "##### Model 7: ##### random forest"
   ]
  },
  {
   "cell_type": "code",
   "execution_count": 384,
   "metadata": {},
   "outputs": [
    {
     "name": "stdout",
     "output_type": "stream",
     "text": [
      "0.6990777072907111\n"
     ]
    }
   ],
   "source": [
    "X_train, X_test, y_train, y_test = train_test_split(X_all, y_all, test_size=0.3, random_state=49) \n",
    "randomForest = RandomForestClassifier(n_estimators=1000)\n",
    "randomForest.fit(X_train, y_train)\n",
    "predictions_randomForest = randomForest.predict(X_test)\n",
    "probs_randomForest = randomForest.predict_proba(X_test)[:, 1]\n",
    "predictions_randomForest_40=[1 if i > 0.4 else 0 for i in probs_randomForest]\n",
    "predictions_randomForest_30=[1 if i > 0.3 else 0 for i in probs_randomForest]\n",
    "predictions_randomForest_20=[1 if i > 0.2 else 0 for i in probs_randomForest]\n",
    "roc_value_randomForest = roc_auc_score(y_test, predictions_randomForest_20)\n",
    "print(roc_value_randomForest)"
   ]
  },
  {
   "cell_type": "code",
   "execution_count": 385,
   "metadata": {},
   "outputs": [
    {
     "data": {
      "image/png": "[encoded data removed]",
      "text/plain": [
       "<Figure size 432x288 with 1 Axes>"
      ]
     },
     "metadata": {
      "needs_background": "light"
     },
     "output_type": "display_data"
    }
   ],
   "source": [
    "metrics.plot_roc_curve(randomForest, X_test, y_test)\n",
    "plt.show()"
   ]
  },
  {
   "cell_type": "code",
   "execution_count": null,
   "metadata": {},
   "outputs": [],
   "source": [
    "print(\"=== Confusion Matrix ===\")\n",
    "print(confusion_matrix(y_test, predictions_randomForest_40))"
   ]
  },
  {
   "cell_type": "code",
   "execution_count": null,
   "metadata": {},
   "outputs": [],
   "source": [
    "print(\"=== Confusion Matrix ===\")\n",
    "print(confusion_matrix(y_test, predictions_randomForest_30))"
   ]
  },
  {
   "cell_type": "code",
   "execution_count": 386,
   "metadata": {},
   "outputs": [
    {
     "name": "stdout",
     "output_type": "stream",
     "text": [
      "=== Confusion Matrix ===\n",
      "[[10381  1378]\n",
      " [  616   655]]\n"
     ]
    }
   ],
   "source": [
    "print(\"=== Confusion Matrix ===\")\n",
    "print(confusion_matrix(y_test, predictions_randomForest_20))"
   ]
  },
  {
   "cell_type": "code",
   "execution_count": 380,
   "metadata": {},
   "outputs": [
    {
     "data": {
      "text/plain": [
       "13030"
      ]
     },
     "execution_count": 380,
     "metadata": {},
     "output_type": "execute_result"
    }
   ],
   "source": [
    "len(y_test)"
   ]
  },
  {
   "cell_type": "code",
   "execution_count": 383,
   "metadata": {},
   "outputs": [],
   "source": [
    "# Extract feature importances\n",
    "fi_rf = pd.DataFrame({'feature': list(X_train.columns),\n",
    "                   'importance': randomForest.feature_importances_}).\\\n",
    "                    sort_values('importance', ascending = False)"
   ]
  },
  {
   "cell_type": "code",
   "execution_count": 375,
   "metadata": {
    "scrolled": true
   },
   "outputs": [
    {
     "data": {
      "text/html": [
       "<div>\n",
       "<style scoped>\n",
       "    .dataframe tbody tr th:only-of-type {\n",
       "        vertical-align: middle;\n",
       "    }\n",
       "\n",
       "    .dataframe tbody tr th {\n",
       "        vertical-align: top;\n",
       "    }\n",
       "\n",
       "    .dataframe thead th {\n",
       "        text-align: right;\n",
       "    }\n",
       "</style>\n",
       "<table border=\"1\" class=\"dataframe\">\n",
       "  <thead>\n",
       "    <tr style=\"text-align: right;\">\n",
       "      <th></th>\n",
       "      <th>feature</th>\n",
       "      <th>importance</th>\n",
       "    </tr>\n",
       "  </thead>\n",
       "  <tbody>\n",
       "    <tr>\n",
       "      <th>5</th>\n",
       "      <td>FARE_L_Y1</td>\n",
       "      <td>0.082385</td>\n",
       "    </tr>\n",
       "    <tr>\n",
       "      <th>10</th>\n",
       "      <td>POINTS_L_Y1</td>\n",
       "      <td>0.080137</td>\n",
       "    </tr>\n",
       "    <tr>\n",
       "      <th>13</th>\n",
       "      <td>POINTS_L_Y4</td>\n",
       "      <td>0.079577</td>\n",
       "    </tr>\n",
       "    <tr>\n",
       "      <th>14</th>\n",
       "      <td>POINTS_L_Y5</td>\n",
       "      <td>0.079465</td>\n",
       "    </tr>\n",
       "    <tr>\n",
       "      <th>9</th>\n",
       "      <td>FARE_L_Y5</td>\n",
       "      <td>0.078983</td>\n",
       "    </tr>\n",
       "    <tr>\n",
       "      <th>12</th>\n",
       "      <td>POINTS_L_Y3</td>\n",
       "      <td>0.078666</td>\n",
       "    </tr>\n",
       "    <tr>\n",
       "      <th>11</th>\n",
       "      <td>POINTS_L_Y2</td>\n",
       "      <td>0.078409</td>\n",
       "    </tr>\n",
       "    <tr>\n",
       "      <th>8</th>\n",
       "      <td>FARE_L_Y4</td>\n",
       "      <td>0.077395</td>\n",
       "    </tr>\n",
       "    <tr>\n",
       "      <th>6</th>\n",
       "      <td>FARE_L_Y2</td>\n",
       "      <td>0.074197</td>\n",
       "    </tr>\n",
       "    <tr>\n",
       "      <th>7</th>\n",
       "      <td>FARE_L_Y3</td>\n",
       "      <td>0.073579</td>\n",
       "    </tr>\n",
       "    <tr>\n",
       "      <th>4</th>\n",
       "      <td>ADVANCE_PURCHASE</td>\n",
       "      <td>0.052952</td>\n",
       "    </tr>\n",
       "    <tr>\n",
       "      <th>3</th>\n",
       "      <td>LAST_DEAL</td>\n",
       "      <td>0.046959</td>\n",
       "    </tr>\n",
       "    <tr>\n",
       "      <th>19</th>\n",
       "      <td>rating</td>\n",
       "      <td>0.031184</td>\n",
       "    </tr>\n",
       "    <tr>\n",
       "      <th>2</th>\n",
       "      <td>NUM_DEAL</td>\n",
       "      <td>0.030393</td>\n",
       "    </tr>\n",
       "    <tr>\n",
       "      <th>0</th>\n",
       "      <td>GROUP</td>\n",
       "      <td>0.029464</td>\n",
       "    </tr>\n",
       "    <tr>\n",
       "      <th>15</th>\n",
       "      <td>CALL_FLAG</td>\n",
       "      <td>0.011065</td>\n",
       "    </tr>\n",
       "    <tr>\n",
       "      <th>16</th>\n",
       "      <td>CREDIT_PROBLEM</td>\n",
       "      <td>0.006858</td>\n",
       "    </tr>\n",
       "    <tr>\n",
       "      <th>18</th>\n",
       "      <td>BENEFIT_FLAG</td>\n",
       "      <td>0.006291</td>\n",
       "    </tr>\n",
       "    <tr>\n",
       "      <th>17</th>\n",
       "      <td>RETURN_FLAG</td>\n",
       "      <td>0.001894</td>\n",
       "    </tr>\n",
       "    <tr>\n",
       "      <th>1</th>\n",
       "      <td>CHEF_CLUB</td>\n",
       "      <td>0.000146</td>\n",
       "    </tr>\n",
       "  </tbody>\n",
       "</table>\n",
       "</div>"
      ],
      "text/plain": [
       "             feature  importance\n",
       "5          FARE_L_Y1    0.082385\n",
       "10       POINTS_L_Y1    0.080137\n",
       "13       POINTS_L_Y4    0.079577\n",
       "14       POINTS_L_Y5    0.079465\n",
       "9          FARE_L_Y5    0.078983\n",
       "12       POINTS_L_Y3    0.078666\n",
       "11       POINTS_L_Y2    0.078409\n",
       "8          FARE_L_Y4    0.077395\n",
       "6          FARE_L_Y2    0.074197\n",
       "7          FARE_L_Y3    0.073579\n",
       "4   ADVANCE_PURCHASE    0.052952\n",
       "3          LAST_DEAL    0.046959\n",
       "19            rating    0.031184\n",
       "2           NUM_DEAL    0.030393\n",
       "0              GROUP    0.029464\n",
       "15         CALL_FLAG    0.011065\n",
       "16    CREDIT_PROBLEM    0.006858\n",
       "18      BENEFIT_FLAG    0.006291\n",
       "17       RETURN_FLAG    0.001894\n",
       "1          CHEF_CLUB    0.000146"
      ]
     },
     "execution_count": 375,
     "metadata": {},
     "output_type": "execute_result"
    }
   ],
   "source": [
    "fi_rf.head(22)"
   ]
  },
  {
   "cell_type": "code",
   "execution_count": null,
   "metadata": {},
   "outputs": [],
   "source": [
    "##### Model 10: ##### random forest with adding generated features\n",
    "# the same code of model 7 but with the new features included"
   ]
  },
  {
   "cell_type": "code",
   "execution_count": 319,
   "metadata": {},
   "outputs": [],
   "source": [
    "#X_train, X_test, y_train, y_test = train_test_split(X_all, y_all, test_size=0.0667, random_state=4) \n",
    "X_train, X_test, y_train, y_test = train_test_split(X_all, y_all, test_size=0.3, random_state=248) "
   ]
  },
  {
   "cell_type": "code",
   "execution_count": 327,
   "metadata": {},
   "outputs": [
    {
     "name": "stdout",
     "output_type": "stream",
     "text": [
      "Before OverSampling, counts of label '0': 27500 \n",
      "\n",
      "(30401, 20)\n",
      "(55000,)\n",
      "27500\n",
      "27500\n"
     ]
    }
   ],
   "source": [
    "##### Model 9: ##### random forest with smote\n",
    "\n",
    "from imblearn.over_sampling import SMOTE\n",
    "print(\"Before OverSampling, counts of label '0': {} \\n\".format(sum(y_train==0)))\n",
    "\n",
    "sm = SMOTE(random_state=3)\n",
    "X_train_sm, y_train_sm = sm.fit_sample(recaptcha , y_train.ravel())\n",
    "\n",
    "print(X_train.shape)\n",
    "print(y_train_sm.shape)\n",
    "\n",
    "print(sum(y_train_sm==1))\n",
    "print(sum(y_train_sm==0))"
   ]
  },
  {
   "cell_type": "code",
   "execution_count": 363,
   "metadata": {},
   "outputs": [
    {
     "data": {
      "text/plain": [
       "RandomForestClassifier(n_estimators=1000)"
      ]
     },
     "execution_count": 363,
     "metadata": {},
     "output_type": "execute_result"
    }
   ],
   "source": [
    "randomForest_smote = RandomForestClassifier(n_estimators=1000)\n",
    "randomForest_smote.fit(X_train_sm, y_train_sm)"
   ]
  },
  {
   "cell_type": "code",
   "execution_count": 364,
   "metadata": {},
   "outputs": [
    {
     "name": "stdout",
     "output_type": "stream",
     "text": [
      "0.6434788605374585\n"
     ]
    }
   ],
   "source": [
    "predictions_smote = randomForest_smote.predict(scaled_testing_X)\n",
    "probs_smote = randomForest.predict_proba(scaled_testing_X)[:, 1]\n",
    "predictions_smote_40=[1 if i > 0.4 else 0 for i in probs_smote]\n",
    "predictions_smote_30=[1 if i > 0.3 else 0 for i in probs_smote]\n",
    "predictions_smote_20=[1 if i > 0.2 else 0 for i in probs_smote]\n",
    "roc_value_smote = roc_auc_score(y_test, predictions_smote)\n",
    "print(roc_value_smote)"
   ]
  },
  {
   "cell_type": "code",
   "execution_count": 366,
   "metadata": {},
   "outputs": [
    {
     "data": {
      "image/png": "[encoded data removed]",
      "text/plain": [
       "<Figure size 432x288 with 1 Axes>"
      ]
     },
     "metadata": {
      "needs_background": "light"
     },
     "output_type": "display_data"
    }
   ],
   "source": [
    "metrics.plot_roc_curve(randomForest_smote, scaled_testing_X, y_test)\n",
    "plt.show()    "
   ]
  },
  {
   "cell_type": "code",
   "execution_count": 367,
   "metadata": {},
   "outputs": [
    {
     "name": "stdout",
     "output_type": "stream",
     "text": [
      "=== Confusion Matrix ===\n",
      "[[10941   876]\n",
      " [  775   438]]\n"
     ]
    }
   ],
   "source": [
    "print(\"=== Confusion Matrix ===\")\n",
    "print(confusion_matrix(y_test, predictions_smote))"
   ]
  },
  {
   "cell_type": "code",
   "execution_count": 41,
   "metadata": {},
   "outputs": [],
   "source": [
    "#X_train_res.isnull().sum()"
   ]
  },
  {
   "cell_type": "code",
   "execution_count": 342,
   "metadata": {},
   "outputs": [],
   "source": [
    "##### Model 8: ##### random forest under sampling\n",
    "\n",
    "X_train_os, X_test_os, y_train_os, y_test_os = train_test_split(X_all, y_all, test_size=0.0667, random_state=4) \n",
    "X_train_df = pd.DataFrame(data=X_train_os)\n",
    "X_train_df['BUYER_FLAG'] = y_train_os"
   ]
  },
  {
   "cell_type": "code",
   "execution_count": 344,
   "metadata": {},
   "outputs": [
    {
     "name": "stdout",
     "output_type": "stream",
     "text": [
      "8534\n",
      "2897\n"
     ]
    }
   ],
   "source": [
    "to_remove = np.random.choice(X_train_df[X_train_df['BUYER_FLAG']==0].index, 32000, replace=False)\n",
    "X_train_df = X_train_df.drop(to_remove)\n",
    "print(len(X_train_df))\n",
    "print(len(y_test_os))"
   ]
  },
  {
   "cell_type": "code",
   "execution_count": 345,
   "metadata": {},
   "outputs": [],
   "source": [
    "X_train_os2 = X_train_df.loc[:, X_train_df.columns != 'BUYER_FLAG']\n",
    "y_train_os2 = X_train_df['BUYER_FLAG'].values"
   ]
  },
  {
   "cell_type": "code",
   "execution_count": 350,
   "metadata": {},
   "outputs": [
    {
     "data": {
      "text/plain": [
       "[0, 0, 0, 1, 0, ..., 0, 1, 0, 0, 0]\n",
       "Length: 8534\n",
       "Categories (2, int64): [0, 1]"
      ]
     },
     "execution_count": 350,
     "metadata": {},
     "output_type": "execute_result"
    }
   ],
   "source": [
    "y_train_os2"
   ]
  },
  {
   "cell_type": "code",
   "execution_count": 355,
   "metadata": {},
   "outputs": [
    {
     "name": "stdout",
     "output_type": "stream",
     "text": [
      "0.7039311601942438\n"
     ]
    }
   ],
   "source": [
    "randomForest_os = RandomForestClassifier(n_estimators=2000)\n",
    "randomForest_os.fit(X_train_os2, y_train_os2)\n",
    "\n",
    "predictions_os = randomForest_os.predict(X_test_os)\n",
    "#probs_os = randomForest_os.predict_proba(X_test_os)\n",
    "#predictions_os_40=[1 if i > 0.4 else 0 for i in probs_os]\n",
    "#predictions_os_30=[1 if i > 0.3 else 0 for i in probs_os]\n",
    "#predictions_os_20=[1 if i > 0.2 else 0 for i in probs_os]\n",
    "roc_value_os = roc_auc_score(y_test_os, predictions_os)\n",
    "print(roc_value_os)"
   ]
  },
  {
   "cell_type": "code",
   "execution_count": 356,
   "metadata": {},
   "outputs": [
    {
     "data": {
      "image/png": "[encoded data removed]",
      "text/plain": [
       "<Figure size 432x288 with 1 Axes>"
      ]
     },
     "metadata": {
      "needs_background": "light"
     },
     "output_type": "display_data"
    }
   ],
   "source": [
    "metrics.plot_roc_curve(randomForest_os, X_test_os, y_test_os)\n",
    "plt.show()    "
   ]
  },
  {
   "cell_type": "code",
   "execution_count": 358,
   "metadata": {},
   "outputs": [
    {
     "name": "stdout",
     "output_type": "stream",
     "text": [
      "=== Confusion Matrix ===\n",
      "[[2235  395]\n",
      " [ 118  149]]\n"
     ]
    }
   ],
   "source": [
    "print(\"=== Confusion Matrix ===\")\n",
    "print(confusion_matrix(y_test_os, predictions_os))"
   ]
  },
  {
   "cell_type": "code",
   "execution_count": 354,
   "metadata": {},
   "outputs": [
    {
     "data": {
      "text/plain": [
       "2897"
      ]
     },
     "execution_count": 354,
     "metadata": {},
     "output_type": "execute_result"
    }
   ],
   "source": [
    "len(predictions_os)"
   ]
  },
  {
   "cell_type": "code",
   "execution_count": null,
   "metadata": {},
   "outputs": [],
   "source": [
    "conf_mat = confusion_matrix(y_test_os, predictions_rf_40)"
   ]
  },
  {
   "cell_type": "code",
   "execution_count": 394,
   "metadata": {},
   "outputs": [],
   "source": [
    "##### Model 11: ##### random forest cross validation\n",
    "proba = cross_val_predict(randomForest, X_all, y_all, cv=10, method='predict_proba')"
   ]
  },
  {
   "cell_type": "code",
   "execution_count": 395,
   "metadata": {},
   "outputs": [
    {
     "name": "stdout",
     "output_type": "stream",
     "text": [
      "0.6996122315518518\n"
     ]
    }
   ],
   "source": [
    "proba_cv = proba[:, 1]\n",
    "predictions_rf_cv_20=[1 if i > 0.2 else 0 for i in proba_cv]\n",
    "roc_value_rf_cv = roc_auc_score(y_all, predictions_rf_cv_20)\n",
    "print(roc_value_rf_cv)"
   ]
  },
  {
   "cell_type": "code",
   "execution_count": 396,
   "metadata": {},
   "outputs": [
    {
     "name": "stdout",
     "output_type": "stream",
     "text": [
      "=== Confusion Matrix ===\n",
      "[[35135  4182]\n",
      " [ 2034  2080]]\n"
     ]
    }
   ],
   "source": [
    "print(\"=== Confusion Matrix ===\")\n",
    "print(confusion_matrix(y_all, predictions_rf_cv_20))"
   ]
  },
  {
   "cell_type": "code",
   "execution_count": 402,
   "metadata": {},
   "outputs": [
    {
     "name": "stdout",
     "output_type": "stream",
     "text": [
      "=== Confusion Matrix ===\n",
      "[[34612  4705]\n",
      " [ 1920  2194]]\n"
     ]
    }
   ],
   "source": [
    "##### Model 12: ##### random forest cross validation fine tuning cutoff value\n",
    "\n",
    "predictions_rf_cv_17=[1 if i > 0.17 else 0 for i in proba_cv]\n",
    "\n",
    "print(\"=== Confusion Matrix ===\")\n",
    "print(confusion_matrix(y_all, predictions_rf_cv_17))"
   ]
  },
  {
   "cell_type": "code",
   "execution_count": 403,
   "metadata": {},
   "outputs": [
    {
     "ename": "NotFittedError",
     "evalue": "This RandomForestClassifier instance is not fitted yet. Call 'fit' with appropriate arguments before using this estimator.",
     "output_type": "error",
     "traceback": [
      "\u001b[1;31m---------------------------------------------------------------------------\u001b[0m",
      "\u001b[1;31mNotFittedError\u001b[0m                            Traceback (most recent call last)",
      "\u001b[1;32m<ipython-input-403-7976cb949180>\u001b[0m in \u001b[0;36m<module>\u001b[1;34m\u001b[0m\n\u001b[0;32m      1\u001b[0m \u001b[1;31m# Extract feature importances\u001b[0m\u001b[1;33m\u001b[0m\u001b[1;33m\u001b[0m\u001b[1;33m\u001b[0m\u001b[0m\n\u001b[0;32m      2\u001b[0m fi_rf = pd.DataFrame({'feature': list(X_all.columns),\n\u001b[1;32m----> 3\u001b[1;33m                    'importance': randomForest.feature_importances_}).\\\n\u001b[0m\u001b[0;32m      4\u001b[0m                     \u001b[0msort_values\u001b[0m\u001b[1;33m(\u001b[0m\u001b[1;34m'importance'\u001b[0m\u001b[1;33m,\u001b[0m \u001b[0mascending\u001b[0m \u001b[1;33m=\u001b[0m \u001b[1;32mFalse\u001b[0m\u001b[1;33m)\u001b[0m\u001b[1;33m\u001b[0m\u001b[1;33m\u001b[0m\u001b[0m\n",
      "\u001b[1;32mC:\\Users\\or.hirshman\\Downloads\\WPy64-3771\\python-3.7.7.amd64\\lib\\site-packages\\sklearn\\ensemble\\_forest.py\u001b[0m in \u001b[0;36mfeature_importances_\u001b[1;34m(self)\u001b[0m\n\u001b[0;32m    442\u001b[0m             \u001b[0marray\u001b[0m \u001b[0mof\u001b[0m \u001b[0mzeros\u001b[0m\u001b[1;33m.\u001b[0m\u001b[1;33m\u001b[0m\u001b[1;33m\u001b[0m\u001b[0m\n\u001b[0;32m    443\u001b[0m         \"\"\"\n\u001b[1;32m--> 444\u001b[1;33m         \u001b[0mcheck_is_fitted\u001b[0m\u001b[1;33m(\u001b[0m\u001b[0mself\u001b[0m\u001b[1;33m)\u001b[0m\u001b[1;33m\u001b[0m\u001b[1;33m\u001b[0m\u001b[0m\n\u001b[0m\u001b[0;32m    445\u001b[0m \u001b[1;33m\u001b[0m\u001b[0m\n\u001b[0;32m    446\u001b[0m         all_importances = Parallel(n_jobs=self.n_jobs,\n",
      "\u001b[1;32mC:\\Users\\or.hirshman\\Downloads\\WPy64-3771\\python-3.7.7.amd64\\lib\\site-packages\\sklearn\\utils\\validation.py\u001b[0m in \u001b[0;36minner_f\u001b[1;34m(*args, **kwargs)\u001b[0m\n\u001b[0;32m     71\u001b[0m                           FutureWarning)\n\u001b[0;32m     72\u001b[0m         \u001b[0mkwargs\u001b[0m\u001b[1;33m.\u001b[0m\u001b[0mupdate\u001b[0m\u001b[1;33m(\u001b[0m\u001b[1;33m{\u001b[0m\u001b[0mk\u001b[0m\u001b[1;33m:\u001b[0m \u001b[0marg\u001b[0m \u001b[1;32mfor\u001b[0m \u001b[0mk\u001b[0m\u001b[1;33m,\u001b[0m \u001b[0marg\u001b[0m \u001b[1;32min\u001b[0m \u001b[0mzip\u001b[0m\u001b[1;33m(\u001b[0m\u001b[0msig\u001b[0m\u001b[1;33m.\u001b[0m\u001b[0mparameters\u001b[0m\u001b[1;33m,\u001b[0m \u001b[0margs\u001b[0m\u001b[1;33m)\u001b[0m\u001b[1;33m}\u001b[0m\u001b[1;33m)\u001b[0m\u001b[1;33m\u001b[0m\u001b[1;33m\u001b[0m\u001b[0m\n\u001b[1;32m---> 73\u001b[1;33m         \u001b[1;32mreturn\u001b[0m \u001b[0mf\u001b[0m\u001b[1;33m(\u001b[0m\u001b[1;33m**\u001b[0m\u001b[0mkwargs\u001b[0m\u001b[1;33m)\u001b[0m\u001b[1;33m\u001b[0m\u001b[1;33m\u001b[0m\u001b[0m\n\u001b[0m\u001b[0;32m     74\u001b[0m     \u001b[1;32mreturn\u001b[0m \u001b[0minner_f\u001b[0m\u001b[1;33m\u001b[0m\u001b[1;33m\u001b[0m\u001b[0m\n\u001b[0;32m     75\u001b[0m \u001b[1;33m\u001b[0m\u001b[0m\n",
      "\u001b[1;32mC:\\Users\\or.hirshman\\Downloads\\WPy64-3771\\python-3.7.7.amd64\\lib\\site-packages\\sklearn\\utils\\validation.py\u001b[0m in \u001b[0;36mcheck_is_fitted\u001b[1;34m(estimator, attributes, msg, all_or_any)\u001b[0m\n\u001b[0;32m   1018\u001b[0m \u001b[1;33m\u001b[0m\u001b[0m\n\u001b[0;32m   1019\u001b[0m     \u001b[1;32mif\u001b[0m \u001b[1;32mnot\u001b[0m \u001b[0mattrs\u001b[0m\u001b[1;33m:\u001b[0m\u001b[1;33m\u001b[0m\u001b[1;33m\u001b[0m\u001b[0m\n\u001b[1;32m-> 1020\u001b[1;33m         \u001b[1;32mraise\u001b[0m \u001b[0mNotFittedError\u001b[0m\u001b[1;33m(\u001b[0m\u001b[0mmsg\u001b[0m \u001b[1;33m%\u001b[0m \u001b[1;33m{\u001b[0m\u001b[1;34m'name'\u001b[0m\u001b[1;33m:\u001b[0m \u001b[0mtype\u001b[0m\u001b[1;33m(\u001b[0m\u001b[0mestimator\u001b[0m\u001b[1;33m)\u001b[0m\u001b[1;33m.\u001b[0m\u001b[0m__name__\u001b[0m\u001b[1;33m}\u001b[0m\u001b[1;33m)\u001b[0m\u001b[1;33m\u001b[0m\u001b[1;33m\u001b[0m\u001b[0m\n\u001b[0m\u001b[0;32m   1021\u001b[0m \u001b[1;33m\u001b[0m\u001b[0m\n\u001b[0;32m   1022\u001b[0m \u001b[1;33m\u001b[0m\u001b[0m\n",
      "\u001b[1;31mNotFittedError\u001b[0m: This RandomForestClassifier instance is not fitted yet. Call 'fit' with appropriate arguments before using this estimator."
     ]
    }
   ],
   "source": [
    "# Extract feature importances\n",
    "fi_rf = pd.DataFrame({'feature': list(X_all.columns),\n",
    "                   'importance': randomForest.feature_importances_}).\\\n",
    "                    sort_values('importance', ascending = False)"
   ]
  },
  {
   "cell_type": "code",
   "execution_count": 404,
   "metadata": {},
   "outputs": [
    {
     "data": {
      "text/html": [
       "<div>\n",
       "<style scoped>\n",
       "    .dataframe tbody tr th:only-of-type {\n",
       "        vertical-align: middle;\n",
       "    }\n",
       "\n",
       "    .dataframe tbody tr th {\n",
       "        vertical-align: top;\n",
       "    }\n",
       "\n",
       "    .dataframe thead th {\n",
       "        text-align: right;\n",
       "    }\n",
       "</style>\n",
       "<table border=\"1\" class=\"dataframe\">\n",
       "  <thead>\n",
       "    <tr style=\"text-align: right;\">\n",
       "      <th></th>\n",
       "      <th>feature</th>\n",
       "      <th>importance</th>\n",
       "    </tr>\n",
       "  </thead>\n",
       "  <tbody>\n",
       "    <tr>\n",
       "      <th>5</th>\n",
       "      <td>FARE_L_Y1</td>\n",
       "      <td>0.083526</td>\n",
       "    </tr>\n",
       "    <tr>\n",
       "      <th>10</th>\n",
       "      <td>POINTS_L_Y1</td>\n",
       "      <td>0.079927</td>\n",
       "    </tr>\n",
       "    <tr>\n",
       "      <th>14</th>\n",
       "      <td>POINTS_L_Y5</td>\n",
       "      <td>0.079358</td>\n",
       "    </tr>\n",
       "    <tr>\n",
       "      <th>13</th>\n",
       "      <td>POINTS_L_Y4</td>\n",
       "      <td>0.079318</td>\n",
       "    </tr>\n",
       "    <tr>\n",
       "      <th>11</th>\n",
       "      <td>POINTS_L_Y2</td>\n",
       "      <td>0.079103</td>\n",
       "    </tr>\n",
       "    <tr>\n",
       "      <th>12</th>\n",
       "      <td>POINTS_L_Y3</td>\n",
       "      <td>0.078331</td>\n",
       "    </tr>\n",
       "    <tr>\n",
       "      <th>8</th>\n",
       "      <td>FARE_L_Y4</td>\n",
       "      <td>0.077885</td>\n",
       "    </tr>\n",
       "    <tr>\n",
       "      <th>9</th>\n",
       "      <td>FARE_L_Y5</td>\n",
       "      <td>0.077801</td>\n",
       "    </tr>\n",
       "    <tr>\n",
       "      <th>6</th>\n",
       "      <td>FARE_L_Y2</td>\n",
       "      <td>0.073823</td>\n",
       "    </tr>\n",
       "    <tr>\n",
       "      <th>7</th>\n",
       "      <td>FARE_L_Y3</td>\n",
       "      <td>0.073510</td>\n",
       "    </tr>\n",
       "    <tr>\n",
       "      <th>4</th>\n",
       "      <td>ADVANCE_PURCHASE</td>\n",
       "      <td>0.053107</td>\n",
       "    </tr>\n",
       "    <tr>\n",
       "      <th>3</th>\n",
       "      <td>LAST_DEAL</td>\n",
       "      <td>0.046844</td>\n",
       "    </tr>\n",
       "    <tr>\n",
       "      <th>19</th>\n",
       "      <td>rating</td>\n",
       "      <td>0.030969</td>\n",
       "    </tr>\n",
       "    <tr>\n",
       "      <th>2</th>\n",
       "      <td>NUM_DEAL</td>\n",
       "      <td>0.030403</td>\n",
       "    </tr>\n",
       "    <tr>\n",
       "      <th>0</th>\n",
       "      <td>GROUP</td>\n",
       "      <td>0.029604</td>\n",
       "    </tr>\n",
       "    <tr>\n",
       "      <th>15</th>\n",
       "      <td>CALL_FLAG</td>\n",
       "      <td>0.011109</td>\n",
       "    </tr>\n",
       "    <tr>\n",
       "      <th>16</th>\n",
       "      <td>CREDIT_PROBLEM</td>\n",
       "      <td>0.006818</td>\n",
       "    </tr>\n",
       "    <tr>\n",
       "      <th>18</th>\n",
       "      <td>BENEFIT_FLAG</td>\n",
       "      <td>0.006454</td>\n",
       "    </tr>\n",
       "    <tr>\n",
       "      <th>17</th>\n",
       "      <td>RETURN_FLAG</td>\n",
       "      <td>0.001949</td>\n",
       "    </tr>\n",
       "    <tr>\n",
       "      <th>1</th>\n",
       "      <td>CHEF_CLUB</td>\n",
       "      <td>0.000162</td>\n",
       "    </tr>\n",
       "  </tbody>\n",
       "</table>\n",
       "</div>"
      ],
      "text/plain": [
       "             feature  importance\n",
       "5          FARE_L_Y1    0.083526\n",
       "10       POINTS_L_Y1    0.079927\n",
       "14       POINTS_L_Y5    0.079358\n",
       "13       POINTS_L_Y4    0.079318\n",
       "11       POINTS_L_Y2    0.079103\n",
       "12       POINTS_L_Y3    0.078331\n",
       "8          FARE_L_Y4    0.077885\n",
       "9          FARE_L_Y5    0.077801\n",
       "6          FARE_L_Y2    0.073823\n",
       "7          FARE_L_Y3    0.073510\n",
       "4   ADVANCE_PURCHASE    0.053107\n",
       "3          LAST_DEAL    0.046844\n",
       "19            rating    0.030969\n",
       "2           NUM_DEAL    0.030403\n",
       "0              GROUP    0.029604\n",
       "15         CALL_FLAG    0.011109\n",
       "16    CREDIT_PROBLEM    0.006818\n",
       "18      BENEFIT_FLAG    0.006454\n",
       "17       RETURN_FLAG    0.001949\n",
       "1          CHEF_CLUB    0.000162"
      ]
     },
     "execution_count": 404,
     "metadata": {},
     "output_type": "execute_result"
    }
   ],
   "source": [
    "fi_rf.head(24)"
   ]
  },
  {
   "cell_type": "code",
   "execution_count": 17,
   "metadata": {},
   "outputs": [
    {
     "ename": "NameError",
     "evalue": "name 'X_train' is not defined",
     "output_type": "error",
     "traceback": [
      "\u001b[1;31m---------------------------------------------------------------------------\u001b[0m",
      "\u001b[1;31mNameError\u001b[0m                                 Traceback (most recent call last)",
      "\u001b[1;32m<ipython-input-17-26a7043b99f2>\u001b[0m in \u001b[0;36m<module>\u001b[1;34m\u001b[0m\n\u001b[0;32m      2\u001b[0m \u001b[1;33m\u001b[0m\u001b[0m\n\u001b[0;32m      3\u001b[0m \u001b[0mlogistic\u001b[0m \u001b[1;33m=\u001b[0m \u001b[0mLogisticRegression\u001b[0m\u001b[1;33m(\u001b[0m\u001b[0mrandom_state\u001b[0m\u001b[1;33m=\u001b[0m\u001b[1;36m42\u001b[0m\u001b[1;33m,\u001b[0m \u001b[0mmax_iter\u001b[0m\u001b[1;33m=\u001b[0m\u001b[1;36m1000\u001b[0m\u001b[1;33m)\u001b[0m\u001b[1;33m\u001b[0m\u001b[1;33m\u001b[0m\u001b[0m\n\u001b[1;32m----> 4\u001b[1;33m \u001b[0mlogistic\u001b[0m\u001b[1;33m.\u001b[0m\u001b[0mfit\u001b[0m\u001b[1;33m(\u001b[0m\u001b[0mX_train\u001b[0m\u001b[1;33m,\u001b[0m \u001b[0my_train\u001b[0m\u001b[1;33m)\u001b[0m\u001b[1;33m\u001b[0m\u001b[1;33m\u001b[0m\u001b[0m\n\u001b[0m\u001b[0;32m      5\u001b[0m \u001b[0mpredictions_logistic\u001b[0m \u001b[1;33m=\u001b[0m \u001b[0mlogistic\u001b[0m\u001b[1;33m.\u001b[0m\u001b[0mpredict\u001b[0m\u001b[1;33m(\u001b[0m\u001b[0mX_test\u001b[0m\u001b[1;33m)\u001b[0m\u001b[1;33m\u001b[0m\u001b[1;33m\u001b[0m\u001b[0m\n\u001b[0;32m      6\u001b[0m \u001b[0mprobs_logistic\u001b[0m \u001b[1;33m=\u001b[0m \u001b[0mlogistic\u001b[0m\u001b[1;33m.\u001b[0m\u001b[0mpredict_proba\u001b[0m\u001b[1;33m(\u001b[0m\u001b[0mX_test\u001b[0m\u001b[1;33m)\u001b[0m\u001b[1;33m[\u001b[0m\u001b[1;33m:\u001b[0m\u001b[1;33m,\u001b[0m \u001b[1;36m1\u001b[0m\u001b[1;33m]\u001b[0m\u001b[1;33m\u001b[0m\u001b[1;33m\u001b[0m\u001b[0m\n",
      "\u001b[1;31mNameError\u001b[0m: name 'X_train' is not defined"
     ]
    }
   ],
   "source": [
    "##### Model 1: ##### logistic regression\n",
    "\n",
    "logistic = LogisticRegression(random_state=42, max_iter=1000)\n",
    "logistic.fit(X_train, y_train)\n",
    "predictions_logistic = logistic.predict(X_test)\n",
    "probs_logistic = logistic.predict_proba(X_test)[:, 1]\n",
    "predictions_logistic_40=[1 if i > 0.4 else 0 for i in probs_logistic]\n",
    "predictions_logistic_30=[1 if i > 0.3 else 0 for i in probs_logistic]\n",
    "predictions_logistic_20=[1 if i > 0.2 else 0 for i in probs_logistic]\n",
    "roc_value_log = roc_auc_score(y_test, predictions_logistic_20)\n",
    "print(roc_value_log)"
   ]
  },
  {
   "cell_type": "code",
   "execution_count": 260,
   "metadata": {},
   "outputs": [
    {
     "data": {
      "image/png": "[encoded data removed]",
      "text/plain": [
       "<Figure size 432x288 with 1 Axes>"
      ]
     },
     "metadata": {
      "needs_background": "light"
     },
     "output_type": "display_data"
    }
   ],
   "source": [
    "metrics.plot_roc_curve(logistic, X_test, y_test)\n",
    "plt.show()"
   ]
  },
  {
   "cell_type": "code",
   "execution_count": 562,
   "metadata": {},
   "outputs": [
    {
     "data": {
      "text/html": [
       "<div>\n",
       "<style scoped>\n",
       "    .dataframe tbody tr th:only-of-type {\n",
       "        vertical-align: middle;\n",
       "    }\n",
       "\n",
       "    .dataframe tbody tr th {\n",
       "        vertical-align: top;\n",
       "    }\n",
       "\n",
       "    .dataframe thead th {\n",
       "        text-align: right;\n",
       "    }\n",
       "</style>\n",
       "<table border=\"1\" class=\"dataframe\">\n",
       "  <thead>\n",
       "    <tr style=\"text-align: right;\">\n",
       "      <th></th>\n",
       "      <th>feature</th>\n",
       "      <th>importance</th>\n",
       "    </tr>\n",
       "  </thead>\n",
       "  <tbody>\n",
       "    <tr>\n",
       "      <th>15</th>\n",
       "      <td>CALL_FLAG</td>\n",
       "      <td>0.046507</td>\n",
       "    </tr>\n",
       "    <tr>\n",
       "      <th>18</th>\n",
       "      <td>BENEFIT_FLAG</td>\n",
       "      <td>0.022742</td>\n",
       "    </tr>\n",
       "    <tr>\n",
       "      <th>9</th>\n",
       "      <td>FARE_L_Y5</td>\n",
       "      <td>0.004156</td>\n",
       "    </tr>\n",
       "    <tr>\n",
       "      <th>6</th>\n",
       "      <td>FARE_L_Y2</td>\n",
       "      <td>0.003290</td>\n",
       "    </tr>\n",
       "    <tr>\n",
       "      <th>7</th>\n",
       "      <td>FARE_L_Y3</td>\n",
       "      <td>0.002389</td>\n",
       "    </tr>\n",
       "    <tr>\n",
       "      <th>19</th>\n",
       "      <td>rating</td>\n",
       "      <td>0.001645</td>\n",
       "    </tr>\n",
       "    <tr>\n",
       "      <th>12</th>\n",
       "      <td>POINTS_L_Y3</td>\n",
       "      <td>0.001528</td>\n",
       "    </tr>\n",
       "    <tr>\n",
       "      <th>10</th>\n",
       "      <td>POINTS_L_Y1</td>\n",
       "      <td>0.000951</td>\n",
       "    </tr>\n",
       "    <tr>\n",
       "      <th>14</th>\n",
       "      <td>POINTS_L_Y5</td>\n",
       "      <td>-0.000022</td>\n",
       "    </tr>\n",
       "    <tr>\n",
       "      <th>17</th>\n",
       "      <td>RETURN_FLAG</td>\n",
       "      <td>-0.000286</td>\n",
       "    </tr>\n",
       "    <tr>\n",
       "      <th>5</th>\n",
       "      <td>FARE_L_Y1</td>\n",
       "      <td>-0.000546</td>\n",
       "    </tr>\n",
       "    <tr>\n",
       "      <th>11</th>\n",
       "      <td>POINTS_L_Y2</td>\n",
       "      <td>-0.000996</td>\n",
       "    </tr>\n",
       "    <tr>\n",
       "      <th>13</th>\n",
       "      <td>POINTS_L_Y4</td>\n",
       "      <td>-0.001006</td>\n",
       "    </tr>\n",
       "    <tr>\n",
       "      <th>3</th>\n",
       "      <td>LAST_DEAL</td>\n",
       "      <td>-0.002560</td>\n",
       "    </tr>\n",
       "    <tr>\n",
       "      <th>1</th>\n",
       "      <td>CHEF_CLUB</td>\n",
       "      <td>-0.002774</td>\n",
       "    </tr>\n",
       "    <tr>\n",
       "      <th>16</th>\n",
       "      <td>CREDIT_PROBLEM</td>\n",
       "      <td>-0.005629</td>\n",
       "    </tr>\n",
       "    <tr>\n",
       "      <th>8</th>\n",
       "      <td>FARE_L_Y4</td>\n",
       "      <td>-0.005684</td>\n",
       "    </tr>\n",
       "    <tr>\n",
       "      <th>4</th>\n",
       "      <td>ADVANCE_PURCHASE</td>\n",
       "      <td>-0.026203</td>\n",
       "    </tr>\n",
       "    <tr>\n",
       "      <th>0</th>\n",
       "      <td>GROUP</td>\n",
       "      <td>-0.080341</td>\n",
       "    </tr>\n",
       "  </tbody>\n",
       "</table>\n",
       "</div>"
      ],
      "text/plain": [
       "             feature  importance\n",
       "15         CALL_FLAG    0.046507\n",
       "18      BENEFIT_FLAG    0.022742\n",
       "9          FARE_L_Y5    0.004156\n",
       "6          FARE_L_Y2    0.003290\n",
       "7          FARE_L_Y3    0.002389\n",
       "19            rating    0.001645\n",
       "12       POINTS_L_Y3    0.001528\n",
       "10       POINTS_L_Y1    0.000951\n",
       "14       POINTS_L_Y5   -0.000022\n",
       "17       RETURN_FLAG   -0.000286\n",
       "5          FARE_L_Y1   -0.000546\n",
       "11       POINTS_L_Y2   -0.000996\n",
       "13       POINTS_L_Y4   -0.001006\n",
       "3          LAST_DEAL   -0.002560\n",
       "1          CHEF_CLUB   -0.002774\n",
       "16    CREDIT_PROBLEM   -0.005629\n",
       "8          FARE_L_Y4   -0.005684\n",
       "4   ADVANCE_PURCHASE   -0.026203\n",
       "0              GROUP   -0.080341"
      ]
     },
     "execution_count": 562,
     "metadata": {},
     "output_type": "execute_result"
    }
   ],
   "source": [
    "# Extract feature importances\n",
    "fi_log = pd.DataFrame({'feature': list(X_train.columns),\n",
    "                   'importance': logistic.coef_[0]}).\\\n",
    "                    sort_values('importance', ascending = False)\n",
    "fi_log.head(19)"
   ]
  },
  {
   "cell_type": "code",
   "execution_count": 265,
   "metadata": {},
   "outputs": [
    {
     "name": "stdout",
     "output_type": "stream",
     "text": [
      "=== Confusion Matrix ===\n",
      "[[11783    17]\n",
      " [ 1230     0]]\n"
     ]
    }
   ],
   "source": [
    "print(\"=== Confusion Matrix ===\")\n",
    "print(confusion_matrix(y_test, predictions_logistic))"
   ]
  },
  {
   "cell_type": "code",
   "execution_count": 266,
   "metadata": {},
   "outputs": [
    {
     "name": "stdout",
     "output_type": "stream",
     "text": [
      "=== Confusion Matrix ===\n",
      "[[11771    29]\n",
      " [ 1226     4]]\n"
     ]
    }
   ],
   "source": [
    "print(\"=== Confusion Matrix ===\")\n",
    "print(confusion_matrix(y_test, predictions_logistic_40))"
   ]
  },
  {
   "cell_type": "code",
   "execution_count": 267,
   "metadata": {},
   "outputs": [
    {
     "name": "stdout",
     "output_type": "stream",
     "text": [
      "=== Confusion Matrix ===\n",
      "[[11601   199]\n",
      " [ 1161    69]]\n"
     ]
    }
   ],
   "source": [
    "print(\"=== Confusion Matrix ===\")\n",
    "print(confusion_matrix(y_test, predictions_logistic_30))"
   ]
  },
  {
   "cell_type": "code",
   "execution_count": 268,
   "metadata": {},
   "outputs": [
    {
     "name": "stdout",
     "output_type": "stream",
     "text": [
      "=== Confusion Matrix ===\n",
      "[[11177   623]\n",
      " [ 1030   200]]\n"
     ]
    }
   ],
   "source": [
    "print(\"=== Confusion Matrix ===\")\n",
    "print(confusion_matrix(y_test, predictions_logistic_20))"
   ]
  },
  {
   "cell_type": "code",
   "execution_count": 269,
   "metadata": {},
   "outputs": [
    {
     "name": "stdout",
     "output_type": "stream",
     "text": [
      "0.654636557806256\n"
     ]
    }
   ],
   "source": [
    "##### Model 2: ##### adaboost\n",
    "\n",
    "adaBoost = AdaBoostClassifier(n_estimators=200, learning_rate=0.001)\n",
    "adaBoost.fit(X_train, y_train)\n",
    "predictions_adaBoost = adaBoost.predict(X_test)\n",
    "probs_adaBoost = adaBoost.predict_proba(X_test)[:, 1]\n",
    "predictions_adaBoost_40=[1 if i > 0.4 else 0 for i in probs_adaBoost]\n",
    "predictions_adaBoost_30=[1 if i > 0.3 else 0 for i in probs_adaBoost]\n",
    "predictions_adaBoost_20=[1 if i > 0.2 else 0 for i in probs_adaBoost]\n",
    "roc_value_adaboost = roc_auc_score(y_test, predictions_adaBoost_20)\n",
    "print(roc_value_adaboost)"
   ]
  },
  {
   "cell_type": "code",
   "execution_count": 270,
   "metadata": {},
   "outputs": [
    {
     "name": "stdout",
     "output_type": "stream",
     "text": [
      "=== Confusion Matrix ===\n",
      "[[11800     0]\n",
      " [ 1230     0]]\n"
     ]
    }
   ],
   "source": [
    "print(\"=== Confusion Matrix ===\")\n",
    "print(confusion_matrix(y_test, predictions_adaBoost))"
   ]
  },
  {
   "cell_type": "code",
   "execution_count": 271,
   "metadata": {},
   "outputs": [
    {
     "name": "stdout",
     "output_type": "stream",
     "text": [
      "=== Confusion Matrix ===\n",
      "[[11800     0]\n",
      " [ 1230     0]]\n"
     ]
    }
   ],
   "source": [
    "print(\"=== Confusion Matrix ===\")\n",
    "print(confusion_matrix(y_test, predictions_adaBoost_40))"
   ]
  },
  {
   "cell_type": "code",
   "execution_count": 272,
   "metadata": {},
   "outputs": [
    {
     "name": "stdout",
     "output_type": "stream",
     "text": [
      "=== Confusion Matrix ===\n",
      "[[11800     0]\n",
      " [ 1230     0]]\n"
     ]
    }
   ],
   "source": [
    "print(\"=== Confusion Matrix ===\")\n",
    "print(confusion_matrix(y_test, predictions_adaBoost_30))"
   ]
  },
  {
   "cell_type": "code",
   "execution_count": 273,
   "metadata": {},
   "outputs": [
    {
     "name": "stdout",
     "output_type": "stream",
     "text": [
      "=== Confusion Matrix ===\n",
      "[[8993 2807]\n",
      " [ 557  673]]\n"
     ]
    }
   ],
   "source": [
    "print(\"=== Confusion Matrix ===\")\n",
    "print(confusion_matrix(y_test, predictions_adaBoost_20))"
   ]
  },
  {
   "cell_type": "code",
   "execution_count": 325,
   "metadata": {},
   "outputs": [],
   "source": [
    "# Scale  data using MinMaxScaler \n",
    "scaler = MinMaxScaler(feature_range=(0, 1))\n",
    "scaled_training_X = scaler.fit_transform(X_train)\n",
    "scaled_testing_X = scaler.transform(X_test)"
   ]
  },
  {
   "cell_type": "code",
   "execution_count": 324,
   "metadata": {},
   "outputs": [],
   "source": [
    "# 7. Scale your data using MinMaxScaler \n",
    "scaler = MinMaxScaler(feature_range=(0, 1))\n",
    "scaled_X_all = scaler.fit_transform(X_all)\n",
    "scaled_testing_X_all = scaler.transform(X_test)"
   ]
  },
  {
   "cell_type": "code",
   "execution_count": 307,
   "metadata": {},
   "outputs": [
    {
     "name": "stdout",
     "output_type": "stream",
     "text": [
      "Epoch 1/70\n",
      "30401/30401 [==============================] - 19s 609us/step - loss: 0.3128 - accuracy: 0.9046\n",
      "Epoch 2/70\n",
      "30401/30401 [==============================] - 20s 653us/step - loss: 0.2996 - accuracy: 0.9046\n",
      "Epoch 3/70\n",
      "30401/30401 [==============================] - 20s 660us/step - loss: 0.2944 - accuracy: 0.9046\n",
      "Epoch 4/70\n",
      "30401/30401 [==============================] - 20s 644us/step - loss: 0.2909 - accuracy: 0.9046\n",
      "Epoch 5/70\n",
      "30401/30401 [==============================] - 19s 623us/step - loss: 0.2877 - accuracy: 0.9046\n",
      "Epoch 6/70\n",
      "30401/30401 [==============================] - 23s 770us/step - loss: 0.2846 - accuracy: 0.9045\n",
      "Epoch 7/70\n",
      "30401/30401 [==============================] - 19s 625us/step - loss: 0.2822 - accuracy: 0.9044\n",
      "Epoch 8/70\n",
      "30401/30401 [==============================] - 18s 589us/step - loss: 0.2806 - accuracy: 0.9047\n",
      "Epoch 9/70\n",
      "30401/30401 [==============================] - 23s 746us/step - loss: 0.2791 - accuracy: 0.9041\n",
      "Epoch 10/70\n",
      "30401/30401 [==============================] - 20s 655us/step - loss: 0.2777 - accuracy: 0.9043\n",
      "Epoch 11/70\n",
      "30401/30401 [==============================] - 19s 613us/step - loss: 0.2770 - accuracy: 0.9042\n",
      "Epoch 12/70\n",
      "30401/30401 [==============================] - 19s 628us/step - loss: 0.2760 - accuracy: 0.9048\n",
      "Epoch 13/70\n",
      "30401/30401 [==============================] - 25s 822us/step - loss: 0.2750 - accuracy: 0.9044\n",
      "Epoch 14/70\n",
      "30401/30401 [==============================] - 19s 628us/step - loss: 0.2743 - accuracy: 0.9049\n",
      "Epoch 15/70\n",
      "30401/30401 [==============================] - 20s 668us/step - loss: 0.2738 - accuracy: 0.9042\n",
      "Epoch 16/70\n",
      "30401/30401 [==============================] - 20s 669us/step - loss: 0.2730 - accuracy: 0.9053\n",
      "Epoch 17/70\n",
      "30401/30401 [==============================] - 18s 595us/step - loss: 0.2724 - accuracy: 0.9050\n",
      "Epoch 18/70\n",
      "30401/30401 [==============================] - 17s 571us/step - loss: 0.2721 - accuracy: 0.9055\n",
      "Epoch 19/70\n",
      "30401/30401 [==============================] - 19s 613us/step - loss: 0.2718 - accuracy: 0.9055\n",
      "Epoch 20/70\n",
      "30401/30401 [==============================] - 18s 606us/step - loss: 0.2716 - accuracy: 0.9054\n",
      "Epoch 21/70\n",
      "30401/30401 [==============================] - 18s 584us/step - loss: 0.2708 - accuracy: 0.9053\n",
      "Epoch 22/70\n",
      "30401/30401 [==============================] - 18s 582us/step - loss: 0.2710 - accuracy: 0.9049\n",
      "Epoch 23/70\n",
      "30401/30401 [==============================] - 19s 612us/step - loss: 0.2705 - accuracy: 0.9053\n",
      "Epoch 24/70\n",
      "30401/30401 [==============================] - 20s 650us/step - loss: 0.2702 - accuracy: 0.9059\n",
      "Epoch 25/70\n",
      "30401/30401 [==============================] - 18s 593us/step - loss: 0.2705 - accuracy: 0.9060\n",
      "Epoch 26/70\n",
      "30401/30401 [==============================] - 21s 679us/step - loss: 0.2703 - accuracy: 0.9057\n",
      "Epoch 27/70\n",
      "30401/30401 [==============================] - 21s 692us/step - loss: 0.2697 - accuracy: 0.9057\n",
      "Epoch 28/70\n",
      "30401/30401 [==============================] - 20s 667us/step - loss: 0.2698 - accuracy: 0.9059\n",
      "Epoch 29/70\n",
      "30401/30401 [==============================] - 21s 686us/step - loss: 0.2693 - accuracy: 0.9062\n",
      "Epoch 30/70\n",
      "30401/30401 [==============================] - 37s 1ms/step - loss: 0.2696 - accuracy: 0.9058\n",
      "Epoch 31/70\n",
      "30401/30401 [==============================] - 30s 983us/step - loss: 0.2689 - accuracy: 0.9057\n",
      "Epoch 32/70\n",
      "30401/30401 [==============================] - 21s 690us/step - loss: 0.2694 - accuracy: 0.9063\n",
      "Epoch 33/70\n",
      "30401/30401 [==============================] - 21s 685us/step - loss: 0.2692 - accuracy: 0.9052\n",
      "Epoch 34/70\n",
      "30401/30401 [==============================] - 19s 623us/step - loss: 0.2692 - accuracy: 0.9060\n",
      "Epoch 35/70\n",
      "30401/30401 [==============================] - 21s 680us/step - loss: 0.2693 - accuracy: 0.9062\n",
      "Epoch 36/70\n",
      "30401/30401 [==============================] - 19s 628us/step - loss: 0.2690 - accuracy: 0.9058\n",
      "Epoch 37/70\n",
      "30401/30401 [==============================] - 18s 586us/step - loss: 0.2694 - accuracy: 0.9060\n",
      "Epoch 38/70\n",
      "30401/30401 [==============================] - 19s 625us/step - loss: 0.2688 - accuracy: 0.9059\n",
      "Epoch 39/70\n",
      "30401/30401 [==============================] - 18s 597us/step - loss: 0.2684 - accuracy: 0.9065\n",
      "Epoch 40/70\n",
      "30401/30401 [==============================] - 17s 566us/step - loss: 0.2690 - accuracy: 0.9060\n",
      "Epoch 41/70\n",
      "30401/30401 [==============================] - 17s 565us/step - loss: 0.2686 - accuracy: 0.9066\n",
      "Epoch 42/70\n",
      "30401/30401 [==============================] - 18s 586us/step - loss: 0.2683 - accuracy: 0.9062\n",
      "Epoch 43/70\n",
      "30401/30401 [==============================] - 18s 590us/step - loss: 0.2687 - accuracy: 0.9058\n",
      "Epoch 44/70\n",
      "30401/30401 [==============================] - 17s 565us/step - loss: 0.2680 - accuracy: 0.9067\n",
      "Epoch 45/70\n",
      "30401/30401 [==============================] - 17s 564us/step - loss: 0.2690 - accuracy: 0.9061\n",
      "Epoch 46/70\n",
      "30401/30401 [==============================] - 18s 604us/step - loss: 0.2684 - accuracy: 0.9062\n",
      "Epoch 47/70\n",
      "30401/30401 [==============================] - 17s 574us/step - loss: 0.2683 - accuracy: 0.9066\n",
      "Epoch 48/70\n",
      "30401/30401 [==============================] - 17s 564us/step - loss: 0.2680 - accuracy: 0.9073\n",
      "Epoch 49/70\n",
      "30401/30401 [==============================] - 18s 583us/step - loss: 0.2679 - accuracy: 0.9068\n",
      "Epoch 50/70\n",
      "30401/30401 [==============================] - 18s 591us/step - loss: 0.2679 - accuracy: 0.9066\n",
      "Epoch 51/70\n",
      "30401/30401 [==============================] - 17s 561us/step - loss: 0.2682 - accuracy: 0.9066\n",
      "Epoch 52/70\n",
      "30401/30401 [==============================] - 17s 557us/step - loss: 0.2678 - accuracy: 0.9070\n",
      "Epoch 53/70\n",
      "30401/30401 [==============================] - 18s 601us/step - loss: 0.2681 - accuracy: 0.9068\n",
      "Epoch 54/70\n",
      "30401/30401 [==============================] - 18s 579us/step - loss: 0.2678 - accuracy: 0.9066\n",
      "Epoch 55/70\n",
      "30401/30401 [==============================] - 17s 549us/step - loss: 0.2677 - accuracy: 0.9064\n",
      "Epoch 56/70\n",
      "30401/30401 [==============================] - 17s 573us/step - loss: 0.2678 - accuracy: 0.9063\n",
      "Epoch 57/70\n",
      "30401/30401 [==============================] - 18s 587us/step - loss: 0.2673 - accuracy: 0.9064\n",
      "Epoch 58/70\n",
      "30401/30401 [==============================] - 18s 579us/step - loss: 0.2672 - accuracy: 0.9070\n",
      "Epoch 59/70\n",
      "30401/30401 [==============================] - 17s 565us/step - loss: 0.2674 - accuracy: 0.9073\n",
      "Epoch 60/70\n",
      "30401/30401 [==============================] - 17s 566us/step - loss: 0.2673 - accuracy: 0.9071\n",
      "Epoch 61/70\n",
      "30401/30401 [==============================] - 17s 569us/step - loss: 0.2676 - accuracy: 0.9070\n",
      "Epoch 62/70\n",
      "30401/30401 [==============================] - 18s 587us/step - loss: 0.2673 - accuracy: 0.9070\n",
      "Epoch 63/70\n",
      "30401/30401 [==============================] - 17s 566us/step - loss: 0.2673 - accuracy: 0.9065\n",
      "Epoch 64/70\n",
      "30401/30401 [==============================] - 17s 554us/step - loss: 0.2669 - accuracy: 0.9069\n",
      "Epoch 65/70\n",
      "30401/30401 [==============================] - 19s 609us/step - loss: 0.2664 - accuracy: 0.9073\n",
      "Epoch 66/70\n",
      "30401/30401 [==============================] - 20s 652us/step - loss: 0.2670 - accuracy: 0.9066\n",
      "Epoch 67/70\n",
      "30401/30401 [==============================] - 19s 640us/step - loss: 0.2670 - accuracy: 0.9073\n",
      "Epoch 68/70\n",
      "30401/30401 [==============================] - 20s 648us/step - loss: 0.2664 - accuracy: 0.9077\n",
      "Epoch 69/70\n",
      "30401/30401 [==============================] - 20s 642us/step - loss: 0.2666 - accuracy: 0.9069\n",
      "Epoch 70/70\n",
      "30401/30401 [==============================] - 20s 651us/step - loss: 0.2670 - accuracy: 0.9067\n"
     ]
    },
    {
     "data": {
      "text/plain": [
       "<keras.callbacks.callbacks.History at 0x21844acbcc8>"
      ]
     },
     "execution_count": 307,
     "metadata": {},
     "output_type": "execute_result"
    }
   ],
   "source": [
    "##### Model 6: ##### neural network\n",
    "input_dim = scaled_training_X.shape[1]\n",
    "model = Sequential()\n",
    "model.add(Dense(100,input_dim =input_dim, activation ='relu'))\n",
    "model.add(Dense(10, activation ='relu'))\n",
    "model.add(Dense(80, activation ='relu'))\n",
    "model.add(Dense(1,activation = 'sigmoid'))\n",
    "\n",
    "#Compile Model \n",
    "model.compile(optimizer=Adam(learning_rate=0.0001),loss='binary_crossentropy', metrics=['accuracy'])\n",
    "\n",
    "#Fit model \n",
    "model.fit(scaled_training_X,y_train,epochs=70,batch_size=2)\n",
    "\n"
   ]
  },
  {
   "cell_type": "code",
   "execution_count": 308,
   "metadata": {},
   "outputs": [
    {
     "name": "stdout",
     "output_type": "stream",
     "text": [
      "13030/13030 [==============================] - 0s 16us/step\n",
      "Accuracy: 90.68\n"
     ]
    }
   ],
   "source": [
    "_,accuracy = test_error_rate\n",
    "print('Accuracy: %.2f' % (accuracy*100))"
   ]
  },
  {
   "cell_type": "code",
   "execution_count": 309,
   "metadata": {},
   "outputs": [
    {
     "name": "stdout",
     "output_type": "stream",
     "text": [
      "0.669095398981207\n"
     ]
    }
   ],
   "source": [
    "predictions_keras = model.predict(scaled_testing_X)\n",
    "probs_keras = model.predict_proba(scaled_testing_X)\n",
    "predictions_keras_40=[1 if i > 0.4 else 0 for i in probs_keras]\n",
    "predictions_keras_30=[1 if i > 0.3 else 0 for i in probs_keras]\n",
    "predictions_keras_20=[1 if i > 0.2 else 0 for i in probs_keras]\n",
    "predictions_keras_20=[1 if i > 0.2 else 0 for i in probs_keras]\n",
    "roc_value_keras = roc_auc_score(y_test, predictions_keras_20)\n",
    "print(roc_value_keras)"
   ]
  },
  {
   "cell_type": "code",
   "execution_count": 310,
   "metadata": {},
   "outputs": [
    {
     "data": {
      "text/plain": [
       "[<matplotlib.lines.Line2D at 0x2183f78bb88>]"
      ]
     },
     "execution_count": 310,
     "metadata": {},
     "output_type": "execute_result"
    },
    {
     "data": {
      "image/png": "[encoded data removed]",
      "text/plain": [
       "<Figure size 432x288 with 1 Axes>"
      ]
     },
     "metadata": {
      "needs_background": "light"
     },
     "output_type": "display_data"
    }
   ],
   "source": [
    "from sklearn.metrics import roc_curve\n",
    "from sklearn.metrics import auc\n",
    "fpr_keras, tpr_keras, thresholds_keras = roc_curve(y_test, predictions_keras)\n",
    "auc_keras = auc(fpr_keras, tpr_keras)\n",
    "\n",
    "plt.figure(1)\n",
    "plt.plot([0, 1], [0, 1], 'k--')\n",
    "plt.plot(fpr_keras, tpr_keras, label='Keras (area = {:.3f})'.format(auc_keras))"
   ]
  },
  {
   "cell_type": "code",
   "execution_count": 297,
   "metadata": {},
   "outputs": [
    {
     "name": "stdout",
     "output_type": "stream",
     "text": [
      "=== Confusion Matrix ===\n"
     ]
    },
    {
     "ename": "ValueError",
     "evalue": "Classification metrics can't handle a mix of binary and continuous targets",
     "output_type": "error",
     "traceback": [
      "\u001b[1;31m---------------------------------------------------------------------------\u001b[0m",
      "\u001b[1;31mValueError\u001b[0m                                Traceback (most recent call last)",
      "\u001b[1;32m<ipython-input-297-033d827f3dd2>\u001b[0m in \u001b[0;36m<module>\u001b[1;34m\u001b[0m\n\u001b[0;32m      1\u001b[0m \u001b[0mprint\u001b[0m\u001b[1;33m(\u001b[0m\u001b[1;34m\"=== Confusion Matrix ===\"\u001b[0m\u001b[1;33m)\u001b[0m\u001b[1;33m\u001b[0m\u001b[1;33m\u001b[0m\u001b[0m\n\u001b[1;32m----> 2\u001b[1;33m \u001b[0mprint\u001b[0m\u001b[1;33m(\u001b[0m\u001b[0mconfusion_matrix\u001b[0m\u001b[1;33m(\u001b[0m\u001b[0my_test\u001b[0m\u001b[1;33m,\u001b[0m \u001b[0mpredictions_keras\u001b[0m\u001b[1;33m)\u001b[0m\u001b[1;33m)\u001b[0m\u001b[1;33m\u001b[0m\u001b[1;33m\u001b[0m\u001b[0m\n\u001b[0m",
      "\u001b[1;32mC:\\Users\\or.hirshman\\Downloads\\WPy64-3771\\python-3.7.7.amd64\\lib\\site-packages\\sklearn\\utils\\validation.py\u001b[0m in \u001b[0;36minner_f\u001b[1;34m(*args, **kwargs)\u001b[0m\n\u001b[0;32m     71\u001b[0m                           FutureWarning)\n\u001b[0;32m     72\u001b[0m         \u001b[0mkwargs\u001b[0m\u001b[1;33m.\u001b[0m\u001b[0mupdate\u001b[0m\u001b[1;33m(\u001b[0m\u001b[1;33m{\u001b[0m\u001b[0mk\u001b[0m\u001b[1;33m:\u001b[0m \u001b[0marg\u001b[0m \u001b[1;32mfor\u001b[0m \u001b[0mk\u001b[0m\u001b[1;33m,\u001b[0m \u001b[0marg\u001b[0m \u001b[1;32min\u001b[0m \u001b[0mzip\u001b[0m\u001b[1;33m(\u001b[0m\u001b[0msig\u001b[0m\u001b[1;33m.\u001b[0m\u001b[0mparameters\u001b[0m\u001b[1;33m,\u001b[0m \u001b[0margs\u001b[0m\u001b[1;33m)\u001b[0m\u001b[1;33m}\u001b[0m\u001b[1;33m)\u001b[0m\u001b[1;33m\u001b[0m\u001b[1;33m\u001b[0m\u001b[0m\n\u001b[1;32m---> 73\u001b[1;33m         \u001b[1;32mreturn\u001b[0m \u001b[0mf\u001b[0m\u001b[1;33m(\u001b[0m\u001b[1;33m**\u001b[0m\u001b[0mkwargs\u001b[0m\u001b[1;33m)\u001b[0m\u001b[1;33m\u001b[0m\u001b[1;33m\u001b[0m\u001b[0m\n\u001b[0m\u001b[0;32m     74\u001b[0m     \u001b[1;32mreturn\u001b[0m \u001b[0minner_f\u001b[0m\u001b[1;33m\u001b[0m\u001b[1;33m\u001b[0m\u001b[0m\n\u001b[0;32m     75\u001b[0m \u001b[1;33m\u001b[0m\u001b[0m\n",
      "\u001b[1;32mC:\\Users\\or.hirshman\\Downloads\\WPy64-3771\\python-3.7.7.amd64\\lib\\site-packages\\sklearn\\metrics\\_classification.py\u001b[0m in \u001b[0;36mconfusion_matrix\u001b[1;34m(y_true, y_pred, labels, sample_weight, normalize)\u001b[0m\n\u001b[0;32m    274\u001b[0m \u001b[1;33m\u001b[0m\u001b[0m\n\u001b[0;32m    275\u001b[0m     \"\"\"\n\u001b[1;32m--> 276\u001b[1;33m     \u001b[0my_type\u001b[0m\u001b[1;33m,\u001b[0m \u001b[0my_true\u001b[0m\u001b[1;33m,\u001b[0m \u001b[0my_pred\u001b[0m \u001b[1;33m=\u001b[0m \u001b[0m_check_targets\u001b[0m\u001b[1;33m(\u001b[0m\u001b[0my_true\u001b[0m\u001b[1;33m,\u001b[0m \u001b[0my_pred\u001b[0m\u001b[1;33m)\u001b[0m\u001b[1;33m\u001b[0m\u001b[1;33m\u001b[0m\u001b[0m\n\u001b[0m\u001b[0;32m    277\u001b[0m     \u001b[1;32mif\u001b[0m \u001b[0my_type\u001b[0m \u001b[1;32mnot\u001b[0m \u001b[1;32min\u001b[0m \u001b[1;33m(\u001b[0m\u001b[1;34m\"binary\"\u001b[0m\u001b[1;33m,\u001b[0m \u001b[1;34m\"multiclass\"\u001b[0m\u001b[1;33m)\u001b[0m\u001b[1;33m:\u001b[0m\u001b[1;33m\u001b[0m\u001b[1;33m\u001b[0m\u001b[0m\n\u001b[0;32m    278\u001b[0m         \u001b[1;32mraise\u001b[0m \u001b[0mValueError\u001b[0m\u001b[1;33m(\u001b[0m\u001b[1;34m\"%s is not supported\"\u001b[0m \u001b[1;33m%\u001b[0m \u001b[0my_type\u001b[0m\u001b[1;33m)\u001b[0m\u001b[1;33m\u001b[0m\u001b[1;33m\u001b[0m\u001b[0m\n",
      "\u001b[1;32mC:\\Users\\or.hirshman\\Downloads\\WPy64-3771\\python-3.7.7.amd64\\lib\\site-packages\\sklearn\\metrics\\_classification.py\u001b[0m in \u001b[0;36m_check_targets\u001b[1;34m(y_true, y_pred)\u001b[0m\n\u001b[0;32m     89\u001b[0m     \u001b[1;32mif\u001b[0m \u001b[0mlen\u001b[0m\u001b[1;33m(\u001b[0m\u001b[0my_type\u001b[0m\u001b[1;33m)\u001b[0m \u001b[1;33m>\u001b[0m \u001b[1;36m1\u001b[0m\u001b[1;33m:\u001b[0m\u001b[1;33m\u001b[0m\u001b[1;33m\u001b[0m\u001b[0m\n\u001b[0;32m     90\u001b[0m         raise ValueError(\"Classification metrics can't handle a mix of {0} \"\n\u001b[1;32m---> 91\u001b[1;33m                          \"and {1} targets\".format(type_true, type_pred))\n\u001b[0m\u001b[0;32m     92\u001b[0m \u001b[1;33m\u001b[0m\u001b[0m\n\u001b[0;32m     93\u001b[0m     \u001b[1;31m# We can't have more than one value on y_type => The set is no more needed\u001b[0m\u001b[1;33m\u001b[0m\u001b[1;33m\u001b[0m\u001b[1;33m\u001b[0m\u001b[0m\n",
      "\u001b[1;31mValueError\u001b[0m: Classification metrics can't handle a mix of binary and continuous targets"
     ]
    }
   ],
   "source": [
    "print(\"=== Confusion Matrix ===\")\n",
    "print(confusion_matrix(y_test, predictions_keras))"
   ]
  },
  {
   "cell_type": "code",
   "execution_count": 298,
   "metadata": {},
   "outputs": [
    {
     "name": "stdout",
     "output_type": "stream",
     "text": [
      "=== Confusion Matrix ===\n",
      "[[11601   199]\n",
      " [ 1034   196]]\n"
     ]
    }
   ],
   "source": [
    "print(\"=== Confusion Matrix ===\")\n",
    "print(confusion_matrix(y_test, predictions_keras_40))"
   ]
  },
  {
   "cell_type": "code",
   "execution_count": 313,
   "metadata": {},
   "outputs": [
    {
     "name": "stdout",
     "output_type": "stream",
     "text": [
      "=== Confusion Matrix ===\n",
      "[[11525   292]\n",
      " [  967   246]]\n"
     ]
    }
   ],
   "source": [
    "print(\"=== Confusion Matrix ===\")\n",
    "print(confusion_matrix(y_test, predictions_keras_30))"
   ]
  },
  {
   "cell_type": "code",
   "execution_count": 312,
   "metadata": {},
   "outputs": [
    {
     "name": "stdout",
     "output_type": "stream",
     "text": [
      "=== Confusion Matrix ===\n",
      "[[10845   972]\n",
      " [  703   510]]\n"
     ]
    }
   ],
   "source": [
    "print(\"=== Confusion Matrix ===\")\n",
    "print(confusion_matrix(y_test, predictions_keras_20))"
   ]
  },
  {
   "cell_type": "code",
   "execution_count": 301,
   "metadata": {},
   "outputs": [
    {
     "data": {
      "text/plain": [
       "13030"
      ]
     },
     "execution_count": 301,
     "metadata": {},
     "output_type": "execute_result"
    }
   ],
   "source": [
    "len(y_test)"
   ]
  },
  {
   "cell_type": "code",
   "execution_count": 16,
   "metadata": {},
   "outputs": [],
   "source": [
    "##### Model 3: ##### xgboost\n",
    "\n"
   ]
  },
  {
   "cell_type": "code",
   "execution_count": 381,
   "metadata": {},
   "outputs": [
    {
     "name": "stdout",
     "output_type": "stream",
     "text": [
      "0.7110450308988576\n"
     ]
    }
   ],
   "source": [
    "predictions_xg = xg.predict(X_test)\n",
    "probs_xg = xg.predict_proba(X_test)[:, 1]\n",
    "predictions_xg_40=[1 if i > 0.4 else 0 for i in probs_xg]\n",
    "predictions_xg_30=[1 if i > 0.3 else 0 for i in probs_xg]\n",
    "predictions_xg_20=[1 if i > 0.2 else 0 for i in probs_xg]\n",
    "roc_value_xg = roc_auc_score(y_test, predictions_xg_20)\n",
    "print(roc_value_xg)"
   ]
  },
  {
   "cell_type": "code",
   "execution_count": 386,
   "metadata": {},
   "outputs": [
    {
     "name": "stdout",
     "output_type": "stream",
     "text": [
      "=== Confusion Matrix ===\n",
      "[[12140   133]\n",
      " [ 1125   102]]\n"
     ]
    }
   ],
   "source": [
    "print(\"=== Confusion Matrix ===\")\n",
    "print(confusion_matrix(y_test, predictions_xg))"
   ]
  },
  {
   "cell_type": "code",
   "execution_count": 387,
   "metadata": {},
   "outputs": [
    {
     "name": "stdout",
     "output_type": "stream",
     "text": [
      "=== Confusion Matrix ===\n",
      "[[11957   316]\n",
      " [ 1023   204]]\n"
     ]
    }
   ],
   "source": [
    "print(\"=== Confusion Matrix ===\")\n",
    "print(confusion_matrix(y_test, predictions_xg_40))"
   ]
  },
  {
   "cell_type": "code",
   "execution_count": 388,
   "metadata": {},
   "outputs": [
    {
     "name": "stdout",
     "output_type": "stream",
     "text": [
      "=== Confusion Matrix ===\n",
      "[[11606   667]\n",
      " [  881   346]]\n"
     ]
    }
   ],
   "source": [
    "print(\"=== Confusion Matrix ===\")\n",
    "print(confusion_matrix(y_test, predictions_xg_30))"
   ]
  },
  {
   "cell_type": "code",
   "execution_count": 389,
   "metadata": {},
   "outputs": [
    {
     "name": "stdout",
     "output_type": "stream",
     "text": [
      "=== Confusion Matrix ===\n",
      "[[11123  1150]\n",
      " [  714   513]]\n"
     ]
    }
   ],
   "source": [
    "print(\"=== Confusion Matrix ===\")\n",
    "print(confusion_matrix(y_test, predictions_xg_20))"
   ]
  },
  {
   "cell_type": "code",
   "execution_count": 288,
   "metadata": {},
   "outputs": [
    {
     "name": "stdout",
     "output_type": "stream",
     "text": [
      "0.6224931101005925\n"
     ]
    }
   ],
   "source": [
    "##### Model 5: ##### knn\n",
    "\n",
    "knn = KNeighborsClassifier(n_neighbors=5)\n",
    "knn.fit(scaled_training_X, y_train)\n",
    "predictions_knn = knn.predict(scaled_testing_X)\n",
    "probs_knn = knn.predict_proba(scaled_testing_X)[:, 1]\n",
    "predictions_knn_40=[1 if i > 0.4 else 0 for i in probs_knn]\n",
    "predictions_knn_30=[1 if i > 0.3 else 0 for i in probs_knn]\n",
    "predictions_knn_20=[1 if i > 0.2 else 0 for i in probs_knn]\n",
    "roc_value_knn = roc_auc_score(y_test, predictions_knn_20)\n",
    "print(roc_value_knn)"
   ]
  },
  {
   "cell_type": "code",
   "execution_count": 291,
   "metadata": {},
   "outputs": [
    {
     "name": "stdout",
     "output_type": "stream",
     "text": [
      "[[11576   224]\n",
      " [ 1068   162]]\n"
     ]
    }
   ],
   "source": [
    "print(confusion_matrix(y_test, predictions_knn_40))"
   ]
  },
  {
   "cell_type": "code",
   "execution_count": 290,
   "metadata": {},
   "outputs": [
    {
     "name": "stdout",
     "output_type": "stream",
     "text": [
      "[[10911   889]\n",
      " [  836   394]]\n"
     ]
    }
   ],
   "source": [
    "print(confusion_matrix(y_test, predictions_knn_30))"
   ]
  },
  {
   "cell_type": "code",
   "execution_count": 289,
   "metadata": {},
   "outputs": [
    {
     "name": "stdout",
     "output_type": "stream",
     "text": [
      "[[10911   889]\n",
      " [  836   394]]\n"
     ]
    }
   ],
   "source": [
    "print(confusion_matrix(y_test, predictions_knn_20))"
   ]
  },
  {
   "cell_type": "code",
   "execution_count": 281,
   "metadata": {},
   "outputs": [
    {
     "name": "stdout",
     "output_type": "stream",
     "text": [
      "0.5\n"
     ]
    }
   ],
   "source": [
    "##### Model 4: ##### svc\n",
    "\n",
    "svc = svm.LinearSVC()\n",
    "svc.fit(scaled_training_X, y_train)\n",
    "predictions_svc = svc.predict(scaled_testing_X)\n",
    "probs_svc = svc.decision_function(scaled_testing_X)\n",
    "predictions_svc_40=[1 if i > 0.4 else 0 for i in probs_svc]\n",
    "predictions_svc_30=[1 if i > 0.3 else 0 for i in probs_svc]\n",
    "predictions_svc_20=[1 if i > 0.2 else 0 for i in probs_svc]\n",
    "roc_value_svc = roc_auc_score(y_test, predictions_svc_20)\n",
    "print(roc_value_svc)"
   ]
  },
  {
   "cell_type": "code",
   "execution_count": 282,
   "metadata": {},
   "outputs": [
    {
     "name": "stdout",
     "output_type": "stream",
     "text": [
      "[[11800     0]\n",
      " [ 1230     0]]\n"
     ]
    }
   ],
   "source": [
    "print(confusion_matrix(y_test, predictions_svc))"
   ]
  },
  {
   "cell_type": "code",
   "execution_count": 284,
   "metadata": {},
   "outputs": [
    {
     "name": "stdout",
     "output_type": "stream",
     "text": [
      "[[11800     0]\n",
      " [ 1230     0]]\n"
     ]
    }
   ],
   "source": [
    "print(confusion_matrix(y_test, predictions_svc_40))"
   ]
  },
  {
   "cell_type": "code",
   "execution_count": 285,
   "metadata": {},
   "outputs": [
    {
     "name": "stdout",
     "output_type": "stream",
     "text": [
      "[[11800     0]\n",
      " [ 1230     0]]\n"
     ]
    }
   ],
   "source": [
    "print(confusion_matrix(y_test, predictions_svc_30))"
   ]
  },
  {
   "cell_type": "code",
   "execution_count": 286,
   "metadata": {},
   "outputs": [
    {
     "name": "stdout",
     "output_type": "stream",
     "text": [
      "[[11800     0]\n",
      " [ 1230     0]]\n"
     ]
    }
   ],
   "source": [
    "print(confusion_matrix(y_test, predictions_svc_20))"
   ]
  },
  {
   "cell_type": "code",
   "execution_count": 414,
   "metadata": {},
   "outputs": [
    {
     "data": {
      "text/plain": [
       "RandomForestClassifier(bootstrap=False, max_depth=10, max_features='sqrt',\n",
       "                       min_samples_split=10, n_estimators=2000,\n",
       "                       random_state=22)"
      ]
     },
     "execution_count": 414,
     "metadata": {},
     "output_type": "execute_result"
    }
   ],
   "source": [
    "# fit random forest on all training data\n",
    "randomForest.fit(X_all, y_all)"
   ]
  },
  {
   "cell_type": "code",
   "execution_count": 405,
   "metadata": {},
   "outputs": [],
   "source": [
    "# Predict the new data\n",
    "\n",
    "data_rollout = pd.read_csv(\"C:\\\\Users\\\\or.hirshman\\\\Downloads\\\\final_project\\\\ffp_rollout_X.csv\")\n",
    "reviews_rollout = pd.read_csv(\"C:\\\\Users\\\\or.hirshman\\\\Downloads\\\\final_project\\\\reviews_rollout.csv\")"
   ]
  },
  {
   "cell_type": "code",
   "execution_count": 406,
   "metadata": {},
   "outputs": [
    {
     "data": {
      "text/html": [
       "<div>\n",
       "<style scoped>\n",
       "    .dataframe tbody tr th:only-of-type {\n",
       "        vertical-align: middle;\n",
       "    }\n",
       "\n",
       "    .dataframe tbody tr th {\n",
       "        vertical-align: top;\n",
       "    }\n",
       "\n",
       "    .dataframe thead th {\n",
       "        text-align: right;\n",
       "    }\n",
       "</style>\n",
       "<table border=\"1\" class=\"dataframe\">\n",
       "  <thead>\n",
       "    <tr style=\"text-align: right;\">\n",
       "      <th></th>\n",
       "      <th>ID</th>\n",
       "      <th>mark</th>\n",
       "      <th>ounc</th>\n",
       "      <th>fail</th>\n",
       "      <th>someon</th>\n",
       "      <th>restaur</th>\n",
       "      <th>peopl</th>\n",
       "      <th>state</th>\n",
       "      <th>costco</th>\n",
       "      <th>burn</th>\n",
       "      <th>...</th>\n",
       "      <th>type</th>\n",
       "      <th>term</th>\n",
       "      <th>member</th>\n",
       "      <th>strip</th>\n",
       "      <th>overal</th>\n",
       "      <th>mill</th>\n",
       "      <th>creamer</th>\n",
       "      <th>get</th>\n",
       "      <th>sound</th>\n",
       "      <th>rating</th>\n",
       "    </tr>\n",
       "  </thead>\n",
       "  <tbody>\n",
       "    <tr>\n",
       "      <th>0</th>\n",
       "      <td>45005</td>\n",
       "      <td>0</td>\n",
       "      <td>0</td>\n",
       "      <td>0</td>\n",
       "      <td>0</td>\n",
       "      <td>0</td>\n",
       "      <td>0</td>\n",
       "      <td>0</td>\n",
       "      <td>0</td>\n",
       "      <td>0</td>\n",
       "      <td>...</td>\n",
       "      <td>0</td>\n",
       "      <td>0</td>\n",
       "      <td>0</td>\n",
       "      <td>0</td>\n",
       "      <td>0</td>\n",
       "      <td>0</td>\n",
       "      <td>0</td>\n",
       "      <td>0</td>\n",
       "      <td>0</td>\n",
       "      <td>1</td>\n",
       "    </tr>\n",
       "    <tr>\n",
       "      <th>1</th>\n",
       "      <td>45016</td>\n",
       "      <td>0</td>\n",
       "      <td>0</td>\n",
       "      <td>0</td>\n",
       "      <td>0</td>\n",
       "      <td>0</td>\n",
       "      <td>2</td>\n",
       "      <td>0</td>\n",
       "      <td>0</td>\n",
       "      <td>0</td>\n",
       "      <td>...</td>\n",
       "      <td>0</td>\n",
       "      <td>0</td>\n",
       "      <td>0</td>\n",
       "      <td>0</td>\n",
       "      <td>0</td>\n",
       "      <td>0</td>\n",
       "      <td>0</td>\n",
       "      <td>0</td>\n",
       "      <td>0</td>\n",
       "      <td>0</td>\n",
       "    </tr>\n",
       "    <tr>\n",
       "      <th>2</th>\n",
       "      <td>45028</td>\n",
       "      <td>0</td>\n",
       "      <td>0</td>\n",
       "      <td>0</td>\n",
       "      <td>0</td>\n",
       "      <td>0</td>\n",
       "      <td>0</td>\n",
       "      <td>0</td>\n",
       "      <td>0</td>\n",
       "      <td>0</td>\n",
       "      <td>...</td>\n",
       "      <td>0</td>\n",
       "      <td>0</td>\n",
       "      <td>0</td>\n",
       "      <td>0</td>\n",
       "      <td>0</td>\n",
       "      <td>0</td>\n",
       "      <td>0</td>\n",
       "      <td>0</td>\n",
       "      <td>0</td>\n",
       "      <td>0</td>\n",
       "    </tr>\n",
       "    <tr>\n",
       "      <th>3</th>\n",
       "      <td>45052</td>\n",
       "      <td>0</td>\n",
       "      <td>0</td>\n",
       "      <td>0</td>\n",
       "      <td>0</td>\n",
       "      <td>0</td>\n",
       "      <td>0</td>\n",
       "      <td>0</td>\n",
       "      <td>0</td>\n",
       "      <td>0</td>\n",
       "      <td>...</td>\n",
       "      <td>0</td>\n",
       "      <td>0</td>\n",
       "      <td>0</td>\n",
       "      <td>0</td>\n",
       "      <td>0</td>\n",
       "      <td>0</td>\n",
       "      <td>0</td>\n",
       "      <td>2</td>\n",
       "      <td>0</td>\n",
       "      <td>1</td>\n",
       "    </tr>\n",
       "    <tr>\n",
       "      <th>4</th>\n",
       "      <td>45083</td>\n",
       "      <td>0</td>\n",
       "      <td>0</td>\n",
       "      <td>0</td>\n",
       "      <td>0</td>\n",
       "      <td>0</td>\n",
       "      <td>0</td>\n",
       "      <td>0</td>\n",
       "      <td>0</td>\n",
       "      <td>0</td>\n",
       "      <td>...</td>\n",
       "      <td>0</td>\n",
       "      <td>0</td>\n",
       "      <td>0</td>\n",
       "      <td>0</td>\n",
       "      <td>0</td>\n",
       "      <td>0</td>\n",
       "      <td>0</td>\n",
       "      <td>0</td>\n",
       "      <td>0</td>\n",
       "      <td>0</td>\n",
       "    </tr>\n",
       "    <tr>\n",
       "      <th>5</th>\n",
       "      <td>45095</td>\n",
       "      <td>0</td>\n",
       "      <td>0</td>\n",
       "      <td>0</td>\n",
       "      <td>0</td>\n",
       "      <td>0</td>\n",
       "      <td>0</td>\n",
       "      <td>0</td>\n",
       "      <td>0</td>\n",
       "      <td>0</td>\n",
       "      <td>...</td>\n",
       "      <td>0</td>\n",
       "      <td>0</td>\n",
       "      <td>0</td>\n",
       "      <td>0</td>\n",
       "      <td>0</td>\n",
       "      <td>0</td>\n",
       "      <td>0</td>\n",
       "      <td>0</td>\n",
       "      <td>0</td>\n",
       "      <td>1</td>\n",
       "    </tr>\n",
       "    <tr>\n",
       "      <th>6</th>\n",
       "      <td>45138</td>\n",
       "      <td>0</td>\n",
       "      <td>0</td>\n",
       "      <td>0</td>\n",
       "      <td>0</td>\n",
       "      <td>0</td>\n",
       "      <td>0</td>\n",
       "      <td>0</td>\n",
       "      <td>0</td>\n",
       "      <td>0</td>\n",
       "      <td>...</td>\n",
       "      <td>0</td>\n",
       "      <td>0</td>\n",
       "      <td>0</td>\n",
       "      <td>0</td>\n",
       "      <td>0</td>\n",
       "      <td>0</td>\n",
       "      <td>0</td>\n",
       "      <td>0</td>\n",
       "      <td>0</td>\n",
       "      <td>0</td>\n",
       "    </tr>\n",
       "    <tr>\n",
       "      <th>7</th>\n",
       "      <td>45139</td>\n",
       "      <td>0</td>\n",
       "      <td>0</td>\n",
       "      <td>0</td>\n",
       "      <td>0</td>\n",
       "      <td>0</td>\n",
       "      <td>0</td>\n",
       "      <td>0</td>\n",
       "      <td>0</td>\n",
       "      <td>0</td>\n",
       "      <td>...</td>\n",
       "      <td>0</td>\n",
       "      <td>0</td>\n",
       "      <td>0</td>\n",
       "      <td>0</td>\n",
       "      <td>0</td>\n",
       "      <td>0</td>\n",
       "      <td>0</td>\n",
       "      <td>0</td>\n",
       "      <td>0</td>\n",
       "      <td>1</td>\n",
       "    </tr>\n",
       "    <tr>\n",
       "      <th>8</th>\n",
       "      <td>45150</td>\n",
       "      <td>0</td>\n",
       "      <td>0</td>\n",
       "      <td>0</td>\n",
       "      <td>0</td>\n",
       "      <td>0</td>\n",
       "      <td>1</td>\n",
       "      <td>0</td>\n",
       "      <td>0</td>\n",
       "      <td>0</td>\n",
       "      <td>...</td>\n",
       "      <td>0</td>\n",
       "      <td>0</td>\n",
       "      <td>0</td>\n",
       "      <td>0</td>\n",
       "      <td>0</td>\n",
       "      <td>0</td>\n",
       "      <td>0</td>\n",
       "      <td>0</td>\n",
       "      <td>0</td>\n",
       "      <td>1</td>\n",
       "    </tr>\n",
       "    <tr>\n",
       "      <th>9</th>\n",
       "      <td>45156</td>\n",
       "      <td>0</td>\n",
       "      <td>0</td>\n",
       "      <td>0</td>\n",
       "      <td>0</td>\n",
       "      <td>0</td>\n",
       "      <td>0</td>\n",
       "      <td>0</td>\n",
       "      <td>0</td>\n",
       "      <td>0</td>\n",
       "      <td>...</td>\n",
       "      <td>0</td>\n",
       "      <td>0</td>\n",
       "      <td>0</td>\n",
       "      <td>0</td>\n",
       "      <td>0</td>\n",
       "      <td>0</td>\n",
       "      <td>0</td>\n",
       "      <td>0</td>\n",
       "      <td>0</td>\n",
       "      <td>1</td>\n",
       "    </tr>\n",
       "  </tbody>\n",
       "</table>\n",
       "<p>10 rows × 1502 columns</p>\n",
       "</div>"
      ],
      "text/plain": [
       "      ID  mark  ounc  fail  someon  restaur  peopl  state  costco  burn  ...  \\\n",
       "0  45005     0     0     0       0        0      0      0       0     0  ...   \n",
       "1  45016     0     0     0       0        0      2      0       0     0  ...   \n",
       "2  45028     0     0     0       0        0      0      0       0     0  ...   \n",
       "3  45052     0     0     0       0        0      0      0       0     0  ...   \n",
       "4  45083     0     0     0       0        0      0      0       0     0  ...   \n",
       "5  45095     0     0     0       0        0      0      0       0     0  ...   \n",
       "6  45138     0     0     0       0        0      0      0       0     0  ...   \n",
       "7  45139     0     0     0       0        0      0      0       0     0  ...   \n",
       "8  45150     0     0     0       0        0      1      0       0     0  ...   \n",
       "9  45156     0     0     0       0        0      0      0       0     0  ...   \n",
       "\n",
       "   type  term  member  strip  overal  mill  creamer  get  sound  rating  \n",
       "0     0     0       0      0       0     0        0    0      0       1  \n",
       "1     0     0       0      0       0     0        0    0      0       0  \n",
       "2     0     0       0      0       0     0        0    0      0       0  \n",
       "3     0     0       0      0       0     0        0    2      0       1  \n",
       "4     0     0       0      0       0     0        0    0      0       0  \n",
       "5     0     0       0      0       0     0        0    0      0       1  \n",
       "6     0     0       0      0       0     0        0    0      0       0  \n",
       "7     0     0       0      0       0     0        0    0      0       1  \n",
       "8     0     0       0      0       0     0        0    0      0       1  \n",
       "9     0     0       0      0       0     0        0    0      0       1  \n",
       "\n",
       "[10 rows x 1502 columns]"
      ]
     },
     "execution_count": 406,
     "metadata": {},
     "output_type": "execute_result"
    }
   ],
   "source": [
    "reviews_rollout['rating'] = 0\n",
    "features_reviews_rollout = reviews_rollout[reviews_rollout.columns[1:-1]]\n",
    "reviews_rollout_rating = pd.DataFrame(rfecv.predict(features_reviews_rollout))\n",
    "reviews_rollout['rating'] = reviews_rollout_rating\n",
    "reviews_rollout.head(10)"
   ]
  },
  {
   "cell_type": "code",
   "execution_count": 407,
   "metadata": {},
   "outputs": [
    {
     "data": {
      "text/html": [
       "<div>\n",
       "<style scoped>\n",
       "    .dataframe tbody tr th:only-of-type {\n",
       "        vertical-align: middle;\n",
       "    }\n",
       "\n",
       "    .dataframe tbody tr th {\n",
       "        vertical-align: top;\n",
       "    }\n",
       "\n",
       "    .dataframe thead th {\n",
       "        text-align: right;\n",
       "    }\n",
       "</style>\n",
       "<table border=\"1\" class=\"dataframe\">\n",
       "  <thead>\n",
       "    <tr style=\"text-align: right;\">\n",
       "      <th></th>\n",
       "      <th>ID</th>\n",
       "      <th>GROUP</th>\n",
       "      <th>CHEF_CLUB</th>\n",
       "      <th>NUM_DEAL</th>\n",
       "      <th>LAST_DEAL</th>\n",
       "      <th>ADVANCE_PURCHASE</th>\n",
       "      <th>FARE_L_Y1</th>\n",
       "      <th>FARE_L_Y2</th>\n",
       "      <th>FARE_L_Y3</th>\n",
       "      <th>FARE_L_Y4</th>\n",
       "      <th>...</th>\n",
       "      <th>POINTS_L_Y2</th>\n",
       "      <th>POINTS_L_Y3</th>\n",
       "      <th>POINTS_L_Y4</th>\n",
       "      <th>POINTS_L_Y5</th>\n",
       "      <th>CALL_FLAG</th>\n",
       "      <th>CREDIT_PROBLEM</th>\n",
       "      <th>RETURN_FLAG</th>\n",
       "      <th>BENEFIT_FLAG</th>\n",
       "      <th>BUYER_FLAG</th>\n",
       "      <th>rating</th>\n",
       "    </tr>\n",
       "  </thead>\n",
       "  <tbody>\n",
       "    <tr>\n",
       "      <th>0</th>\n",
       "      <td>45001</td>\n",
       "      <td>5</td>\n",
       "      <td>0</td>\n",
       "      <td>4</td>\n",
       "      <td>20.0</td>\n",
       "      <td>16</td>\n",
       "      <td>108.3</td>\n",
       "      <td>98.3</td>\n",
       "      <td>85.8</td>\n",
       "      <td>95.0</td>\n",
       "      <td>...</td>\n",
       "      <td>70.7</td>\n",
       "      <td>80.6</td>\n",
       "      <td>110.0</td>\n",
       "      <td>62.2</td>\n",
       "      <td>0</td>\n",
       "      <td>1</td>\n",
       "      <td>0</td>\n",
       "      <td>0</td>\n",
       "      <td>0</td>\n",
       "      <td>2.0</td>\n",
       "    </tr>\n",
       "    <tr>\n",
       "      <th>1</th>\n",
       "      <td>45002</td>\n",
       "      <td>4</td>\n",
       "      <td>0</td>\n",
       "      <td>5</td>\n",
       "      <td>56.7</td>\n",
       "      <td>30</td>\n",
       "      <td>267.5</td>\n",
       "      <td>266.7</td>\n",
       "      <td>265.0</td>\n",
       "      <td>264.2</td>\n",
       "      <td>...</td>\n",
       "      <td>257.0</td>\n",
       "      <td>283.9</td>\n",
       "      <td>260.8</td>\n",
       "      <td>267.3</td>\n",
       "      <td>0</td>\n",
       "      <td>0</td>\n",
       "      <td>0</td>\n",
       "      <td>0</td>\n",
       "      <td>0</td>\n",
       "      <td>2.0</td>\n",
       "    </tr>\n",
       "    <tr>\n",
       "      <th>2</th>\n",
       "      <td>45003</td>\n",
       "      <td>5</td>\n",
       "      <td>0</td>\n",
       "      <td>1</td>\n",
       "      <td>100.0</td>\n",
       "      <td>22</td>\n",
       "      <td>100.0</td>\n",
       "      <td>94.2</td>\n",
       "      <td>102.5</td>\n",
       "      <td>108.3</td>\n",
       "      <td>...</td>\n",
       "      <td>163.0</td>\n",
       "      <td>136.3</td>\n",
       "      <td>118.2</td>\n",
       "      <td>120.6</td>\n",
       "      <td>0</td>\n",
       "      <td>0</td>\n",
       "      <td>0</td>\n",
       "      <td>0</td>\n",
       "      <td>0</td>\n",
       "      <td>2.0</td>\n",
       "    </tr>\n",
       "    <tr>\n",
       "      <th>3</th>\n",
       "      <td>45004</td>\n",
       "      <td>1</td>\n",
       "      <td>0</td>\n",
       "      <td>8</td>\n",
       "      <td>16.7</td>\n",
       "      <td>19</td>\n",
       "      <td>124.2</td>\n",
       "      <td>120.8</td>\n",
       "      <td>114.2</td>\n",
       "      <td>120.8</td>\n",
       "      <td>...</td>\n",
       "      <td>90.5</td>\n",
       "      <td>90.1</td>\n",
       "      <td>91.8</td>\n",
       "      <td>107.3</td>\n",
       "      <td>0</td>\n",
       "      <td>0</td>\n",
       "      <td>1</td>\n",
       "      <td>0</td>\n",
       "      <td>0</td>\n",
       "      <td>2.0</td>\n",
       "    </tr>\n",
       "    <tr>\n",
       "      <th>4</th>\n",
       "      <td>45005</td>\n",
       "      <td>4</td>\n",
       "      <td>0</td>\n",
       "      <td>6</td>\n",
       "      <td>30.0</td>\n",
       "      <td>29</td>\n",
       "      <td>166.7</td>\n",
       "      <td>167.5</td>\n",
       "      <td>168.3</td>\n",
       "      <td>165.0</td>\n",
       "      <td>...</td>\n",
       "      <td>181.4</td>\n",
       "      <td>167.5</td>\n",
       "      <td>163.8</td>\n",
       "      <td>147.9</td>\n",
       "      <td>0</td>\n",
       "      <td>1</td>\n",
       "      <td>0</td>\n",
       "      <td>0</td>\n",
       "      <td>0</td>\n",
       "      <td>1.0</td>\n",
       "    </tr>\n",
       "    <tr>\n",
       "      <th>5</th>\n",
       "      <td>45006</td>\n",
       "      <td>3</td>\n",
       "      <td>0</td>\n",
       "      <td>5</td>\n",
       "      <td>30.0</td>\n",
       "      <td>19</td>\n",
       "      <td>145.0</td>\n",
       "      <td>142.5</td>\n",
       "      <td>144.2</td>\n",
       "      <td>148.3</td>\n",
       "      <td>...</td>\n",
       "      <td>150.0</td>\n",
       "      <td>132.2</td>\n",
       "      <td>132.2</td>\n",
       "      <td>139.1</td>\n",
       "      <td>0</td>\n",
       "      <td>0</td>\n",
       "      <td>1</td>\n",
       "      <td>0</td>\n",
       "      <td>0</td>\n",
       "      <td>2.0</td>\n",
       "    </tr>\n",
       "    <tr>\n",
       "      <th>6</th>\n",
       "      <td>45007</td>\n",
       "      <td>1</td>\n",
       "      <td>0</td>\n",
       "      <td>5</td>\n",
       "      <td>36.7</td>\n",
       "      <td>22</td>\n",
       "      <td>175.0</td>\n",
       "      <td>175.0</td>\n",
       "      <td>175.0</td>\n",
       "      <td>173.3</td>\n",
       "      <td>...</td>\n",
       "      <td>168.3</td>\n",
       "      <td>152.4</td>\n",
       "      <td>191.9</td>\n",
       "      <td>172.8</td>\n",
       "      <td>0</td>\n",
       "      <td>0</td>\n",
       "      <td>0</td>\n",
       "      <td>0</td>\n",
       "      <td>0</td>\n",
       "      <td>2.0</td>\n",
       "    </tr>\n",
       "    <tr>\n",
       "      <th>7</th>\n",
       "      <td>45008</td>\n",
       "      <td>5</td>\n",
       "      <td>0</td>\n",
       "      <td>4</td>\n",
       "      <td>40.0</td>\n",
       "      <td>18</td>\n",
       "      <td>152.5</td>\n",
       "      <td>155.8</td>\n",
       "      <td>155.0</td>\n",
       "      <td>154.2</td>\n",
       "      <td>...</td>\n",
       "      <td>157.0</td>\n",
       "      <td>124.0</td>\n",
       "      <td>113.8</td>\n",
       "      <td>121.9</td>\n",
       "      <td>0</td>\n",
       "      <td>0</td>\n",
       "      <td>0</td>\n",
       "      <td>0</td>\n",
       "      <td>0</td>\n",
       "      <td>2.0</td>\n",
       "    </tr>\n",
       "    <tr>\n",
       "      <th>8</th>\n",
       "      <td>45009</td>\n",
       "      <td>4</td>\n",
       "      <td>0</td>\n",
       "      <td>5</td>\n",
       "      <td>26.7</td>\n",
       "      <td>20</td>\n",
       "      <td>128.3</td>\n",
       "      <td>117.5</td>\n",
       "      <td>122.5</td>\n",
       "      <td>113.3</td>\n",
       "      <td>...</td>\n",
       "      <td>69.7</td>\n",
       "      <td>50.2</td>\n",
       "      <td>85.1</td>\n",
       "      <td>113.2</td>\n",
       "      <td>0</td>\n",
       "      <td>0</td>\n",
       "      <td>0</td>\n",
       "      <td>0</td>\n",
       "      <td>0</td>\n",
       "      <td>2.0</td>\n",
       "    </tr>\n",
       "    <tr>\n",
       "      <th>9</th>\n",
       "      <td>45010</td>\n",
       "      <td>1</td>\n",
       "      <td>0</td>\n",
       "      <td>3</td>\n",
       "      <td>46.7</td>\n",
       "      <td>28</td>\n",
       "      <td>134.2</td>\n",
       "      <td>127.5</td>\n",
       "      <td>144.2</td>\n",
       "      <td>146.7</td>\n",
       "      <td>...</td>\n",
       "      <td>121.8</td>\n",
       "      <td>134.7</td>\n",
       "      <td>104.3</td>\n",
       "      <td>132.0</td>\n",
       "      <td>0</td>\n",
       "      <td>0</td>\n",
       "      <td>0</td>\n",
       "      <td>0</td>\n",
       "      <td>0</td>\n",
       "      <td>2.0</td>\n",
       "    </tr>\n",
       "  </tbody>\n",
       "</table>\n",
       "<p>10 rows × 22 columns</p>\n",
       "</div>"
      ],
      "text/plain": [
       "      ID  GROUP  CHEF_CLUB  NUM_DEAL  LAST_DEAL  ADVANCE_PURCHASE  FARE_L_Y1  \\\n",
       "0  45001      5          0         4       20.0                16      108.3   \n",
       "1  45002      4          0         5       56.7                30      267.5   \n",
       "2  45003      5          0         1      100.0                22      100.0   \n",
       "3  45004      1          0         8       16.7                19      124.2   \n",
       "4  45005      4          0         6       30.0                29      166.7   \n",
       "5  45006      3          0         5       30.0                19      145.0   \n",
       "6  45007      1          0         5       36.7                22      175.0   \n",
       "7  45008      5          0         4       40.0                18      152.5   \n",
       "8  45009      4          0         5       26.7                20      128.3   \n",
       "9  45010      1          0         3       46.7                28      134.2   \n",
       "\n",
       "   FARE_L_Y2  FARE_L_Y3  FARE_L_Y4  ...  POINTS_L_Y2  POINTS_L_Y3  \\\n",
       "0       98.3       85.8       95.0  ...         70.7         80.6   \n",
       "1      266.7      265.0      264.2  ...        257.0        283.9   \n",
       "2       94.2      102.5      108.3  ...        163.0        136.3   \n",
       "3      120.8      114.2      120.8  ...         90.5         90.1   \n",
       "4      167.5      168.3      165.0  ...        181.4        167.5   \n",
       "5      142.5      144.2      148.3  ...        150.0        132.2   \n",
       "6      175.0      175.0      173.3  ...        168.3        152.4   \n",
       "7      155.8      155.0      154.2  ...        157.0        124.0   \n",
       "8      117.5      122.5      113.3  ...         69.7         50.2   \n",
       "9      127.5      144.2      146.7  ...        121.8        134.7   \n",
       "\n",
       "   POINTS_L_Y4  POINTS_L_Y5  CALL_FLAG  CREDIT_PROBLEM  RETURN_FLAG  \\\n",
       "0        110.0         62.2          0               1            0   \n",
       "1        260.8        267.3          0               0            0   \n",
       "2        118.2        120.6          0               0            0   \n",
       "3         91.8        107.3          0               0            1   \n",
       "4        163.8        147.9          0               1            0   \n",
       "5        132.2        139.1          0               0            1   \n",
       "6        191.9        172.8          0               0            0   \n",
       "7        113.8        121.9          0               0            0   \n",
       "8         85.1        113.2          0               0            0   \n",
       "9        104.3        132.0          0               0            0   \n",
       "\n",
       "   BENEFIT_FLAG  BUYER_FLAG  rating  \n",
       "0             0           0     2.0  \n",
       "1             0           0     2.0  \n",
       "2             0           0     2.0  \n",
       "3             0           0     2.0  \n",
       "4             0           0     1.0  \n",
       "5             0           0     2.0  \n",
       "6             0           0     2.0  \n",
       "7             0           0     2.0  \n",
       "8             0           0     2.0  \n",
       "9             0           0     2.0  \n",
       "\n",
       "[10 rows x 22 columns]"
      ]
     },
     "execution_count": 407,
     "metadata": {},
     "output_type": "execute_result"
    }
   ],
   "source": [
    "reviews_withOnlyRating_rollout = pd.DataFrame(reviews_rollout, columns = ['ID', 'rating']) \n",
    "data_withRating_rollout = pd.merge(data_rollout, reviews_withOnlyRating_rollout, how='outer', left_on='ID', right_on='ID')\n",
    "data_withRating_rollout['rating'] = data_withRating_rollout['rating'].fillna(2)\n",
    "\n",
    "data_withRating_rollout.head(10)"
   ]
  },
  {
   "cell_type": "code",
   "execution_count": 408,
   "metadata": {
    "scrolled": true
   },
   "outputs": [
    {
     "name": "stderr",
     "output_type": "stream",
     "text": [
      "C:\\Users\\or.hirshman\\Downloads\\WPy64-3771\\python-3.7.7.amd64\\lib\\site-packages\\ipykernel_launcher.py:3: SettingWithCopyWarning: \n",
      "A value is trying to be set on a copy of a slice from a DataFrame.\n",
      "Try using .loc[row_indexer,col_indexer] = value instead\n",
      "\n",
      "See the caveats in the documentation: https://pandas.pydata.org/pandas-docs/stable/user_guide/indexing.html#returning-a-view-versus-a-copy\n",
      "  This is separate from the ipykernel package so we can avoid doing imports until\n",
      "C:\\Users\\or.hirshman\\Downloads\\WPy64-3771\\python-3.7.7.amd64\\lib\\site-packages\\ipykernel_launcher.py:4: SettingWithCopyWarning: \n",
      "A value is trying to be set on a copy of a slice from a DataFrame.\n",
      "Try using .loc[row_indexer,col_indexer] = value instead\n",
      "\n",
      "See the caveats in the documentation: https://pandas.pydata.org/pandas-docs/stable/user_guide/indexing.html#returning-a-view-versus-a-copy\n",
      "  after removing the cwd from sys.path.\n",
      "C:\\Users\\or.hirshman\\Downloads\\WPy64-3771\\python-3.7.7.amd64\\lib\\site-packages\\ipykernel_launcher.py:5: SettingWithCopyWarning: \n",
      "A value is trying to be set on a copy of a slice from a DataFrame.\n",
      "Try using .loc[row_indexer,col_indexer] = value instead\n",
      "\n",
      "See the caveats in the documentation: https://pandas.pydata.org/pandas-docs/stable/user_guide/indexing.html#returning-a-view-versus-a-copy\n",
      "  \"\"\"\n",
      "C:\\Users\\or.hirshman\\Downloads\\WPy64-3771\\python-3.7.7.amd64\\lib\\site-packages\\ipykernel_launcher.py:6: SettingWithCopyWarning: \n",
      "A value is trying to be set on a copy of a slice from a DataFrame.\n",
      "Try using .loc[row_indexer,col_indexer] = value instead\n",
      "\n",
      "See the caveats in the documentation: https://pandas.pydata.org/pandas-docs/stable/user_guide/indexing.html#returning-a-view-versus-a-copy\n",
      "  \n",
      "C:\\Users\\or.hirshman\\Downloads\\WPy64-3771\\python-3.7.7.amd64\\lib\\site-packages\\ipykernel_launcher.py:7: SettingWithCopyWarning: \n",
      "A value is trying to be set on a copy of a slice from a DataFrame.\n",
      "Try using .loc[row_indexer,col_indexer] = value instead\n",
      "\n",
      "See the caveats in the documentation: https://pandas.pydata.org/pandas-docs/stable/user_guide/indexing.html#returning-a-view-versus-a-copy\n",
      "  import sys\n",
      "C:\\Users\\or.hirshman\\Downloads\\WPy64-3771\\python-3.7.7.amd64\\lib\\site-packages\\ipykernel_launcher.py:8: SettingWithCopyWarning: \n",
      "A value is trying to be set on a copy of a slice from a DataFrame.\n",
      "Try using .loc[row_indexer,col_indexer] = value instead\n",
      "\n",
      "See the caveats in the documentation: https://pandas.pydata.org/pandas-docs/stable/user_guide/indexing.html#returning-a-view-versus-a-copy\n",
      "  \n",
      "C:\\Users\\or.hirshman\\Downloads\\WPy64-3771\\python-3.7.7.amd64\\lib\\site-packages\\ipykernel_launcher.py:9: SettingWithCopyWarning: \n",
      "A value is trying to be set on a copy of a slice from a DataFrame.\n",
      "Try using .loc[row_indexer,col_indexer] = value instead\n",
      "\n",
      "See the caveats in the documentation: https://pandas.pydata.org/pandas-docs/stable/user_guide/indexing.html#returning-a-view-versus-a-copy\n",
      "  if __name__ == '__main__':\n",
      "C:\\Users\\or.hirshman\\Downloads\\WPy64-3771\\python-3.7.7.amd64\\lib\\site-packages\\ipykernel_launcher.py:10: SettingWithCopyWarning: \n",
      "A value is trying to be set on a copy of a slice from a DataFrame.\n",
      "Try using .loc[row_indexer,col_indexer] = value instead\n",
      "\n",
      "See the caveats in the documentation: https://pandas.pydata.org/pandas-docs/stable/user_guide/indexing.html#returning-a-view-versus-a-copy\n",
      "  # Remove the CWD from sys.path while we load stuff.\n"
     ]
    }
   ],
   "source": [
    "withoutId_rollout = data_withRating_rollout[data_withRating_rollout.columns[1:]]\n",
    "\n",
    "withoutId_rollout['GROUP'] = pd.Categorical(withoutId_rollout.GROUP)\n",
    "withoutId_rollout['CHEF_CLUB'] = pd.Categorical(withoutId_rollout.CHEF_CLUB)\n",
    "withoutId_rollout['CALL_FLAG'] = pd.Categorical(withoutId_rollout.CALL_FLAG)\n",
    "withoutId_rollout['CREDIT_PROBLEM'] = pd.Categorical(withoutId_rollout.CREDIT_PROBLEM)\n",
    "withoutId_rollout['RETURN_FLAG'] = pd.Categorical(withoutId_rollout.RETURN_FLAG)\n",
    "withoutId_rollout['BENEFIT_FLAG'] = pd.Categorical(withoutId_rollout.BENEFIT_FLAG)\n",
    "withoutId_rollout['BUYER_FLAG'] = pd.Categorical(withoutId_rollout.BUYER_FLAG)\n",
    "withoutId_rollout['rating'] = pd.Categorical(withoutId_rollout.rating)\n",
    "\n",
    "features_holdout = withoutId_rollout.loc[:, withoutId_rollout.columns != 'BUYER_FLAG']"
   ]
  },
  {
   "cell_type": "code",
   "execution_count": 415,
   "metadata": {},
   "outputs": [],
   "source": [
    "rollout_probs = randomForest.predict_proba(features_holdout)"
   ]
  },
  {
   "cell_type": "code",
   "execution_count": 420,
   "metadata": {},
   "outputs": [],
   "source": [
    "rollout_17=[1 if i > 0.17 else 0 for i in rollout_probs[:, 1]]"
   ]
  },
  {
   "cell_type": "code",
   "execution_count": 421,
   "metadata": {},
   "outputs": [
    {
     "name": "stdout",
     "output_type": "stream",
     "text": [
      "       0\n",
      "0      0\n",
      "1      0\n",
      "2      0\n",
      "3      0\n",
      "4      1\n",
      "...   ..\n",
      "24995  0\n",
      "24996  0\n",
      "24997  0\n",
      "24998  1\n",
      "24999  0\n",
      "\n",
      "[25000 rows x 1 columns]\n"
     ]
    }
   ],
   "source": [
    "df_rollout = pd.DataFrame(rollout_17)\n",
    "\n",
    "print(df_rollout)"
   ]
  },
  {
   "cell_type": "code",
   "execution_count": 423,
   "metadata": {},
   "outputs": [],
   "source": [
    "df_rollout.to_csv(r'C:\\\\Users\\\\or.hirshman\\\\Downloads\\\\final_project\\\\project_pelet.csv', index = True)"
   ]
  },
  {
   "cell_type": "code",
   "execution_count": 422,
   "metadata": {},
   "outputs": [],
   "source": [
    "data_withRating_rollout.to_csv(r'C:\\\\Users\\\\or.hirshman\\\\Downloads\\\\final_project\\\\data_withRating_rollout.csv', index = True)"
   ]
  },
  {
   "cell_type": "code",
   "execution_count": null,
   "metadata": {},
   "outputs": [],
   "source": []
  }
 ],
 "metadata": {
  "kernelspec": {
   "display_name": "Python 3",
   "language": "python",
   "name": "python3"
  },
  "language_info": {
   "codemirror_mode": {
    "name": "ipython",
    "version": 3
   },
   "file_extension": ".py",
   "mimetype": "text/x-python",
   "name": "python",
   "nbconvert_exporter": "python",
   "pygments_lexer": "ipython3",
   "version": "3.7.7"
  }
 },
 "nbformat": 4,
 "nbformat_minor": 4
}
