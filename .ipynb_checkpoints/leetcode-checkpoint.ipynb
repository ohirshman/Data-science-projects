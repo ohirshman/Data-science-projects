{
 "cells": [
  {
   "cell_type": "code",
   "execution_count": 14,
   "metadata": {},
   "outputs": [
    {
     "data": {
      "text/plain": [
       "'aefgiknv'"
      ]
     },
     "execution_count": 14,
     "metadata": {},
     "output_type": "execute_result"
    }
   ],
   "source": [
    "# Sort string\n",
    "\n",
    "var = \"fgkaneiv\"\n",
    "res = ''.join(sorted(var)) \n",
    "res"
   ]
  },
  {
   "cell_type": "code",
   "execution_count": 36,
   "metadata": {},
   "outputs": [
    {
     "data": {
      "text/plain": [
       "'Mr%20Jon%20Smith'"
      ]
     },
     "metadata": {},
     "output_type": "display_data"
    }
   ],
   "source": [
    "# Replace space with %20\n",
    "\n",
    "var = \" Mr    Jon   Smith     \"\n",
    "def Replace_space_with_20(string):\n",
    "    arr = string.split(\" \")\n",
    "    res_arr = []\n",
    "    for i in range(len(arr)):\n",
    "        if arr[i] != \"\":\n",
    "            res_arr.append(arr[i])\n",
    "    res = '%20'.join(res_arr)\n",
    "    return res\n",
    "    \n",
    "display(Replace_space_with_20(var))\n",
    "\n"
   ]
  },
  {
   "cell_type": "code",
   "execution_count": null,
   "metadata": {},
   "outputs": [],
   "source": [
    "# Replace space with %20 - in place\n",
    "\n",
    "string = \" Mr Jon Smith   \"\n",
    "new_len = len(string)\n",
    "for i in len(string):\n",
    "    if string[i] != \" \":\n",
    "        new_len += 1\n",
    "    else:\n",
    "        if i< len(string) and string[i+1] == \" \":\n",
    "            continue\n",
    "        else\n",
    "            new_len += 2\n",
    "            \n",
    "for i in len(new_len):\n",
    "    if string[i] == \" \" "
   ]
  },
  {
   "cell_type": "code",
   "execution_count": 91,
   "metadata": {},
   "outputs": [
    {
     "name": "stdout",
     "output_type": "stream",
     "text": [
      "['a', 'a', 'a', 'a', 'l', 'l', 'm', 'p', 'p']\n",
      "True\n",
      "True\n"
     ]
    }
   ],
   "source": [
    "# Check if string is permotation of polindrom\n",
    "\n",
    "def is_string_polindrom_permo_hash(string):\n",
    "    dict = {}\n",
    "    for char in string:\n",
    "        if char not in dict:\n",
    "            dict[char] = 1\n",
    "        else:\n",
    "            dict[char] += 1\n",
    "\n",
    "    is_char_used = False\n",
    "    for value in dict.values():\n",
    "        if value%2 != 0:\n",
    "            if is_char_used == False:\n",
    "                is_char_used = True\n",
    "            else:\n",
    "                return False\n",
    "    return True\n",
    "\n",
    "def is_string_polindrom_permo_sort(string):\n",
    "    length = len(string)\n",
    "    is_char_used = False\n",
    "    sorted_str = sorted(string)\n",
    "    print(sorted_str)\n",
    "    for i in range(0, len(sorted_str) - 1, 2):\n",
    "        if sorted_str[i] != sorted_str[i+1]:\n",
    "            if length%2 == 1 and is_char_used == False:\n",
    "                is_char_used = True\n",
    "            else:\n",
    "                return False\n",
    "            \n",
    "\n",
    "    return True  \n",
    "\n",
    "string = \"apalmlapa\"\n",
    "print(is_string_polindrom_permo_sort(string))\n",
    "print(is_string_polindrom_permo_hash(string))"
   ]
  },
  {
   "cell_type": "code",
   "execution_count": 110,
   "metadata": {},
   "outputs": [
    {
     "name": "stdout",
     "output_type": "stream",
     "text": [
      "True\n",
      "True\n",
      "True\n",
      "False\n"
     ]
    }
   ],
   "source": [
    "# Is there one string change maximum? add \\ delete \\ replace\n",
    "\n",
    "def one_way_deleted(origin, changed):\n",
    "    one_diff = 0\n",
    "    if len(origin) - len(changed) == 1:\n",
    "        for i in range(len(changed)):\n",
    "            if origin[i] != changed[i + one_diff]:\n",
    "                if one_diff == 0:\n",
    "                    one_diff = -1\n",
    "                else:\n",
    "                    return False\n",
    "        return True\n",
    "    \n",
    "def one_way_added(origin, changed):\n",
    "      return one_way_deleted(changed, origin)\n",
    "    \n",
    "def one_way_edited(origin, changed):\n",
    "    one_diff = 0\n",
    "    if len(origin) == len(changed):\n",
    "        for i in range(len(changed)):\n",
    "            if origin[i] != changed[i]:\n",
    "                if one_diff == 0:\n",
    "                    one_diff = 1\n",
    "                else:\n",
    "                    return False\n",
    "        return True    \n",
    "\n",
    "def one_way(origin, changed):\n",
    "    if origin == changed:\n",
    "        return True \n",
    "    if one_way_deleted(origin, changed) == True:\n",
    "        return True\n",
    "    if one_way_added(origin, changed) == True:\n",
    "        return True\n",
    "    if one_way_edited(origin, changed) == True:\n",
    "        return True\n",
    "    return False\n",
    "\n",
    "print(one_way(\"pale\", \"ple\"))\n",
    "print(one_way(\"pal\", \"pale\")) \n",
    "print(one_way(\"pale\", \"bale\")) \n",
    "print(one_way(\"pale\", \"plea\")) "
   ]
  },
  {
   "cell_type": "code",
   "execution_count": 174,
   "metadata": {},
   "outputs": [
    {
     "name": "stdout",
     "output_type": "stream",
     "text": [
      "True\n",
      "True\n",
      "True\n",
      "True\n",
      "False\n",
      "False\n"
     ]
    }
   ],
   "source": [
    "# Is there a path between to vertices in graph?\n",
    "\n",
    "import queue\n",
    "\n",
    "\n",
    "class GraphNode:\n",
    "    def __init__(self, val, children = [], visited = False):\n",
    "        self.val = val\n",
    "        self.visited = visited\n",
    "        self.children = children\n",
    "\n",
    "    def set_visited(self, visited):\n",
    "        self.visited = visited\n",
    "        \n",
    "    def set_children(self, children):\n",
    "        self.children = children\n",
    "\n",
    "\n",
    "def is_path_between_2_nodes(nodeA, nodeB):\n",
    "    q = queue.Queue()\n",
    "    q.put(nodeA)\n",
    "    while not q.empty():\n",
    "        node = q.get()\n",
    "        if not node.visited:\n",
    "            if node is nodeB:\n",
    "                return True\n",
    "            node.set_visited(True)\n",
    "            for child in node.children:\n",
    "                q.put(child)\n",
    "\n",
    "    return False\n",
    "\n",
    "node0 = GraphNode(0, [])\n",
    "node7 = GraphNode(7, [node0])\n",
    "node3 = GraphNode(3, [node7])\n",
    "node8 = GraphNode(8)\n",
    "node10 = GraphNode(10, [node8])\n",
    "node2 = GraphNode(2, [node10, node7, node3])\n",
    "node8.set_children([node2])\n",
    "\n",
    "nodes_list = [node0, node7, node3, node8, node10, node2]\n",
    "\n",
    "def nodes_unvisited(list):\n",
    "    for node in list:\n",
    "        node.set_visited(False)\n",
    "        \n",
    "print(is_path_between_2_nodes(node2, node0))\n",
    "\n",
    "nodes_unvisited(nodes_list)\n",
    "\n",
    "print(is_path_between_2_nodes(node10, node2))\n",
    "nodes_unvisited(nodes_list)\n",
    "\n",
    "print(is_path_between_2_nodes(node3, node0))\n",
    "nodes_unvisited(nodes_list)\n",
    "\n",
    "print(is_path_between_2_nodes(node8, node7))\n",
    "nodes_unvisited(nodes_list)\n",
    "\n",
    "print(is_path_between_2_nodes(node3, node8))\n",
    "nodes_unvisited(nodes_list)\n",
    "\n",
    "print(is_path_between_2_nodes(node3, node10))"
   ]
  },
  {
   "cell_type": "code",
   "execution_count": 114,
   "metadata": {},
   "outputs": [
    {
     "name": "stdout",
     "output_type": "stream",
     "text": [
      "[1, 3, 2]\n"
     ]
    }
   ],
   "source": [
    "# Tree- in order traversal\n",
    "\n",
    "class TreeNode:\n",
    "    def __init__(self, val=0, left=None, right=None):\n",
    "        self.val = val\n",
    "        self.left = left\n",
    "        self.right = right\n",
    "\n",
    "def helper(root, arr):\n",
    "    if root is None:\n",
    "        return None\n",
    "    helper(root.left, arr)\n",
    "    arr.append(root.val)\n",
    "    helper(root.right, arr)\n",
    "\n",
    "def inorderTraversal(root):\n",
    "    arr = []\n",
    "    helper(root, arr)\n",
    "    return arr\n",
    "    \n",
    "\n",
    "print(inorderTraversal(TreeNode(1, None, TreeNode(2, TreeNode(3), None))))   "
   ]
  },
  {
   "cell_type": "code",
   "execution_count": 123,
   "metadata": {},
   "outputs": [
    {
     "name": "stdout",
     "output_type": "stream",
     "text": [
      "False\n",
      "True\n"
     ]
    }
   ],
   "source": [
    "# Check if binary tree is binary search tree\n",
    "\n",
    "def is_binary_tree_BST(tree):\n",
    "    inorder_tree_arr = inorderTraversal(tree)\n",
    "    if inorder_tree_arr == sorted(inorder_tree_arr):\n",
    "        return True\n",
    "    return False\n",
    "\n",
    "tree = TreeNode(1, None, TreeNode(2, TreeNode(3), None))\n",
    "print(is_binary_tree_BST(tree))\n",
    "tree2 = TreeNode(4, TreeNode(2, None, TreeNode(3)), TreeNode(6, TreeNode(5), None))\n",
    "print(is_binary_tree_BST(tree2))"
   ]
  },
  {
   "cell_type": "code",
   "execution_count": null,
   "metadata": {},
   "outputs": [],
   "source": [
    "# Tree- create binary search tree from a sorted array\n",
    "\n",
    "def createBST_helper(arr, start, end):\n",
    "    if start > end:\n",
    "        return None\n",
    "    mid_index = (start + end) // 2\n",
    "    TreeNode treeNode\n",
    "    treeNode.val = arr[mid_index]\n",
    "    treeNode.left = createBST_helper(arr, start, mid_index - 1)\n",
    "    treeNode.right = createBST_helper(arr, mid_index + 1, end)   \n",
    "    return treeNode\n",
    "    \n",
    "def createBST(arr):\n",
    "    return createBST_helper(arr, 0, len(arr))\n",
    "    "
   ]
  },
  {
   "cell_type": "code",
   "execution_count": 136,
   "metadata": {},
   "outputs": [
    {
     "name": "stdout",
     "output_type": "stream",
     "text": [
      "{0: [5], 1: [7, 2], 2: [1, 3], 3: [10]}\n"
     ]
    }
   ],
   "source": [
    "# Create list for each tree layer\n",
    "\n",
    "def create_list_foreach_tree_layer(root_node):\n",
    "    dict_lists = {}\n",
    "    index = 0\n",
    "    parents = []\n",
    "    parents.append(root_node)\n",
    "    children = []\n",
    "    children.append(root_node)\n",
    "    while len(children) > 0:\n",
    "        dict_lists[index] = [child.val for child in children]\n",
    "        children = []\n",
    "        for parent in parents:\n",
    "            if parent.left:\n",
    "                children.append(parent.left)\n",
    "            if parent.right:\n",
    "                children.append(parent.right)\n",
    "        index += 1\n",
    "        parents = children\n",
    "\n",
    "    return dict_lists\n",
    "\n",
    "\n",
    "tree = TreeNode(5, TreeNode(7, TreeNode(1), None), TreeNode(2, TreeNode(3, None, TreeNode(10)), None))\n",
    "res_dict = create_list_foreach_tree_layer(tree)\n",
    "print(res_dict)"
   ]
  },
  {
   "cell_type": "code",
   "execution_count": 135,
   "metadata": {},
   "outputs": [
    {
     "name": "stdout",
     "output_type": "stream",
     "text": [
      "False\n",
      "True\n"
     ]
    }
   ],
   "source": [
    "# Check if tree is balanced\n",
    "\n",
    "def check_if_tree_balanced_inner(root_node):\n",
    "    if root_node is None:\n",
    "        return 0\n",
    "    left = check_if_tree_balanced_inner(root_node.left)\n",
    "    if left == -1:\n",
    "        return -1\n",
    "    right = check_if_tree_balanced_inner(root_node.right)\n",
    "    if right == -1:\n",
    "        return -1\n",
    "\n",
    "    if abs(left - right) > 1:\n",
    "        return -1\n",
    "    else:\n",
    "        return max(left, right) + 1\n",
    "\n",
    "def check_if_tree_balanced(tree):\n",
    "    if check_if_tree_balanced_inner(tree) == -1:\n",
    "        return False\n",
    "    return True\n",
    "\n",
    "tree = TreeNode(5, None, TreeNode(2, TreeNode(3, TreeNode(8, TreeNode(4), None), None), None))\n",
    "print(check_if_tree_balanced(tree))\n",
    "\n",
    "tree = TreeNode(5, TreeNode(7, TreeNode(1), None), TreeNode(2, TreeNode(3), None))\n",
    "print(check_if_tree_balanced(tree))"
   ]
  },
  {
   "cell_type": "code",
   "execution_count": 160,
   "metadata": {},
   "outputs": [
    {
     "name": "stdout",
     "output_type": "stream",
     "text": [
      "2\n",
      "3\n",
      "4\n",
      "5\n",
      "6\n",
      "7\n",
      "8\n",
      "None\n"
     ]
    }
   ],
   "source": [
    "# Find node successor\n",
    "\n",
    "class TreeNodeWithParent:\n",
    "    def __init__(self, val=0, left=None, right=None, parent = None):\n",
    "        self.val = val\n",
    "        self.left = left\n",
    "        self.right = right\n",
    "        self.parent = parent\n",
    "    \n",
    "    def set_parent(self, parent):\n",
    "        self.parent = parent\n",
    "\n",
    "\n",
    "def find_node_successor(node):\n",
    "    if node.right:\n",
    "        node = node.right\n",
    "        while node.left:\n",
    "            node = node.left\n",
    "        return node.val\n",
    "    \n",
    "    \n",
    "    if node.parent: \n",
    "        curr = node.val\n",
    "        while node.parent:\n",
    "            if node.parent.val > curr:\n",
    "                return node.parent.val\n",
    "            node = node.parent\n",
    "\n",
    "    return None\n",
    "        \n",
    "    \n",
    "\n",
    "one_node = TreeNodeWithParent(1)\n",
    "four_node = TreeNodeWithParent(4)\n",
    "three_node = TreeNodeWithParent(3, None, four_node)\n",
    "seven_node = TreeNodeWithParent(7)\n",
    "six_node = TreeNodeWithParent(6, None, seven_node)\n",
    "eight_node = TreeNodeWithParent(8, six_node, None)\n",
    "two_node = TreeNodeWithParent(2, one_node, three_node)\n",
    "root = TreeNodeWithParent(5, two_node, eight_node)\n",
    "\n",
    "one_node.set_parent(two_node)\n",
    "three_node.set_parent(two_node)\n",
    "four_node.set_parent(three_node)\n",
    "seven_node.set_parent(six_node)\n",
    "six_node.set_parent(eight_node)\n",
    "two_node.set_parent(root)\n",
    "eight_node.set_parent(root)\n",
    "\n",
    "\n",
    "print(find_node_successor(one_node))   \n",
    "print(find_node_successor(two_node)) \n",
    "print(find_node_successor(three_node))  \n",
    "print(find_node_successor(four_node)) \n",
    "print(find_node_successor(root))\n",
    "print(find_node_successor(six_node))   \n",
    "print(find_node_successor(seven_node))  \n",
    "print(find_node_successor(eight_node))       "
   ]
  },
  {
   "cell_type": "code",
   "execution_count": 193,
   "metadata": {},
   "outputs": [
    {
     "name": "stdout",
     "output_type": "stream",
     "text": [
      "['e', 'f', 'b', 'd', 'a', 'c']\n"
     ]
    }
   ],
   "source": [
    "# Find build order\n",
    "\n",
    "def exclude_items_from_list(list1, list2):\n",
    "    return [i for i in list1 if i not in list2]\n",
    "\n",
    "\n",
    "def find_build_order(projects, dependencies):\n",
    "    dependents = [dependency[1] for dependency in dependencies]\n",
    "    independents = exclude_items_from_list(projects, dependents)\n",
    "    if not independents or independents == []:\n",
    "        return []\n",
    "\n",
    "    ordered_projects = independents\n",
    "    at_least_one_can_build = True\n",
    "    while at_least_one_can_build is True:\n",
    "        at_least_one_can_build = False\n",
    "        dependencies_to_remove = []\n",
    "        for pair in dependencies:\n",
    "            if pair[0] in ordered_projects:\n",
    "                if pair[1] not in ordered_projects:\n",
    "                    ordered_projects.append(pair[1])\n",
    "                dependencies_to_remove.append(pair)\n",
    "                at_least_one_can_build = True\n",
    "        for dependency in dependencies_to_remove:\n",
    "            dependencies.remove(dependency)\n",
    "\n",
    "    if dependencies == []:\n",
    "        return ordered_projects\n",
    "    return []\n",
    "\n",
    "\n",
    "projects = ['a', 'b', 'c', 'd', 'e', 'f']\n",
    "dependencies = [('a', 'd'), ('f', 'b'), ('b', 'd'), ('f', 'a'), ('d', 'c')]\n",
    "\n",
    "print(find_build_order(projects, dependencies))"
   ]
  },
  {
   "cell_type": "code",
   "execution_count": null,
   "metadata": {},
   "outputs": [],
   "source": [
    "# Find first common ancestor for binary search tree"
   ]
  }
 ],
 "metadata": {
  "kernelspec": {
   "display_name": "Python 3",
   "language": "python",
   "name": "python3"
  },
  "language_info": {
   "codemirror_mode": {
    "name": "ipython",
    "version": 3
   },
   "file_extension": ".py",
   "mimetype": "text/x-python",
   "name": "python",
   "nbconvert_exporter": "python",
   "pygments_lexer": "ipython3",
   "version": "3.7.7"
  }
 },
 "nbformat": 4,
 "nbformat_minor": 4
}
