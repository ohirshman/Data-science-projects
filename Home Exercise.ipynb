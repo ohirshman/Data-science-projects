{
 "cells": [
  {
   "cell_type": "code",
   "execution_count": 1,
   "metadata": {},
   "outputs": [
    {
     "name": "stderr",
     "output_type": "stream",
     "text": [
      "Using TensorFlow backend.\n"
     ]
    }
   ],
   "source": [
    "import pandas as pd\n",
    "import numpy as np\n",
    "from sklearn.metrics import confusion_matrix\n",
    "import random\n",
    "from sklearn.linear_model import LogisticRegression\n",
    "from sklearn.ensemble import GradientBoostingClassifier\n",
    "from sklearn.feature_selection import RFECV\n",
    "from sklearn.ensemble import RandomForestClassifier\n",
    "from sklearn.neural_network import MLPClassifier\n",
    "import matplotlib.pyplot as plt\n",
    "from sklearn.ensemble import AdaBoostClassifier\n",
    "from sklearn import svm\n",
    "from sklearn.neighbors import KNeighborsClassifier\n",
    "from sklearn.naive_bayes import MultinomialNB \n",
    "from sklearn.preprocessing import StandardScaler\n",
    "from sklearn.svm import SVC\n",
    "from sklearn import preprocessing\n",
    "from sklearn.feature_selection import SelectFromModel\n",
    "from sklearn.model_selection import train_test_split\n",
    "from sklearn.model_selection import cross_val_score\n",
    "from sklearn.metrics import classification_report, confusion_matrix\n",
    "from sklearn.metrics import roc_auc_score\n",
    "from xgboost import XGBClassifier\n",
    "from sklearn.neighbors import KNeighborsClassifier\n",
    "from sklearn.metrics import accuracy_score\n",
    "from sklearn.model_selection import RandomizedSearchCV\n",
    "from sklearn.model_selection import cross_val_predict\n",
    "from sklearn import metrics\n",
    "import keras\n",
    "from keras.models import load_model \n",
    "from keras import optimizers\n",
    "from keras.optimizers import Adam\n",
    "from sklearn.preprocessing import MinMaxScaler\n",
    "import tensorflow as tf\n",
    "from sklearn.model_selection import GridSearchCV\n",
    "from keras.wrappers.scikit_learn import KerasClassifier\n",
    "import matplotlib.pyplot as plt\n",
    "import seaborn as sns"
   ]
  },
  {
   "cell_type": "code",
   "execution_count": 7,
   "metadata": {},
   "outputs": [],
   "source": [
    "# Read tsv file as csv\n",
    "data = pd.read_csv('C:\\\\Users\\\\or.hirshman\\\\Documents\\\\\\learning\\\\DS_Projects\\\\similarweb\\\\DQ_Data_b.tsv', sep='\\t')"
   ]
  },
  {
   "cell_type": "code",
   "execution_count": 8,
   "metadata": {},
   "outputs": [
    {
     "data": {
      "text/html": [
       "<div>\n",
       "<style scoped>\n",
       "    .dataframe tbody tr th:only-of-type {\n",
       "        vertical-align: middle;\n",
       "    }\n",
       "\n",
       "    .dataframe tbody tr th {\n",
       "        vertical-align: top;\n",
       "    }\n",
       "\n",
       "    .dataframe thead th {\n",
       "        text-align: right;\n",
       "    }\n",
       "</style>\n",
       "<table border=\"1\" class=\"dataframe\">\n",
       "  <thead>\n",
       "    <tr style=\"text-align: right;\">\n",
       "      <th></th>\n",
       "      <th>source</th>\n",
       "      <th>site</th>\n",
       "      <th>% U</th>\n",
       "      <th>V</th>\n",
       "    </tr>\n",
       "  </thead>\n",
       "  <tbody>\n",
       "    <tr>\n",
       "      <th>0</th>\n",
       "      <td>0</td>\n",
       "      <td>06880danwoog.com*</td>\n",
       "      <td>3.343111e-06</td>\n",
       "      <td>36280.0</td>\n",
       "    </tr>\n",
       "    <tr>\n",
       "      <th>1</th>\n",
       "      <td>0</td>\n",
       "      <td>0800-horoscope.com*</td>\n",
       "      <td>1.075026e-05</td>\n",
       "      <td>120690.0</td>\n",
       "    </tr>\n",
       "    <tr>\n",
       "      <th>2</th>\n",
       "      <td>0</td>\n",
       "      <td>10000boatnames.com*</td>\n",
       "      <td>5.871362e-07</td>\n",
       "      <td>6858.0</td>\n",
       "    </tr>\n",
       "    <tr>\n",
       "      <th>3</th>\n",
       "      <td>0</td>\n",
       "      <td>100bestvacations.com*</td>\n",
       "      <td>1.516845e-06</td>\n",
       "      <td>12891.0</td>\n",
       "    </tr>\n",
       "    <tr>\n",
       "      <th>4</th>\n",
       "      <td>0</td>\n",
       "      <td>100stuartstreet.com*</td>\n",
       "      <td>1.128228e-06</td>\n",
       "      <td>9758.0</td>\n",
       "    </tr>\n",
       "  </tbody>\n",
       "</table>\n",
       "</div>"
      ],
      "text/plain": [
       "   source                   site           % U         V\n",
       "0       0      06880danwoog.com*  3.343111e-06   36280.0\n",
       "1       0    0800-horoscope.com*  1.075026e-05  120690.0\n",
       "2       0    10000boatnames.com*  5.871362e-07    6858.0\n",
       "3       0  100bestvacations.com*  1.516845e-06   12891.0\n",
       "4       0   100stuartstreet.com*  1.128228e-06    9758.0"
      ]
     },
     "execution_count": 8,
     "metadata": {},
     "output_type": "execute_result"
    }
   ],
   "source": [
    "data.head()"
   ]
  },
  {
   "cell_type": "code",
   "execution_count": 9,
   "metadata": {},
   "outputs": [
    {
     "name": "stdout",
     "output_type": "stream",
     "text": [
      "<class 'pandas.core.frame.DataFrame'>\n",
      "RangeIndex: 28364 entries, 0 to 28363\n",
      "Data columns (total 4 columns):\n",
      " #   Column  Non-Null Count  Dtype  \n",
      "---  ------  --------------  -----  \n",
      " 0   source  28364 non-null  int64  \n",
      " 1   site    28364 non-null  object \n",
      " 2   % U     28364 non-null  float64\n",
      " 3   V       28364 non-null  float64\n",
      "dtypes: float64(2), int64(1), object(1)\n",
      "memory usage: 886.5+ KB\n"
     ]
    }
   ],
   "source": [
    "data.info()\n",
    "# We have 28364 entries, and 4 columns"
   ]
  },
  {
   "cell_type": "code",
   "execution_count": 10,
   "metadata": {},
   "outputs": [
    {
     "data": {
      "text/html": [
       "<div>\n",
       "<style scoped>\n",
       "    .dataframe tbody tr th:only-of-type {\n",
       "        vertical-align: middle;\n",
       "    }\n",
       "\n",
       "    .dataframe tbody tr th {\n",
       "        vertical-align: top;\n",
       "    }\n",
       "\n",
       "    .dataframe thead th {\n",
       "        text-align: right;\n",
       "    }\n",
       "</style>\n",
       "<table border=\"1\" class=\"dataframe\">\n",
       "  <thead>\n",
       "    <tr style=\"text-align: right;\">\n",
       "      <th></th>\n",
       "      <th>source</th>\n",
       "      <th>% U</th>\n",
       "      <th>V</th>\n",
       "    </tr>\n",
       "  </thead>\n",
       "  <tbody>\n",
       "    <tr>\n",
       "      <th>count</th>\n",
       "      <td>28364.000000</td>\n",
       "      <td>2.836400e+04</td>\n",
       "      <td>2.836400e+04</td>\n",
       "    </tr>\n",
       "    <tr>\n",
       "      <th>mean</th>\n",
       "      <td>1.136723</td>\n",
       "      <td>1.278015e-04</td>\n",
       "      <td>1.337023e+06</td>\n",
       "    </tr>\n",
       "    <tr>\n",
       "      <th>std</th>\n",
       "      <td>1.021121</td>\n",
       "      <td>3.093624e-03</td>\n",
       "      <td>3.460400e+07</td>\n",
       "    </tr>\n",
       "    <tr>\n",
       "      <th>min</th>\n",
       "      <td>0.000000</td>\n",
       "      <td>1.045405e-07</td>\n",
       "      <td>1.020107e+03</td>\n",
       "    </tr>\n",
       "    <tr>\n",
       "      <th>25%</th>\n",
       "      <td>0.000000</td>\n",
       "      <td>2.165681e-06</td>\n",
       "      <td>2.085839e+04</td>\n",
       "    </tr>\n",
       "    <tr>\n",
       "      <th>50%</th>\n",
       "      <td>1.000000</td>\n",
       "      <td>7.001150e-06</td>\n",
       "      <td>6.868358e+04</td>\n",
       "    </tr>\n",
       "    <tr>\n",
       "      <th>75%</th>\n",
       "      <td>2.000000</td>\n",
       "      <td>3.019798e-05</td>\n",
       "      <td>3.009082e+05</td>\n",
       "    </tr>\n",
       "    <tr>\n",
       "      <th>max</th>\n",
       "      <td>3.000000</td>\n",
       "      <td>4.345977e-01</td>\n",
       "      <td>4.872713e+09</td>\n",
       "    </tr>\n",
       "  </tbody>\n",
       "</table>\n",
       "</div>"
      ],
      "text/plain": [
       "             source           % U             V\n",
       "count  28364.000000  2.836400e+04  2.836400e+04\n",
       "mean       1.136723  1.278015e-04  1.337023e+06\n",
       "std        1.021121  3.093624e-03  3.460400e+07\n",
       "min        0.000000  1.045405e-07  1.020107e+03\n",
       "25%        0.000000  2.165681e-06  2.085839e+04\n",
       "50%        1.000000  7.001150e-06  6.868358e+04\n",
       "75%        2.000000  3.019798e-05  3.009082e+05\n",
       "max        3.000000  4.345977e-01  4.872713e+09"
      ]
     },
     "execution_count": 10,
     "metadata": {},
     "output_type": "execute_result"
    }
   ],
   "source": [
    "data.describe()"
   ]
  },
  {
   "cell_type": "code",
   "execution_count": 11,
   "metadata": {},
   "outputs": [
    {
     "data": {
      "text/plain": [
       "source    0\n",
       "site      0\n",
       "% U       0\n",
       "V         0\n",
       "dtype: int64"
      ]
     },
     "execution_count": 11,
     "metadata": {},
     "output_type": "execute_result"
    }
   ],
   "source": [
    "# Check for Nulls\n",
    "data.isnull().sum()\n",
    "\n",
    "#There ane no Nulls for all entries"
   ]
  },
  {
   "cell_type": "code",
   "execution_count": 12,
   "metadata": {},
   "outputs": [
    {
     "data": {
      "text/plain": [
       "9699"
      ]
     },
     "execution_count": 12,
     "metadata": {},
     "output_type": "execute_result"
    }
   ],
   "source": [
    "# How many unique sites are in the dataset?\n",
    "len(data.site.unique())"
   ]
  },
  {
   "cell_type": "code",
   "execution_count": 13,
   "metadata": {},
   "outputs": [
    {
     "data": {
      "text/plain": [
       "<matplotlib.axes._subplots.AxesSubplot at 0x1fc4e955bc8>"
      ]
     },
     "execution_count": 13,
     "metadata": {},
     "output_type": "execute_result"
    },
    {
     "data": {
      "image/png": "[encoded data removed]",
      "text/plain": [
       "<Figure size 432x288 with 1 Axes>"
      ]
     },
     "metadata": {},
     "output_type": "display_data"
    }
   ],
   "source": [
    "#Pie chart for all source types\n",
    "data['source'].value_counts().plot(kind='pie', autopct='%1.0f%%')\n",
    "\n",
    "#More than 1\\3 of the data is in the learning set, 30% are in source 1, 24% in source 2, 12% in source 3"
   ]
  },
  {
   "cell_type": "code",
   "execution_count": 14,
   "metadata": {},
   "outputs": [
    {
     "data": {
      "image/png": "[encoded data removed]",
      "text/plain": [
       "<Figure size 1080x576 with 2 Axes>"
      ]
     },
     "metadata": {
      "needs_background": "light"
     },
     "output_type": "display_data"
    }
   ],
   "source": [
    "# Heatmap\n",
    "plt.rcParams['figure.figsize'] = (15, 8)\n",
    "sns.heatmap(data.corr(), cmap = 'Wistia', annot = True)\n",
    "plt.title('Heatmap for the Data', fontsize = 20)\n",
    "plt.show()"
   ]
  },
  {
   "cell_type": "code",
   "execution_count": 26,
   "metadata": {},
   "outputs": [],
   "source": [
    "# Create a separate dataframe for each data source\n",
    "\n",
    "data0 = data[data['source'] == 0]\n",
    "data1 = data[data['source'] == 1]\n",
    "data2 = data[data['source'] == 2]\n",
    "data3 = data[data['source'] == 3]"
   ]
  },
  {
   "cell_type": "code",
   "execution_count": 90,
   "metadata": {},
   "outputs": [
    {
     "data": {
      "text/html": [
       "<div>\n",
       "<style scoped>\n",
       "    .dataframe tbody tr th:only-of-type {\n",
       "        vertical-align: middle;\n",
       "    }\n",
       "\n",
       "    .dataframe tbody tr th {\n",
       "        vertical-align: top;\n",
       "    }\n",
       "\n",
       "    .dataframe thead th {\n",
       "        text-align: right;\n",
       "    }\n",
       "</style>\n",
       "<table border=\"1\" class=\"dataframe\">\n",
       "  <thead>\n",
       "    <tr style=\"text-align: right;\">\n",
       "      <th></th>\n",
       "      <th>source</th>\n",
       "      <th>site</th>\n",
       "      <th>% U</th>\n",
       "      <th>V</th>\n",
       "    </tr>\n",
       "  </thead>\n",
       "  <tbody>\n",
       "    <tr>\n",
       "      <th>0</th>\n",
       "      <td>0</td>\n",
       "      <td>06880danwoog.com*</td>\n",
       "      <td>3.343111e-06</td>\n",
       "      <td>36280.0</td>\n",
       "    </tr>\n",
       "    <tr>\n",
       "      <th>1</th>\n",
       "      <td>0</td>\n",
       "      <td>0800-horoscope.com*</td>\n",
       "      <td>1.075026e-05</td>\n",
       "      <td>120690.0</td>\n",
       "    </tr>\n",
       "    <tr>\n",
       "      <th>2</th>\n",
       "      <td>0</td>\n",
       "      <td>10000boatnames.com*</td>\n",
       "      <td>5.871362e-07</td>\n",
       "      <td>6858.0</td>\n",
       "    </tr>\n",
       "    <tr>\n",
       "      <th>3</th>\n",
       "      <td>0</td>\n",
       "      <td>100bestvacations.com*</td>\n",
       "      <td>1.516845e-06</td>\n",
       "      <td>12891.0</td>\n",
       "    </tr>\n",
       "    <tr>\n",
       "      <th>4</th>\n",
       "      <td>0</td>\n",
       "      <td>100stuartstreet.com*</td>\n",
       "      <td>1.128228e-06</td>\n",
       "      <td>9758.0</td>\n",
       "    </tr>\n",
       "    <tr>\n",
       "      <th>...</th>\n",
       "      <td>...</td>\n",
       "      <td>...</td>\n",
       "      <td>...</td>\n",
       "      <td>...</td>\n",
       "    </tr>\n",
       "    <tr>\n",
       "      <th>9694</th>\n",
       "      <td>0</td>\n",
       "      <td>zurinstitute.com*</td>\n",
       "      <td>3.216422e-06</td>\n",
       "      <td>28788.0</td>\n",
       "    </tr>\n",
       "    <tr>\n",
       "      <th>9695</th>\n",
       "      <td>0</td>\n",
       "      <td>zvents.com*</td>\n",
       "      <td>9.387970e-05</td>\n",
       "      <td>740008.0</td>\n",
       "    </tr>\n",
       "    <tr>\n",
       "      <th>9696</th>\n",
       "      <td>0</td>\n",
       "      <td>zx6r.com*</td>\n",
       "      <td>4.094824e-06</td>\n",
       "      <td>57444.0</td>\n",
       "    </tr>\n",
       "    <tr>\n",
       "      <th>9697</th>\n",
       "      <td>0</td>\n",
       "      <td>zybez.net*</td>\n",
       "      <td>7.628508e-05</td>\n",
       "      <td>1237033.0</td>\n",
       "    </tr>\n",
       "    <tr>\n",
       "      <th>9698</th>\n",
       "      <td>0</td>\n",
       "      <td>zzinsider.com*</td>\n",
       "      <td>3.387709e-06</td>\n",
       "      <td>32145.0</td>\n",
       "    </tr>\n",
       "  </tbody>\n",
       "</table>\n",
       "<p>9699 rows × 4 columns</p>\n",
       "</div>"
      ],
      "text/plain": [
       "      source                   site           % U          V\n",
       "0          0      06880danwoog.com*  3.343111e-06    36280.0\n",
       "1          0    0800-horoscope.com*  1.075026e-05   120690.0\n",
       "2          0    10000boatnames.com*  5.871362e-07     6858.0\n",
       "3          0  100bestvacations.com*  1.516845e-06    12891.0\n",
       "4          0   100stuartstreet.com*  1.128228e-06     9758.0\n",
       "...      ...                    ...           ...        ...\n",
       "9694       0      zurinstitute.com*  3.216422e-06    28788.0\n",
       "9695       0            zvents.com*  9.387970e-05   740008.0\n",
       "9696       0              zx6r.com*  4.094824e-06    57444.0\n",
       "9697       0             zybez.net*  7.628508e-05  1237033.0\n",
       "9698       0         zzinsider.com*  3.387709e-06    32145.0\n",
       "\n",
       "[9699 rows x 4 columns]"
      ]
     },
     "metadata": {},
     "output_type": "display_data"
    },
    {
     "data": {
      "text/html": [
       "<div>\n",
       "<style scoped>\n",
       "    .dataframe tbody tr th:only-of-type {\n",
       "        vertical-align: middle;\n",
       "    }\n",
       "\n",
       "    .dataframe tbody tr th {\n",
       "        vertical-align: top;\n",
       "    }\n",
       "\n",
       "    .dataframe thead th {\n",
       "        text-align: right;\n",
       "    }\n",
       "</style>\n",
       "<table border=\"1\" class=\"dataframe\">\n",
       "  <thead>\n",
       "    <tr style=\"text-align: right;\">\n",
       "      <th></th>\n",
       "      <th>source</th>\n",
       "      <th>site</th>\n",
       "      <th>% U</th>\n",
       "      <th>V</th>\n",
       "    </tr>\n",
       "  </thead>\n",
       "  <tbody>\n",
       "    <tr>\n",
       "      <th>9699</th>\n",
       "      <td>1</td>\n",
       "      <td>06880danwoog.com*</td>\n",
       "      <td>5.064813e-06</td>\n",
       "      <td>7.450894e+04</td>\n",
       "    </tr>\n",
       "    <tr>\n",
       "      <th>9700</th>\n",
       "      <td>1</td>\n",
       "      <td>0800-horoscope.com*</td>\n",
       "      <td>7.976695e-06</td>\n",
       "      <td>8.851447e+04</td>\n",
       "    </tr>\n",
       "    <tr>\n",
       "      <th>9701</th>\n",
       "      <td>1</td>\n",
       "      <td>10000boatnames.com*</td>\n",
       "      <td>7.662127e-07</td>\n",
       "      <td>7.476707e+03</td>\n",
       "    </tr>\n",
       "    <tr>\n",
       "      <th>9702</th>\n",
       "      <td>1</td>\n",
       "      <td>100bestvacations.com*</td>\n",
       "      <td>1.083000e-06</td>\n",
       "      <td>1.056819e+04</td>\n",
       "    </tr>\n",
       "    <tr>\n",
       "      <th>9703</th>\n",
       "      <td>1</td>\n",
       "      <td>100stuartstreet.com*</td>\n",
       "      <td>1.919115e-06</td>\n",
       "      <td>1.872674e+04</td>\n",
       "    </tr>\n",
       "    <tr>\n",
       "      <th>...</th>\n",
       "      <td>...</td>\n",
       "      <td>...</td>\n",
       "      <td>...</td>\n",
       "      <td>...</td>\n",
       "    </tr>\n",
       "    <tr>\n",
       "      <th>18196</th>\n",
       "      <td>1</td>\n",
       "      <td>zurinstitute.com*</td>\n",
       "      <td>4.737790e-06</td>\n",
       "      <td>4.846192e+04</td>\n",
       "    </tr>\n",
       "    <tr>\n",
       "      <th>18197</th>\n",
       "      <td>1</td>\n",
       "      <td>zvents.com*</td>\n",
       "      <td>1.431665e-04</td>\n",
       "      <td>1.444088e+06</td>\n",
       "    </tr>\n",
       "    <tr>\n",
       "      <th>18198</th>\n",
       "      <td>1</td>\n",
       "      <td>zx6r.com*</td>\n",
       "      <td>4.790944e-06</td>\n",
       "      <td>4.675006e+04</td>\n",
       "    </tr>\n",
       "    <tr>\n",
       "      <th>18199</th>\n",
       "      <td>1</td>\n",
       "      <td>zybez.net*</td>\n",
       "      <td>1.081722e-04</td>\n",
       "      <td>1.474000e+06</td>\n",
       "    </tr>\n",
       "    <tr>\n",
       "      <th>18200</th>\n",
       "      <td>1</td>\n",
       "      <td>zzinsider.com*</td>\n",
       "      <td>3.516442e-06</td>\n",
       "      <td>3.431345e+04</td>\n",
       "    </tr>\n",
       "  </tbody>\n",
       "</table>\n",
       "<p>8502 rows × 4 columns</p>\n",
       "</div>"
      ],
      "text/plain": [
       "       source                   site           % U             V\n",
       "9699        1      06880danwoog.com*  5.064813e-06  7.450894e+04\n",
       "9700        1    0800-horoscope.com*  7.976695e-06  8.851447e+04\n",
       "9701        1    10000boatnames.com*  7.662127e-07  7.476707e+03\n",
       "9702        1  100bestvacations.com*  1.083000e-06  1.056819e+04\n",
       "9703        1   100stuartstreet.com*  1.919115e-06  1.872674e+04\n",
       "...       ...                    ...           ...           ...\n",
       "18196       1      zurinstitute.com*  4.737790e-06  4.846192e+04\n",
       "18197       1            zvents.com*  1.431665e-04  1.444088e+06\n",
       "18198       1              zx6r.com*  4.790944e-06  4.675006e+04\n",
       "18199       1             zybez.net*  1.081722e-04  1.474000e+06\n",
       "18200       1         zzinsider.com*  3.516442e-06  3.431345e+04\n",
       "\n",
       "[8502 rows x 4 columns]"
      ]
     },
     "metadata": {},
     "output_type": "display_data"
    },
    {
     "data": {
      "text/html": [
       "<div>\n",
       "<style scoped>\n",
       "    .dataframe tbody tr th:only-of-type {\n",
       "        vertical-align: middle;\n",
       "    }\n",
       "\n",
       "    .dataframe tbody tr th {\n",
       "        vertical-align: top;\n",
       "    }\n",
       "\n",
       "    .dataframe thead th {\n",
       "        text-align: right;\n",
       "    }\n",
       "</style>\n",
       "<table border=\"1\" class=\"dataframe\">\n",
       "  <thead>\n",
       "    <tr style=\"text-align: right;\">\n",
       "      <th></th>\n",
       "      <th>source</th>\n",
       "      <th>site</th>\n",
       "      <th>% U</th>\n",
       "      <th>V</th>\n",
       "    </tr>\n",
       "  </thead>\n",
       "  <tbody>\n",
       "    <tr>\n",
       "      <th>18201</th>\n",
       "      <td>2</td>\n",
       "      <td>06880danwoog.com*</td>\n",
       "      <td>8.672000e-06</td>\n",
       "      <td>7.752445e+04</td>\n",
       "    </tr>\n",
       "    <tr>\n",
       "      <th>18202</th>\n",
       "      <td>2</td>\n",
       "      <td>0800-horoscope.com*</td>\n",
       "      <td>1.928600e-05</td>\n",
       "      <td>1.724088e+05</td>\n",
       "    </tr>\n",
       "    <tr>\n",
       "      <th>18203</th>\n",
       "      <td>2</td>\n",
       "      <td>1015store.com*</td>\n",
       "      <td>4.035164e-05</td>\n",
       "      <td>3.607274e+05</td>\n",
       "    </tr>\n",
       "    <tr>\n",
       "      <th>18204</th>\n",
       "      <td>2</td>\n",
       "      <td>101kgb.com*</td>\n",
       "      <td>1.440644e-05</td>\n",
       "      <td>1.287878e+05</td>\n",
       "    </tr>\n",
       "    <tr>\n",
       "      <th>18205</th>\n",
       "      <td>2</td>\n",
       "      <td>101science.com*</td>\n",
       "      <td>6.500000e-07</td>\n",
       "      <td>5.810537e+03</td>\n",
       "    </tr>\n",
       "    <tr>\n",
       "      <th>...</th>\n",
       "      <td>...</td>\n",
       "      <td>...</td>\n",
       "      <td>...</td>\n",
       "      <td>...</td>\n",
       "    </tr>\n",
       "    <tr>\n",
       "      <th>24945</th>\n",
       "      <td>2</td>\n",
       "      <td>ztgd.com*</td>\n",
       "      <td>2.039424e-06</td>\n",
       "      <td>1.823163e+04</td>\n",
       "    </tr>\n",
       "    <tr>\n",
       "      <th>24946</th>\n",
       "      <td>2</td>\n",
       "      <td>zvents.com*</td>\n",
       "      <td>8.486724e-05</td>\n",
       "      <td>7.973462e+05</td>\n",
       "    </tr>\n",
       "    <tr>\n",
       "      <th>24947</th>\n",
       "      <td>2</td>\n",
       "      <td>zx6r.com*</td>\n",
       "      <td>8.230597e-06</td>\n",
       "      <td>7.357822e+04</td>\n",
       "    </tr>\n",
       "    <tr>\n",
       "      <th>24948</th>\n",
       "      <td>2</td>\n",
       "      <td>zybez.net*</td>\n",
       "      <td>1.244973e-04</td>\n",
       "      <td>1.326869e+06</td>\n",
       "    </tr>\n",
       "    <tr>\n",
       "      <th>24949</th>\n",
       "      <td>2</td>\n",
       "      <td>zzinsider.com*</td>\n",
       "      <td>1.021055e-05</td>\n",
       "      <td>1.095219e+05</td>\n",
       "    </tr>\n",
       "  </tbody>\n",
       "</table>\n",
       "<p>6749 rows × 4 columns</p>\n",
       "</div>"
      ],
      "text/plain": [
       "       source                 site           % U             V\n",
       "18201       2    06880danwoog.com*  8.672000e-06  7.752445e+04\n",
       "18202       2  0800-horoscope.com*  1.928600e-05  1.724088e+05\n",
       "18203       2       1015store.com*  4.035164e-05  3.607274e+05\n",
       "18204       2          101kgb.com*  1.440644e-05  1.287878e+05\n",
       "18205       2      101science.com*  6.500000e-07  5.810537e+03\n",
       "...       ...                  ...           ...           ...\n",
       "24945       2            ztgd.com*  2.039424e-06  1.823163e+04\n",
       "24946       2          zvents.com*  8.486724e-05  7.973462e+05\n",
       "24947       2            zx6r.com*  8.230597e-06  7.357822e+04\n",
       "24948       2           zybez.net*  1.244973e-04  1.326869e+06\n",
       "24949       2       zzinsider.com*  1.021055e-05  1.095219e+05\n",
       "\n",
       "[6749 rows x 4 columns]"
      ]
     },
     "metadata": {},
     "output_type": "display_data"
    },
    {
     "data": {
      "text/html": [
       "<div>\n",
       "<style scoped>\n",
       "    .dataframe tbody tr th:only-of-type {\n",
       "        vertical-align: middle;\n",
       "    }\n",
       "\n",
       "    .dataframe tbody tr th {\n",
       "        vertical-align: top;\n",
       "    }\n",
       "\n",
       "    .dataframe thead th {\n",
       "        text-align: right;\n",
       "    }\n",
       "</style>\n",
       "<table border=\"1\" class=\"dataframe\">\n",
       "  <thead>\n",
       "    <tr style=\"text-align: right;\">\n",
       "      <th></th>\n",
       "      <th>source</th>\n",
       "      <th>site</th>\n",
       "      <th>% U</th>\n",
       "      <th>V</th>\n",
       "    </tr>\n",
       "  </thead>\n",
       "  <tbody>\n",
       "    <tr>\n",
       "      <th>24950</th>\n",
       "      <td>3</td>\n",
       "      <td>0800-horoscope.com*</td>\n",
       "      <td>8.793715e-06</td>\n",
       "      <td>74442.341462</td>\n",
       "    </tr>\n",
       "    <tr>\n",
       "      <th>24951</th>\n",
       "      <td>3</td>\n",
       "      <td>1015store.com*</td>\n",
       "      <td>1.348858e-05</td>\n",
       "      <td>129225.542762</td>\n",
       "    </tr>\n",
       "    <tr>\n",
       "      <th>24952</th>\n",
       "      <td>3</td>\n",
       "      <td>101kgb.com*</td>\n",
       "      <td>1.299100e-05</td>\n",
       "      <td>109974.414664</td>\n",
       "    </tr>\n",
       "    <tr>\n",
       "      <th>24953</th>\n",
       "      <td>3</td>\n",
       "      <td>101science.com*</td>\n",
       "      <td>8.284027e-07</td>\n",
       "      <td>7012.763234</td>\n",
       "    </tr>\n",
       "    <tr>\n",
       "      <th>24954</th>\n",
       "      <td>3</td>\n",
       "      <td>1035kissfm.com*</td>\n",
       "      <td>1.373429e-05</td>\n",
       "      <td>116266.284138</td>\n",
       "    </tr>\n",
       "    <tr>\n",
       "      <th>...</th>\n",
       "      <td>...</td>\n",
       "      <td>...</td>\n",
       "      <td>...</td>\n",
       "      <td>...</td>\n",
       "    </tr>\n",
       "    <tr>\n",
       "      <th>28359</th>\n",
       "      <td>3</td>\n",
       "      <td>zonebourse.com*</td>\n",
       "      <td>1.156759e-06</td>\n",
       "      <td>11197.604024</td>\n",
       "    </tr>\n",
       "    <tr>\n",
       "      <th>28360</th>\n",
       "      <td>3</td>\n",
       "      <td>zoochat.com*</td>\n",
       "      <td>3.372321e-06</td>\n",
       "      <td>28548.056223</td>\n",
       "    </tr>\n",
       "    <tr>\n",
       "      <th>28361</th>\n",
       "      <td>3</td>\n",
       "      <td>zvents.com*</td>\n",
       "      <td>8.083042e-05</td>\n",
       "      <td>684262.095167</td>\n",
       "    </tr>\n",
       "    <tr>\n",
       "      <th>28362</th>\n",
       "      <td>3</td>\n",
       "      <td>zybez.net*</td>\n",
       "      <td>9.802633e-05</td>\n",
       "      <td>923140.202379</td>\n",
       "    </tr>\n",
       "    <tr>\n",
       "      <th>28363</th>\n",
       "      <td>3</td>\n",
       "      <td>zzinsider.com*</td>\n",
       "      <td>1.880178e-06</td>\n",
       "      <td>15916.468103</td>\n",
       "    </tr>\n",
       "  </tbody>\n",
       "</table>\n",
       "<p>3414 rows × 4 columns</p>\n",
       "</div>"
      ],
      "text/plain": [
       "       source                 site           % U              V\n",
       "24950       3  0800-horoscope.com*  8.793715e-06   74442.341462\n",
       "24951       3       1015store.com*  1.348858e-05  129225.542762\n",
       "24952       3          101kgb.com*  1.299100e-05  109974.414664\n",
       "24953       3      101science.com*  8.284027e-07    7012.763234\n",
       "24954       3      1035kissfm.com*  1.373429e-05  116266.284138\n",
       "...       ...                  ...           ...            ...\n",
       "28359       3      zonebourse.com*  1.156759e-06   11197.604024\n",
       "28360       3         zoochat.com*  3.372321e-06   28548.056223\n",
       "28361       3          zvents.com*  8.083042e-05  684262.095167\n",
       "28362       3           zybez.net*  9.802633e-05  923140.202379\n",
       "28363       3       zzinsider.com*  1.880178e-06   15916.468103\n",
       "\n",
       "[3414 rows x 4 columns]"
      ]
     },
     "metadata": {},
     "output_type": "display_data"
    }
   ],
   "source": [
    "display(data0)\n",
    "display(data1)\n",
    "display(data2)\n",
    "display(data3)\n",
    "\n",
    "# We can see that each dataset does not contain the same sites as the learning set"
   ]
  },
  {
   "cell_type": "code",
   "execution_count": 33,
   "metadata": {},
   "outputs": [
    {
     "data": {
      "text/html": [
       "<div>\n",
       "<style scoped>\n",
       "    .dataframe tbody tr th:only-of-type {\n",
       "        vertical-align: middle;\n",
       "    }\n",
       "\n",
       "    .dataframe tbody tr th {\n",
       "        vertical-align: top;\n",
       "    }\n",
       "\n",
       "    .dataframe thead th {\n",
       "        text-align: right;\n",
       "    }\n",
       "</style>\n",
       "<table border=\"1\" class=\"dataframe\">\n",
       "  <thead>\n",
       "    <tr style=\"text-align: right;\">\n",
       "      <th></th>\n",
       "      <th>source</th>\n",
       "      <th>% U</th>\n",
       "      <th>V</th>\n",
       "    </tr>\n",
       "  </thead>\n",
       "  <tbody>\n",
       "    <tr>\n",
       "      <th>count</th>\n",
       "      <td>9699.0</td>\n",
       "      <td>9.699000e+03</td>\n",
       "      <td>9.699000e+03</td>\n",
       "    </tr>\n",
       "    <tr>\n",
       "      <th>mean</th>\n",
       "      <td>0.0</td>\n",
       "      <td>6.249331e-05</td>\n",
       "      <td>6.493156e+05</td>\n",
       "    </tr>\n",
       "    <tr>\n",
       "      <th>std</th>\n",
       "      <td>0.0</td>\n",
       "      <td>4.802266e-04</td>\n",
       "      <td>5.558451e+06</td>\n",
       "    </tr>\n",
       "    <tr>\n",
       "      <th>min</th>\n",
       "      <td>0.0</td>\n",
       "      <td>2.790000e-07</td>\n",
       "      <td>5.001000e+03</td>\n",
       "    </tr>\n",
       "    <tr>\n",
       "      <th>25%</th>\n",
       "      <td>0.0</td>\n",
       "      <td>1.486785e-06</td>\n",
       "      <td>1.424450e+04</td>\n",
       "    </tr>\n",
       "    <tr>\n",
       "      <th>50%</th>\n",
       "      <td>0.0</td>\n",
       "      <td>4.236642e-06</td>\n",
       "      <td>4.119500e+04</td>\n",
       "    </tr>\n",
       "    <tr>\n",
       "      <th>75%</th>\n",
       "      <td>0.0</td>\n",
       "      <td>1.697491e-05</td>\n",
       "      <td>1.731955e+05</td>\n",
       "    </tr>\n",
       "    <tr>\n",
       "      <th>max</th>\n",
       "      <td>0.0</td>\n",
       "      <td>2.085859e-02</td>\n",
       "      <td>2.619745e+08</td>\n",
       "    </tr>\n",
       "  </tbody>\n",
       "</table>\n",
       "</div>"
      ],
      "text/plain": [
       "       source           % U             V\n",
       "count  9699.0  9.699000e+03  9.699000e+03\n",
       "mean      0.0  6.249331e-05  6.493156e+05\n",
       "std       0.0  4.802266e-04  5.558451e+06\n",
       "min       0.0  2.790000e-07  5.001000e+03\n",
       "25%       0.0  1.486785e-06  1.424450e+04\n",
       "50%       0.0  4.236642e-06  4.119500e+04\n",
       "75%       0.0  1.697491e-05  1.731955e+05\n",
       "max       0.0  2.085859e-02  2.619745e+08"
      ]
     },
     "metadata": {},
     "output_type": "display_data"
    },
    {
     "data": {
      "text/html": [
       "<div>\n",
       "<style scoped>\n",
       "    .dataframe tbody tr th:only-of-type {\n",
       "        vertical-align: middle;\n",
       "    }\n",
       "\n",
       "    .dataframe tbody tr th {\n",
       "        vertical-align: top;\n",
       "    }\n",
       "\n",
       "    .dataframe thead th {\n",
       "        text-align: right;\n",
       "    }\n",
       "</style>\n",
       "<table border=\"1\" class=\"dataframe\">\n",
       "  <thead>\n",
       "    <tr style=\"text-align: right;\">\n",
       "      <th></th>\n",
       "      <th>source</th>\n",
       "      <th>% U</th>\n",
       "      <th>V</th>\n",
       "    </tr>\n",
       "  </thead>\n",
       "  <tbody>\n",
       "    <tr>\n",
       "      <th>count</th>\n",
       "      <td>8502.0</td>\n",
       "      <td>8.502000e+03</td>\n",
       "      <td>8.502000e+03</td>\n",
       "    </tr>\n",
       "    <tr>\n",
       "      <th>mean</th>\n",
       "      <td>1.0</td>\n",
       "      <td>7.291470e-05</td>\n",
       "      <td>8.054732e+05</td>\n",
       "    </tr>\n",
       "    <tr>\n",
       "      <th>std</th>\n",
       "      <td>0.0</td>\n",
       "      <td>6.688866e-04</td>\n",
       "      <td>7.577127e+06</td>\n",
       "    </tr>\n",
       "    <tr>\n",
       "      <th>min</th>\n",
       "      <td>1.0</td>\n",
       "      <td>1.045405e-07</td>\n",
       "      <td>1.020107e+03</td>\n",
       "    </tr>\n",
       "    <tr>\n",
       "      <th>25%</th>\n",
       "      <td>1.0</td>\n",
       "      <td>1.660861e-06</td>\n",
       "      <td>1.715018e+04</td>\n",
       "    </tr>\n",
       "    <tr>\n",
       "      <th>50%</th>\n",
       "      <td>1.0</td>\n",
       "      <td>4.944889e-06</td>\n",
       "      <td>5.204454e+04</td>\n",
       "    </tr>\n",
       "    <tr>\n",
       "      <th>75%</th>\n",
       "      <td>1.0</td>\n",
       "      <td>1.875423e-05</td>\n",
       "      <td>2.008795e+05</td>\n",
       "    </tr>\n",
       "    <tr>\n",
       "      <th>max</th>\n",
       "      <td>1.0</td>\n",
       "      <td>3.308058e-02</td>\n",
       "      <td>3.713884e+08</td>\n",
       "    </tr>\n",
       "  </tbody>\n",
       "</table>\n",
       "</div>"
      ],
      "text/plain": [
       "       source           % U             V\n",
       "count  8502.0  8.502000e+03  8.502000e+03\n",
       "mean      1.0  7.291470e-05  8.054732e+05\n",
       "std       0.0  6.688866e-04  7.577127e+06\n",
       "min       1.0  1.045405e-07  1.020107e+03\n",
       "25%       1.0  1.660861e-06  1.715018e+04\n",
       "50%       1.0  4.944889e-06  5.204454e+04\n",
       "75%       1.0  1.875423e-05  2.008795e+05\n",
       "max       1.0  3.308058e-02  3.713884e+08"
      ]
     },
     "metadata": {},
     "output_type": "display_data"
    },
    {
     "data": {
      "text/html": [
       "<div>\n",
       "<style scoped>\n",
       "    .dataframe tbody tr th:only-of-type {\n",
       "        vertical-align: middle;\n",
       "    }\n",
       "\n",
       "    .dataframe tbody tr th {\n",
       "        vertical-align: top;\n",
       "    }\n",
       "\n",
       "    .dataframe thead th {\n",
       "        text-align: right;\n",
       "    }\n",
       "</style>\n",
       "<table border=\"1\" class=\"dataframe\">\n",
       "  <thead>\n",
       "    <tr style=\"text-align: right;\">\n",
       "      <th></th>\n",
       "      <th>source</th>\n",
       "      <th>% U</th>\n",
       "      <th>V</th>\n",
       "    </tr>\n",
       "  </thead>\n",
       "  <tbody>\n",
       "    <tr>\n",
       "      <th>count</th>\n",
       "      <td>6749.0</td>\n",
       "      <td>6.749000e+03</td>\n",
       "      <td>6.749000e+03</td>\n",
       "    </tr>\n",
       "    <tr>\n",
       "      <th>mean</th>\n",
       "      <td>2.0</td>\n",
       "      <td>1.779296e-04</td>\n",
       "      <td>1.831009e+06</td>\n",
       "    </tr>\n",
       "    <tr>\n",
       "      <th>std</th>\n",
       "      <td>0.0</td>\n",
       "      <td>1.476425e-03</td>\n",
       "      <td>1.643595e+07</td>\n",
       "    </tr>\n",
       "    <tr>\n",
       "      <th>min</th>\n",
       "      <td>2.0</td>\n",
       "      <td>3.550000e-07</td>\n",
       "      <td>3.173740e+03</td>\n",
       "    </tr>\n",
       "    <tr>\n",
       "      <th>25%</th>\n",
       "      <td>2.0</td>\n",
       "      <td>4.893127e-06</td>\n",
       "      <td>4.531102e+04</td>\n",
       "    </tr>\n",
       "    <tr>\n",
       "      <th>50%</th>\n",
       "      <td>2.0</td>\n",
       "      <td>1.532759e-05</td>\n",
       "      <td>1.429922e+05</td>\n",
       "    </tr>\n",
       "    <tr>\n",
       "      <th>75%</th>\n",
       "      <td>2.0</td>\n",
       "      <td>5.589029e-05</td>\n",
       "      <td>5.349521e+05</td>\n",
       "    </tr>\n",
       "    <tr>\n",
       "      <th>max</th>\n",
       "      <td>2.0</td>\n",
       "      <td>6.195002e-02</td>\n",
       "      <td>6.937006e+08</td>\n",
       "    </tr>\n",
       "  </tbody>\n",
       "</table>\n",
       "</div>"
      ],
      "text/plain": [
       "       source           % U             V\n",
       "count  6749.0  6.749000e+03  6.749000e+03\n",
       "mean      2.0  1.779296e-04  1.831009e+06\n",
       "std       0.0  1.476425e-03  1.643595e+07\n",
       "min       2.0  3.550000e-07  3.173740e+03\n",
       "25%       2.0  4.893127e-06  4.531102e+04\n",
       "50%       2.0  1.532759e-05  1.429922e+05\n",
       "75%       2.0  5.589029e-05  5.349521e+05\n",
       "max       2.0  6.195002e-02  6.937006e+08"
      ]
     },
     "metadata": {},
     "output_type": "display_data"
    },
    {
     "data": {
      "text/html": [
       "<div>\n",
       "<style scoped>\n",
       "    .dataframe tbody tr th:only-of-type {\n",
       "        vertical-align: middle;\n",
       "    }\n",
       "\n",
       "    .dataframe tbody tr th {\n",
       "        vertical-align: top;\n",
       "    }\n",
       "\n",
       "    .dataframe thead th {\n",
       "        text-align: right;\n",
       "    }\n",
       "</style>\n",
       "<table border=\"1\" class=\"dataframe\">\n",
       "  <thead>\n",
       "    <tr style=\"text-align: right;\">\n",
       "      <th></th>\n",
       "      <th>source</th>\n",
       "      <th>% U</th>\n",
       "      <th>V</th>\n",
       "    </tr>\n",
       "  </thead>\n",
       "  <tbody>\n",
       "    <tr>\n",
       "      <th>count</th>\n",
       "      <td>3414.0</td>\n",
       "      <td>3.414000e+03</td>\n",
       "      <td>3.414000e+03</td>\n",
       "    </tr>\n",
       "    <tr>\n",
       "      <th>mean</th>\n",
       "      <td>3.0</td>\n",
       "      <td>3.509293e-04</td>\n",
       "      <td>3.637961e+06</td>\n",
       "    </tr>\n",
       "    <tr>\n",
       "      <th>std</th>\n",
       "      <td>0.0</td>\n",
       "      <td>8.566195e-03</td>\n",
       "      <td>9.580350e+07</td>\n",
       "    </tr>\n",
       "    <tr>\n",
       "      <th>min</th>\n",
       "      <td>3.0</td>\n",
       "      <td>2.190000e-07</td>\n",
       "      <td>1.854112e+03</td>\n",
       "    </tr>\n",
       "    <tr>\n",
       "      <th>25%</th>\n",
       "      <td>3.0</td>\n",
       "      <td>4.115380e-06</td>\n",
       "      <td>3.595316e+04</td>\n",
       "    </tr>\n",
       "    <tr>\n",
       "      <th>50%</th>\n",
       "      <td>3.0</td>\n",
       "      <td>1.758527e-05</td>\n",
       "      <td>1.556398e+05</td>\n",
       "    </tr>\n",
       "    <tr>\n",
       "      <th>75%</th>\n",
       "      <td>3.0</td>\n",
       "      <td>7.005734e-05</td>\n",
       "      <td>6.235831e+05</td>\n",
       "    </tr>\n",
       "    <tr>\n",
       "      <th>max</th>\n",
       "      <td>3.0</td>\n",
       "      <td>4.345977e-01</td>\n",
       "      <td>4.872713e+09</td>\n",
       "    </tr>\n",
       "  </tbody>\n",
       "</table>\n",
       "</div>"
      ],
      "text/plain": [
       "       source           % U             V\n",
       "count  3414.0  3.414000e+03  3.414000e+03\n",
       "mean      3.0  3.509293e-04  3.637961e+06\n",
       "std       0.0  8.566195e-03  9.580350e+07\n",
       "min       3.0  2.190000e-07  1.854112e+03\n",
       "25%       3.0  4.115380e-06  3.595316e+04\n",
       "50%       3.0  1.758527e-05  1.556398e+05\n",
       "75%       3.0  7.005734e-05  6.235831e+05\n",
       "max       3.0  4.345977e-01  4.872713e+09"
      ]
     },
     "metadata": {},
     "output_type": "display_data"
    }
   ],
   "source": [
    "# Describe each dataframe\n",
    "display(data0.describe())\n",
    "display(data1.describe())\n",
    "display(data2.describe())\n",
    "display(data3.describe())"
   ]
  },
  {
   "cell_type": "code",
   "execution_count": null,
   "metadata": {},
   "outputs": [],
   "source": [
    "# Comparison between learning set and source1:\n",
    "#It seems that by all paramters (mean, std, min, 25%, 50%, 75%, max) the values of both V and %U in the learning set\n",
    "# and source1 are quite similar and in the same scale\n",
    "\n",
    "# Comparison between learning set and source2:\n",
    "#It seems that for most of the paramters (min, 25%, 75%, max) the values of both V and %U in the learning set\n",
    "# and source2 are quite similar and in the same scale, for the other parameters (mean, std, 50%) there is\n",
    "# a difference of *10 for both V and %U \n",
    "\n",
    "# Comparison between learning set and source3:\n",
    "#It seems that for some of the paramters (min, 25%, 75%) the values of both V and %U in the learning set\n",
    "# and source2 are quite similar and in the same scale, for most of the parameters (mean, std, 50%, max) there is\n",
    "# a difference of *10 for both V and %U "
   ]
  },
  {
   "cell_type": "code",
   "execution_count": 93,
   "metadata": {},
   "outputs": [
    {
     "data": {
      "text/plain": [
       "array([], dtype=object)"
      ]
     },
     "metadata": {},
     "output_type": "display_data"
    },
    {
     "data": {
      "text/plain": [
       "array([], dtype=object)"
      ]
     },
     "metadata": {},
     "output_type": "display_data"
    },
    {
     "data": {
      "text/plain": [
       "array([], dtype=object)"
      ]
     },
     "metadata": {},
     "output_type": "display_data"
    }
   ],
   "source": [
    "# Check if each of the sources (1-3) contains sites which are not in the learning set\n",
    "arr_data0 = data0['site'].to_numpy()\n",
    "arr_data1 = data1['site'].to_numpy()\n",
    "arr_data2 = data2['site'].to_numpy()\n",
    "arr_data3 = data3['site'].to_numpy()\n",
    "\n",
    "display(np.setdiff1d(arr_data1, arr_data0))\n",
    "display(np.setdiff1d(arr_data2, arr_data0))\n",
    "display(np.setdiff1d(arr_data3, arr_data0))\n",
    "\n",
    "# The learning set contains all the sites which are in each source (1-3)"
   ]
  },
  {
   "cell_type": "code",
   "execution_count": 94,
   "metadata": {},
   "outputs": [
    {
     "data": {
      "text/plain": [
       "array(['1073thewave.net*', '108.fm*', '17andbaking.com*', ...,\n",
       "       'zoecarter.com*', 'zoknowsgaming.com*', 'zonebourse.com*'],\n",
       "      dtype=object)"
      ]
     },
     "metadata": {},
     "output_type": "display_data"
    },
    {
     "data": {
      "text/plain": [
       "array(['10000boatnames.com*', '100bestvacations.com*',\n",
       "       '100stuartstreet.com*', ..., 'zoochat.com*', 'zoomerradio.ca*',\n",
       "       'zurinstitute.com*'], dtype=object)"
      ]
     },
     "metadata": {},
     "output_type": "display_data"
    },
    {
     "data": {
      "text/plain": [
       "array(['06880danwoog.com*', '10000boatnames.com*',\n",
       "       '100bestvacations.com*', ..., 'ztgd.com*', 'zurinstitute.com*',\n",
       "       'zx6r.com*'], dtype=object)"
      ]
     },
     "metadata": {},
     "output_type": "display_data"
    }
   ],
   "source": [
    "# Check if the learning set contains items which are not in the sources (1-3),\n",
    "# and check if those items are the same for each source\n",
    "\n",
    "display(np.setdiff1d(arr_data0, arr_data1))\n",
    "display(np.setdiff1d(arr_data0, arr_data2))\n",
    "display(np.setdiff1d(arr_data0, arr_data3))\n",
    "\n",
    "# The learning set contains different elements which are not included in the sources (1-3)\n",
    "# The items are different for each source"
   ]
  },
  {
   "cell_type": "code",
   "execution_count": 37,
   "metadata": {},
   "outputs": [
    {
     "data": {
      "image/png": "[encoded data removed]",
      "text/plain": [
       "<Figure size 1080x576 with 1 Axes>"
      ]
     },
     "metadata": {},
     "output_type": "display_data"
    }
   ],
   "source": [
    "# Learning set % U histogram\n",
    "plt.subplot(1,1,1)\n",
    "sns.set(style = 'whitegrid')\n",
    "sns.distplot(data0['% U'])\n",
    "plt.title('Distribution of %U', fontsize = 20)\n",
    "plt.xlabel('Range of %U')\n",
    "plt.ylabel('Count')\n",
    "plt.show()\n",
    "\n",
    "\n",
    "# Most were under 0.001"
   ]
  },
  {
   "cell_type": "code",
   "execution_count": 41,
   "metadata": {},
   "outputs": [
    {
     "data": {
      "image/png": "[encoded data removed]",
      "text/plain": [
       "<Figure size 1080x576 with 1 Axes>"
      ]
     },
     "metadata": {},
     "output_type": "display_data"
    }
   ],
   "source": [
    "# Learning set V histogram\n",
    "plt.subplot(1,1,1)\n",
    "sns.set(style = 'whitegrid')\n",
    "sns.distplot(data0['V'])\n",
    "plt.title('Distribution of V', fontsize = 20)\n",
    "plt.xlabel('Range of V')\n",
    "plt.ylabel('Count')\n",
    "plt.show()\n",
    "\n",
    "\n",
    "# Most were under 0.001"
   ]
  },
  {
   "cell_type": "code",
   "execution_count": 38,
   "metadata": {},
   "outputs": [
    {
     "data": {
      "image/png": "[encoded data removed]",
      "text/plain": [
       "<Figure size 1080x576 with 1 Axes>"
      ]
     },
     "metadata": {},
     "output_type": "display_data"
    }
   ],
   "source": [
    "# Source 1 % U histogram\n",
    "plt.subplot(1,1,1)\n",
    "sns.set(style = 'whitegrid')\n",
    "sns.distplot(data1['% U'])\n",
    "plt.title('Distribution of %U', fontsize = 20)\n",
    "plt.xlabel('Range of %U')\n",
    "plt.ylabel('Count')\n",
    "plt.show()\n",
    "\n",
    "\n",
    "# Most were under 0.001"
   ]
  },
  {
   "cell_type": "code",
   "execution_count": 44,
   "metadata": {},
   "outputs": [
    {
     "data": {
      "image/png": "[encoded data removed]",
      "text/plain": [
       "<Figure size 1080x576 with 1 Axes>"
      ]
     },
     "metadata": {},
     "output_type": "display_data"
    }
   ],
   "source": [
    "# Source 1 V histogram\n",
    "plt.subplot(1,1,1)\n",
    "sns.set(style = 'whitegrid')\n",
    "sns.distplot(data1['V'])\n",
    "plt.title('Distribution of V', fontsize = 20)\n",
    "plt.xlabel('Range of V')\n",
    "plt.ylabel('Count')\n",
    "plt.show()\n",
    "\n",
    "\n",
    "# Most were under 0.001"
   ]
  },
  {
   "cell_type": "code",
   "execution_count": 39,
   "metadata": {},
   "outputs": [
    {
     "data": {
      "image/png": "[encoded data removed]",
      "text/plain": [
       "<Figure size 1080x576 with 1 Axes>"
      ]
     },
     "metadata": {},
     "output_type": "display_data"
    }
   ],
   "source": [
    "# Source 2 % U histogram\n",
    "plt.subplot(1,1,1)\n",
    "sns.set(style = 'whitegrid')\n",
    "sns.distplot(data2['% U'])\n",
    "plt.title('Distribution of %U', fontsize = 20)\n",
    "plt.xlabel('Range of %U')\n",
    "plt.ylabel('Count')\n",
    "plt.show()\n",
    "\n",
    "\n",
    "# Most were under 0.001"
   ]
  },
  {
   "cell_type": "code",
   "execution_count": 43,
   "metadata": {},
   "outputs": [
    {
     "data": {
      "image/png": "[encoded data removed]",
      "text/plain": [
       "<Figure size 1080x576 with 1 Axes>"
      ]
     },
     "metadata": {},
     "output_type": "display_data"
    }
   ],
   "source": [
    "# Sourece 2 V histogram\n",
    "plt.subplot(1,1,1)\n",
    "sns.set(style = 'whitegrid')\n",
    "sns.distplot(data2['V'])\n",
    "plt.title('Distribution of V', fontsize = 20)\n",
    "plt.xlabel('Range of V')\n",
    "plt.ylabel('Count')\n",
    "plt.show()\n",
    "\n",
    "\n",
    "# Most were under 0.001"
   ]
  },
  {
   "cell_type": "code",
   "execution_count": 86,
   "metadata": {},
   "outputs": [
    {
     "data": {
      "image/png": "[encoded data removed]",
      "text/plain": [
       "<Figure size 1080x576 with 1 Axes>"
      ]
     },
     "metadata": {},
     "output_type": "display_data"
    }
   ],
   "source": [
    "# Source 3 % U histogram\n",
    "plt.subplot(1,1,1)\n",
    "sns.set(style = 'whitegrid')\n",
    "sns.distplot(data3['% U'], np.arange(0, 0.01, 0.0001))\n",
    "plt.title('Distribution of %U', fontsize = 20)\n",
    "plt.xlabel('Range of %U')\n",
    "plt.ylabel('Count')\n",
    "plt.show()\n",
    "\n",
    "\n",
    "# Most were under 0.001"
   ]
  },
  {
   "cell_type": "code",
   "execution_count": 42,
   "metadata": {
    "scrolled": true
   },
   "outputs": [
    {
     "data": {
      "image/png": "[encoded data removed]",
      "text/plain": [
       "<Figure size 1080x576 with 1 Axes>"
      ]
     },
     "metadata": {},
     "output_type": "display_data"
    }
   ],
   "source": [
    "#  Source 3 V histogram\n",
    "plt.subplot(1,1,1)\n",
    "sns.set(style = 'whitegrid')\n",
    "sns.distplot(data3['V'])\n",
    "plt.title('Distribution of V', fontsize = 20)\n",
    "plt.xlabel('Range of V')\n",
    "plt.ylabel('Count')\n",
    "plt.show()\n",
    "\n",
    "\n",
    "# Most were under 0.001"
   ]
  },
  {
   "cell_type": "code",
   "execution_count": 51,
   "metadata": {},
   "outputs": [
    {
     "data": {
      "image/png": "[encoded data removed]",
      "text/plain": [
       "<Figure size 1080x576 with 2 Axes>"
      ]
     },
     "metadata": {},
     "output_type": "display_data"
    }
   ],
   "source": [
    "# Heatmap for learning set\n",
    "plt.rcParams['figure.figsize'] = (15, 8)\n",
    "sns.heatmap(data0.corr(), cmap = 'Wistia', annot = True)\n",
    "plt.title('Heatmap for the Data', fontsize = 20)\n",
    "plt.show()"
   ]
  },
  {
   "cell_type": "code",
   "execution_count": 47,
   "metadata": {},
   "outputs": [
    {
     "data": {
      "image/png": "[encoded data removed]",
      "text/plain": [
       "<Figure size 1080x576 with 2 Axes>"
      ]
     },
     "metadata": {},
     "output_type": "display_data"
    }
   ],
   "source": [
    "# Heatmap for sourece 1\n",
    "plt.rcParams['figure.figsize'] = (15, 8)\n",
    "sns.heatmap(data1.corr(), cmap = 'Wistia', annot = True)\n",
    "plt.title('Heatmap for the Data', fontsize = 20)\n",
    "plt.show()"
   ]
  },
  {
   "cell_type": "code",
   "execution_count": null,
   "metadata": {},
   "outputs": [],
   "source": []
  },
  {
   "cell_type": "code",
   "execution_count": 48,
   "metadata": {},
   "outputs": [
    {
     "data": {
      "image/png": "[encoded data removed]",
      "text/plain": [
       "<Figure size 1080x576 with 2 Axes>"
      ]
     },
     "metadata": {},
     "output_type": "display_data"
    }
   ],
   "source": [
    "# Heatmap for source 2\n",
    "plt.rcParams['figure.figsize'] = (15, 8)\n",
    "sns.heatmap(data2.corr(), cmap = 'Wistia', annot = True)\n",
    "plt.title('Heatmap for the Data', fontsize = 20)\n",
    "plt.show()"
   ]
  },
  {
   "cell_type": "code",
   "execution_count": 49,
   "metadata": {},
   "outputs": [
    {
     "data": {
      "image/png": "[encoded data removed]",
      "text/plain": [
       "<Figure size 1080x576 with 2 Axes>"
      ]
     },
     "metadata": {},
     "output_type": "display_data"
    }
   ],
   "source": [
    "# Heatmap for source 3\n",
    "plt.rcParams['figure.figsize'] = (15, 8)\n",
    "sns.heatmap(data3.corr(), cmap = 'Wistia', annot = True)\n",
    "plt.title('Heatmap for the Data', fontsize = 20)\n",
    "plt.show()"
   ]
  },
  {
   "cell_type": "code",
   "execution_count": null,
   "metadata": {},
   "outputs": [],
   "source": [
    "# We can see that in the learning set the correlation between V and %U is 98%, and in all the three sources the correlation is 1."
   ]
  },
  {
   "cell_type": "code",
   "execution_count": 52,
   "metadata": {},
   "outputs": [
    {
     "data": {
      "text/plain": [
       "<matplotlib.axes._subplots.AxesSubplot at 0x1fc557f3f48>"
      ]
     },
     "execution_count": 52,
     "metadata": {},
     "output_type": "execute_result"
    },
    {
     "data": {
      "image/png": "[encoded data removed]",
      "text/plain": [
       "<Figure size 1080x576 with 1 Axes>"
      ]
     },
     "metadata": {},
     "output_type": "display_data"
    }
   ],
   "source": [
    "# Scatter plot of % U and V for the learning set\n",
    "data0.plot.scatter(x='% U', y='V', c='DarkBlue')"
   ]
  },
  {
   "cell_type": "code",
   "execution_count": 53,
   "metadata": {},
   "outputs": [
    {
     "data": {
      "text/plain": [
       "<matplotlib.axes._subplots.AxesSubplot at 0x1fc55821348>"
      ]
     },
     "execution_count": 53,
     "metadata": {},
     "output_type": "execute_result"
    },
    {
     "data": {
      "image/png": "[encoded data removed]",
      "text/plain": [
       "<Figure size 1080x576 with 1 Axes>"
      ]
     },
     "metadata": {},
     "output_type": "display_data"
    }
   ],
   "source": [
    "# Scatter plot of % U and V for source 1\n",
    "data1.plot.scatter(x='% U', y='V', c='DarkBlue')"
   ]
  },
  {
   "cell_type": "code",
   "execution_count": 54,
   "metadata": {},
   "outputs": [
    {
     "data": {
      "text/plain": [
       "<matplotlib.axes._subplots.AxesSubplot at 0x1fc55a2e8c8>"
      ]
     },
     "execution_count": 54,
     "metadata": {},
     "output_type": "execute_result"
    },
    {
     "data": {
      "image/png": "[encoded data removed]",
      "text/plain": [
       "<Figure size 1080x576 with 1 Axes>"
      ]
     },
     "metadata": {},
     "output_type": "display_data"
    }
   ],
   "source": [
    "# Scatter plot of % U and V for source 2\n",
    "data2.plot.scatter(x='% U', y='V', c='DarkBlue')"
   ]
  },
  {
   "cell_type": "code",
   "execution_count": 55,
   "metadata": {},
   "outputs": [
    {
     "data": {
      "text/plain": [
       "<matplotlib.axes._subplots.AxesSubplot at 0x1fc55c6df88>"
      ]
     },
     "execution_count": 55,
     "metadata": {},
     "output_type": "execute_result"
    },
    {
     "data": {
      "image/png": "[encoded data removed]",
      "text/plain": [
       "<Figure size 1080x576 with 1 Axes>"
      ]
     },
     "metadata": {},
     "output_type": "display_data"
    }
   ],
   "source": [
    "# Scatter plot of % U and V for source 3\n",
    "data3.plot.scatter(x='% U', y='V', c='DarkBlue')"
   ]
  },
  {
   "cell_type": "code",
   "execution_count": 83,
   "metadata": {},
   "outputs": [
    {
     "data": {
      "image/png": "[encoded data removed]",
      "text/plain": [
       "<Figure size 1440x1440 with 1 Axes>"
      ]
     },
     "metadata": {},
     "output_type": "display_data"
    }
   ],
   "source": [
    "fig, axs = plt.subplots(1, 1, figsize=(20,20))\n",
    "hist = axs.hist(data0['V'].to_numpy(), np.arange(0, 0.01, 0.0001)) #numpy to create bins over range\n",
    "plt.show()"
   ]
  },
  {
   "cell_type": "code",
   "execution_count": 87,
   "metadata": {},
   "outputs": [],
   "source": [
    "# Create dataframes from the learning set which contain only the sites which are in the compared source\n",
    "\n",
    "data0_for1 = data0.loc[data0['site'].isin(data1['site'])]\n",
    "data0_for2 = data0.loc[data0['site'].isin(data2['site'])]\n",
    "data0_for3 = data0.loc[data0['site'].isin(data3['site'])]"
   ]
  },
  {
   "cell_type": "code",
   "execution_count": 132,
   "metadata": {},
   "outputs": [
    {
     "data": {
      "text/html": [
       "<div>\n",
       "<style scoped>\n",
       "    .dataframe tbody tr th:only-of-type {\n",
       "        vertical-align: middle;\n",
       "    }\n",
       "\n",
       "    .dataframe tbody tr th {\n",
       "        vertical-align: top;\n",
       "    }\n",
       "\n",
       "    .dataframe thead th {\n",
       "        text-align: right;\n",
       "    }\n",
       "</style>\n",
       "<table border=\"1\" class=\"dataframe\">\n",
       "  <thead>\n",
       "    <tr style=\"text-align: right;\">\n",
       "      <th></th>\n",
       "      <th>source</th>\n",
       "      <th>site</th>\n",
       "      <th>% U</th>\n",
       "      <th>V</th>\n",
       "    </tr>\n",
       "  </thead>\n",
       "  <tbody>\n",
       "    <tr>\n",
       "      <th>0</th>\n",
       "      <td>0</td>\n",
       "      <td>06880danwoog.com*</td>\n",
       "      <td>3.343111e-06</td>\n",
       "      <td>36280.0</td>\n",
       "    </tr>\n",
       "    <tr>\n",
       "      <th>1</th>\n",
       "      <td>0</td>\n",
       "      <td>0800-horoscope.com*</td>\n",
       "      <td>1.075026e-05</td>\n",
       "      <td>120690.0</td>\n",
       "    </tr>\n",
       "    <tr>\n",
       "      <th>2</th>\n",
       "      <td>0</td>\n",
       "      <td>10000boatnames.com*</td>\n",
       "      <td>5.871362e-07</td>\n",
       "      <td>6858.0</td>\n",
       "    </tr>\n",
       "    <tr>\n",
       "      <th>3</th>\n",
       "      <td>0</td>\n",
       "      <td>100bestvacations.com*</td>\n",
       "      <td>1.516845e-06</td>\n",
       "      <td>12891.0</td>\n",
       "    </tr>\n",
       "    <tr>\n",
       "      <th>4</th>\n",
       "      <td>0</td>\n",
       "      <td>100stuartstreet.com*</td>\n",
       "      <td>1.128228e-06</td>\n",
       "      <td>9758.0</td>\n",
       "    </tr>\n",
       "    <tr>\n",
       "      <th>...</th>\n",
       "      <td>...</td>\n",
       "      <td>...</td>\n",
       "      <td>...</td>\n",
       "      <td>...</td>\n",
       "    </tr>\n",
       "    <tr>\n",
       "      <th>9694</th>\n",
       "      <td>0</td>\n",
       "      <td>zurinstitute.com*</td>\n",
       "      <td>3.216422e-06</td>\n",
       "      <td>28788.0</td>\n",
       "    </tr>\n",
       "    <tr>\n",
       "      <th>9695</th>\n",
       "      <td>0</td>\n",
       "      <td>zvents.com*</td>\n",
       "      <td>9.387970e-05</td>\n",
       "      <td>740008.0</td>\n",
       "    </tr>\n",
       "    <tr>\n",
       "      <th>9696</th>\n",
       "      <td>0</td>\n",
       "      <td>zx6r.com*</td>\n",
       "      <td>4.094824e-06</td>\n",
       "      <td>57444.0</td>\n",
       "    </tr>\n",
       "    <tr>\n",
       "      <th>9697</th>\n",
       "      <td>0</td>\n",
       "      <td>zybez.net*</td>\n",
       "      <td>7.628508e-05</td>\n",
       "      <td>1237033.0</td>\n",
       "    </tr>\n",
       "    <tr>\n",
       "      <th>9698</th>\n",
       "      <td>0</td>\n",
       "      <td>zzinsider.com*</td>\n",
       "      <td>3.387709e-06</td>\n",
       "      <td>32145.0</td>\n",
       "    </tr>\n",
       "  </tbody>\n",
       "</table>\n",
       "<p>8502 rows × 4 columns</p>\n",
       "</div>"
      ],
      "text/plain": [
       "      source                   site           % U          V\n",
       "0          0      06880danwoog.com*  3.343111e-06    36280.0\n",
       "1          0    0800-horoscope.com*  1.075026e-05   120690.0\n",
       "2          0    10000boatnames.com*  5.871362e-07     6858.0\n",
       "3          0  100bestvacations.com*  1.516845e-06    12891.0\n",
       "4          0   100stuartstreet.com*  1.128228e-06     9758.0\n",
       "...      ...                    ...           ...        ...\n",
       "9694       0      zurinstitute.com*  3.216422e-06    28788.0\n",
       "9695       0            zvents.com*  9.387970e-05   740008.0\n",
       "9696       0              zx6r.com*  4.094824e-06    57444.0\n",
       "9697       0             zybez.net*  7.628508e-05  1237033.0\n",
       "9698       0         zzinsider.com*  3.387709e-06    32145.0\n",
       "\n",
       "[8502 rows x 4 columns]"
      ]
     },
     "metadata": {},
     "output_type": "display_data"
    },
    {
     "data": {
      "text/html": [
       "<div>\n",
       "<style scoped>\n",
       "    .dataframe tbody tr th:only-of-type {\n",
       "        vertical-align: middle;\n",
       "    }\n",
       "\n",
       "    .dataframe tbody tr th {\n",
       "        vertical-align: top;\n",
       "    }\n",
       "\n",
       "    .dataframe thead th {\n",
       "        text-align: right;\n",
       "    }\n",
       "</style>\n",
       "<table border=\"1\" class=\"dataframe\">\n",
       "  <thead>\n",
       "    <tr style=\"text-align: right;\">\n",
       "      <th></th>\n",
       "      <th>source</th>\n",
       "      <th>site</th>\n",
       "      <th>% U</th>\n",
       "      <th>V</th>\n",
       "    </tr>\n",
       "  </thead>\n",
       "  <tbody>\n",
       "    <tr>\n",
       "      <th>0</th>\n",
       "      <td>0</td>\n",
       "      <td>06880danwoog.com*</td>\n",
       "      <td>3.343111e-06</td>\n",
       "      <td>36280.0</td>\n",
       "    </tr>\n",
       "    <tr>\n",
       "      <th>1</th>\n",
       "      <td>0</td>\n",
       "      <td>0800-horoscope.com*</td>\n",
       "      <td>1.075026e-05</td>\n",
       "      <td>120690.0</td>\n",
       "    </tr>\n",
       "    <tr>\n",
       "      <th>6</th>\n",
       "      <td>0</td>\n",
       "      <td>1015store.com*</td>\n",
       "      <td>2.282332e-05</td>\n",
       "      <td>285488.0</td>\n",
       "    </tr>\n",
       "    <tr>\n",
       "      <th>7</th>\n",
       "      <td>0</td>\n",
       "      <td>101kgb.com*</td>\n",
       "      <td>9.015297e-06</td>\n",
       "      <td>76934.0</td>\n",
       "    </tr>\n",
       "    <tr>\n",
       "      <th>8</th>\n",
       "      <td>0</td>\n",
       "      <td>101science.com*</td>\n",
       "      <td>7.080000e-07</td>\n",
       "      <td>6502.0</td>\n",
       "    </tr>\n",
       "    <tr>\n",
       "      <th>...</th>\n",
       "      <td>...</td>\n",
       "      <td>...</td>\n",
       "      <td>...</td>\n",
       "      <td>...</td>\n",
       "    </tr>\n",
       "    <tr>\n",
       "      <th>9693</th>\n",
       "      <td>0</td>\n",
       "      <td>ztgd.com*</td>\n",
       "      <td>7.076418e-07</td>\n",
       "      <td>6144.0</td>\n",
       "    </tr>\n",
       "    <tr>\n",
       "      <th>9695</th>\n",
       "      <td>0</td>\n",
       "      <td>zvents.com*</td>\n",
       "      <td>9.387970e-05</td>\n",
       "      <td>740008.0</td>\n",
       "    </tr>\n",
       "    <tr>\n",
       "      <th>9696</th>\n",
       "      <td>0</td>\n",
       "      <td>zx6r.com*</td>\n",
       "      <td>4.094824e-06</td>\n",
       "      <td>57444.0</td>\n",
       "    </tr>\n",
       "    <tr>\n",
       "      <th>9697</th>\n",
       "      <td>0</td>\n",
       "      <td>zybez.net*</td>\n",
       "      <td>7.628508e-05</td>\n",
       "      <td>1237033.0</td>\n",
       "    </tr>\n",
       "    <tr>\n",
       "      <th>9698</th>\n",
       "      <td>0</td>\n",
       "      <td>zzinsider.com*</td>\n",
       "      <td>3.387709e-06</td>\n",
       "      <td>32145.0</td>\n",
       "    </tr>\n",
       "  </tbody>\n",
       "</table>\n",
       "<p>6749 rows × 4 columns</p>\n",
       "</div>"
      ],
      "text/plain": [
       "      source                 site           % U          V\n",
       "0          0    06880danwoog.com*  3.343111e-06    36280.0\n",
       "1          0  0800-horoscope.com*  1.075026e-05   120690.0\n",
       "6          0       1015store.com*  2.282332e-05   285488.0\n",
       "7          0          101kgb.com*  9.015297e-06    76934.0\n",
       "8          0      101science.com*  7.080000e-07     6502.0\n",
       "...      ...                  ...           ...        ...\n",
       "9693       0            ztgd.com*  7.076418e-07     6144.0\n",
       "9695       0          zvents.com*  9.387970e-05   740008.0\n",
       "9696       0            zx6r.com*  4.094824e-06    57444.0\n",
       "9697       0           zybez.net*  7.628508e-05  1237033.0\n",
       "9698       0       zzinsider.com*  3.387709e-06    32145.0\n",
       "\n",
       "[6749 rows x 4 columns]"
      ]
     },
     "metadata": {},
     "output_type": "display_data"
    },
    {
     "data": {
      "text/html": [
       "<div>\n",
       "<style scoped>\n",
       "    .dataframe tbody tr th:only-of-type {\n",
       "        vertical-align: middle;\n",
       "    }\n",
       "\n",
       "    .dataframe tbody tr th {\n",
       "        vertical-align: top;\n",
       "    }\n",
       "\n",
       "    .dataframe thead th {\n",
       "        text-align: right;\n",
       "    }\n",
       "</style>\n",
       "<table border=\"1\" class=\"dataframe\">\n",
       "  <thead>\n",
       "    <tr style=\"text-align: right;\">\n",
       "      <th></th>\n",
       "      <th>source</th>\n",
       "      <th>site</th>\n",
       "      <th>% U</th>\n",
       "      <th>V</th>\n",
       "    </tr>\n",
       "  </thead>\n",
       "  <tbody>\n",
       "    <tr>\n",
       "      <th>1</th>\n",
       "      <td>0</td>\n",
       "      <td>0800-horoscope.com*</td>\n",
       "      <td>1.075026e-05</td>\n",
       "      <td>120690.0</td>\n",
       "    </tr>\n",
       "    <tr>\n",
       "      <th>6</th>\n",
       "      <td>0</td>\n",
       "      <td>1015store.com*</td>\n",
       "      <td>2.282332e-05</td>\n",
       "      <td>285488.0</td>\n",
       "    </tr>\n",
       "    <tr>\n",
       "      <th>7</th>\n",
       "      <td>0</td>\n",
       "      <td>101kgb.com*</td>\n",
       "      <td>9.015297e-06</td>\n",
       "      <td>76934.0</td>\n",
       "    </tr>\n",
       "    <tr>\n",
       "      <th>8</th>\n",
       "      <td>0</td>\n",
       "      <td>101science.com*</td>\n",
       "      <td>7.080000e-07</td>\n",
       "      <td>6502.0</td>\n",
       "    </tr>\n",
       "    <tr>\n",
       "      <th>12</th>\n",
       "      <td>0</td>\n",
       "      <td>1035kissfm.com*</td>\n",
       "      <td>1.838593e-05</td>\n",
       "      <td>156960.0</td>\n",
       "    </tr>\n",
       "    <tr>\n",
       "      <th>...</th>\n",
       "      <td>...</td>\n",
       "      <td>...</td>\n",
       "      <td>...</td>\n",
       "      <td>...</td>\n",
       "    </tr>\n",
       "    <tr>\n",
       "      <th>9688</th>\n",
       "      <td>0</td>\n",
       "      <td>zonebourse.com*</td>\n",
       "      <td>9.435225e-07</td>\n",
       "      <td>7562.0</td>\n",
       "    </tr>\n",
       "    <tr>\n",
       "      <th>9689</th>\n",
       "      <td>0</td>\n",
       "      <td>zoochat.com*</td>\n",
       "      <td>2.586136e-06</td>\n",
       "      <td>32034.0</td>\n",
       "    </tr>\n",
       "    <tr>\n",
       "      <th>9695</th>\n",
       "      <td>0</td>\n",
       "      <td>zvents.com*</td>\n",
       "      <td>9.387970e-05</td>\n",
       "      <td>740008.0</td>\n",
       "    </tr>\n",
       "    <tr>\n",
       "      <th>9697</th>\n",
       "      <td>0</td>\n",
       "      <td>zybez.net*</td>\n",
       "      <td>7.628508e-05</td>\n",
       "      <td>1237033.0</td>\n",
       "    </tr>\n",
       "    <tr>\n",
       "      <th>9698</th>\n",
       "      <td>0</td>\n",
       "      <td>zzinsider.com*</td>\n",
       "      <td>3.387709e-06</td>\n",
       "      <td>32145.0</td>\n",
       "    </tr>\n",
       "  </tbody>\n",
       "</table>\n",
       "<p>3414 rows × 4 columns</p>\n",
       "</div>"
      ],
      "text/plain": [
       "      source                 site           % U          V\n",
       "1          0  0800-horoscope.com*  1.075026e-05   120690.0\n",
       "6          0       1015store.com*  2.282332e-05   285488.0\n",
       "7          0          101kgb.com*  9.015297e-06    76934.0\n",
       "8          0      101science.com*  7.080000e-07     6502.0\n",
       "12         0      1035kissfm.com*  1.838593e-05   156960.0\n",
       "...      ...                  ...           ...        ...\n",
       "9688       0      zonebourse.com*  9.435225e-07     7562.0\n",
       "9689       0         zoochat.com*  2.586136e-06    32034.0\n",
       "9695       0          zvents.com*  9.387970e-05   740008.0\n",
       "9697       0           zybez.net*  7.628508e-05  1237033.0\n",
       "9698       0       zzinsider.com*  3.387709e-06    32145.0\n",
       "\n",
       "[3414 rows x 4 columns]"
      ]
     },
     "metadata": {},
     "output_type": "display_data"
    }
   ],
   "source": [
    "# Display datasets\n",
    "\n",
    "display(data0_for1)\n",
    "display(data0_for2)\n",
    "display(data0_for3)\n",
    "\n",
    "# Verified that each df contains same sites as data1-3 and different V, %U (but the same as data0)"
   ]
  },
  {
   "cell_type": "code",
   "execution_count": null,
   "metadata": {},
   "outputs": [],
   "source": [
    "# Calculate metics:"
   ]
  },
  {
   "cell_type": "code",
   "execution_count": 115,
   "metadata": {},
   "outputs": [
    {
     "data": {
      "text/plain": [
       "73448.75610726222"
      ]
     },
     "metadata": {},
     "output_type": "display_data"
    },
    {
     "data": {
      "text/plain": [
       "925200.6362900218"
      ]
     },
     "metadata": {},
     "output_type": "display_data"
    },
    {
     "data": {
      "text/plain": [
       "1972271.822261787"
      ]
     },
     "metadata": {},
     "output_type": "display_data"
    }
   ],
   "source": [
    "# Difference between 'V' average\n",
    "# Calculate for each source (1-3) the absulote value of the difference in 'V' mean between the learning set and the source\n",
    "\n",
    "dif_avg_V_1 = abs(data0_for1['V'].mean() - data1['V'].mean())\n",
    "dif_avg_V_2 = abs(data0_for2['V'].mean() - data2['V'].mean())\n",
    "dif_avg_V_3 = abs(data0_for3['V'].mean() - data3['V'].mean())\n",
    "\n",
    "display(dif_avg_V_1)\n",
    "display(dif_avg_V_2)\n",
    "display(dif_avg_V_3)\n",
    "\n",
    "# Source 1 is the closests, then source 2 and then source 3"
   ]
  },
  {
   "cell_type": "code",
   "execution_count": 116,
   "metadata": {},
   "outputs": [
    {
     "data": {
      "text/plain": [
       "2.420712881578239e-06"
      ]
     },
     "metadata": {},
     "output_type": "display_data"
    },
    {
     "data": {
      "text/plain": [
       "9.077667315628665e-05"
      ]
     },
     "metadata": {},
     "output_type": "display_data"
    },
    {
     "data": {
      "text/plain": [
       "0.00019037837290420952"
      ]
     },
     "metadata": {},
     "output_type": "display_data"
    }
   ],
   "source": [
    "# Difference between '% U' average\n",
    "# Calculate for each source (1-3) the absulote value of the difference in '% U' mean between the learning set and the source\n",
    "\n",
    "dif_avg_U_1 = abs(data0_for1['% U'].mean() - data1['% U'].mean())\n",
    "dif_avg_U_2 = abs(data0_for2['% U'].mean() - data2['% U'].mean())\n",
    "dif_avg_U_3 = abs(data0_for3['% U'].mean() - data3['% U'].mean())\n",
    "\n",
    "display(dif_avg_U_1)\n",
    "display(dif_avg_U_2)\n",
    "display(dif_avg_U_3)\n",
    "\n",
    "# Source 1 is the closests, then source 2 and then source 3"
   ]
  },
  {
   "cell_type": "code",
   "execution_count": 121,
   "metadata": {},
   "outputs": [
    {
     "data": {
      "text/plain": [
       "73448.75610968284"
      ]
     },
     "metadata": {},
     "output_type": "display_data"
    },
    {
     "data": {
      "text/plain": [
       "925200.6363807963"
      ]
     },
     "metadata": {},
     "output_type": "display_data"
    },
    {
     "data": {
      "text/plain": [
       "1972271.822452159"
      ]
     },
     "metadata": {},
     "output_type": "display_data"
    }
   ],
   "source": [
    "# Difference between 'V' + % U' average\n",
    "# Calculate for each source (1-3) the absulote value of the difference in '% U' mean between the learning set and the source\n",
    "\n",
    "dif_avg_VplusU_1 = abs((data0_for1['V'] + data0_for1['% U']).mean() - (data1['V'] + data1['% U']).mean())\n",
    "dif_avg_VplusU_2 = abs((data0_for2['V'] + data0_for2['% U']).mean() - (data2['V'] + data2['% U']).mean())\n",
    "dif_avg_VplusU_3 = abs((data0_for3['V'] + data0_for3['% U']).mean() - (data3['V'] + data3['% U']).mean())\n",
    "\n",
    "display(dif_avg_VplusU_1)\n",
    "display(dif_avg_VplusU_2)\n",
    "display(dif_avg_VplusU_3)\n",
    "\n",
    "# Source 1 is the closests, then source 2 and then source 3"
   ]
  },
  {
   "cell_type": "code",
   "execution_count": 122,
   "metadata": {},
   "outputs": [
    {
     "data": {
      "text/plain": [
       "2092.0395656593046"
      ]
     },
     "metadata": {},
     "output_type": "display_data"
    },
    {
     "data": {
      "text/plain": [
       "20720.82334546019"
      ]
     },
     "metadata": {},
     "output_type": "display_data"
    },
    {
     "data": {
      "text/plain": [
       "814166.526932614"
      ]
     },
     "metadata": {},
     "output_type": "display_data"
    }
   ],
   "source": [
    "# Difference between 'V' * % U' average\n",
    "# Calculate for each source (1-3) the absulote value of the difference in '% U' mean between the learning set and the source\n",
    "\n",
    "dif_avg_VmulU_1 = abs((data0_for1['V'] * data0_for1['% U']).mean() - (data1['V'] * data1['% U']).mean())\n",
    "dif_avg_VmulU_2 = abs((data0_for2['V'] * data0_for2['% U']).mean() - (data2['V'] * data2['% U']).mean())\n",
    "dif_avg_VmulU_3 = abs((data0_for3['V'] * data0_for3['% U']).mean() - (data3['V'] * data3['% U']).mean())\n",
    "\n",
    "display(dif_avg_VmulU_1)\n",
    "display(dif_avg_VmulU_2)\n",
    "display(dif_avg_VmulU_3)\n",
    "\n",
    "# Source 1 is the closests, then source 2 and then source 3"
   ]
  },
  {
   "cell_type": "code",
   "execution_count": 123,
   "metadata": {},
   "outputs": [
    {
     "data": {
      "text/plain": [
       "418.95636799045315"
      ]
     },
     "metadata": {},
     "output_type": "display_data"
    },
    {
     "data": {
      "text/plain": [
       "64617.17701863899"
      ]
     },
     "metadata": {},
     "output_type": "display_data"
    },
    {
     "data": {
      "text/plain": [
       "36417.73843795952"
      ]
     },
     "metadata": {},
     "output_type": "display_data"
    }
   ],
   "source": [
    "# Difference between 'V' median\n",
    "# Calculate for each source (1-3) the absulote value of the difference in 'V' median between the learning set and the source\n",
    "\n",
    "dif_median_V_1 = abs(data0_for1['V'].median() - data1['V'].median())\n",
    "dif_median_V_2 = abs(data0_for2['V'].median() - data2['V'].median())\n",
    "dif_median_V_3 = abs(data0_for3['V'].median() - data3['V'].median())\n",
    "\n",
    "display(dif_median_V_1)\n",
    "display(dif_median_V_2)\n",
    "display(dif_median_V_3)\n",
    "\n",
    "# Source 1 is the closests, then source 2 and then source 3"
   ]
  },
  {
   "cell_type": "code",
   "execution_count": 124,
   "metadata": {},
   "outputs": [
    {
     "data": {
      "text/plain": [
       "4.462013412404902e-07"
      ]
     },
     "metadata": {},
     "output_type": "display_data"
    },
    {
     "data": {
      "text/plain": [
       "7.387768757546161e-06"
      ]
     },
     "metadata": {},
     "output_type": "display_data"
    },
    {
     "data": {
      "text/plain": [
       "1.2603166298850526e-06"
      ]
     },
     "metadata": {},
     "output_type": "display_data"
    }
   ],
   "source": [
    "# Difference between '%U' median\n",
    "# Calculate for each source (1-3) the absulote value of the difference in 'V' median between the learning set and the source\n",
    "\n",
    "dif_median_U_1 = abs(data0_for1['% U'].median() - data1['% U'].median())\n",
    "dif_median_U_2 = abs(data0_for2['% U'].median() - data2['% U'].median())\n",
    "dif_median_U_3 = abs(data0_for3['% U'].median() - data3['% U'].median())\n",
    "\n",
    "display(dif_median_U_1)\n",
    "display(dif_median_U_2)\n",
    "display(dif_median_U_3)\n",
    "\n",
    "# Source 1 is the closests, then source 2 and then source 3"
   ]
  },
  {
   "cell_type": "code",
   "execution_count": 125,
   "metadata": {},
   "outputs": [
    {
     "data": {
      "text/plain": [
       "418.95636789705895"
      ]
     },
     "metadata": {},
     "output_type": "display_data"
    },
    {
     "data": {
      "text/plain": [
       "64617.17702590363"
      ]
     },
     "metadata": {},
     "output_type": "display_data"
    },
    {
     "data": {
      "text/plain": [
       "36417.7384413722"
      ]
     },
     "metadata": {},
     "output_type": "display_data"
    }
   ],
   "source": [
    "# Difference between 'V' + % U' median\n",
    "# Calculate for each source (1-3) the absulote value of the difference in '% U' median between the learning set and the source\n",
    "\n",
    "dif_median_VplusU_1 = abs((data0_for1['V'] + data0_for1['% U']).median() - (data1['V'] + data1['% U']).median())\n",
    "dif_median_VplusU_2 = abs((data0_for2['V'] + data0_for2['% U']).median() - (data2['V'] + data2['% U']).median())\n",
    "dif_median_VplusU_3 = abs((data0_for3['V'] + data0_for3['% U']).median() - (data3['V'] + data3['% U']).median())\n",
    "\n",
    "display(dif_median_VplusU_1)\n",
    "display(dif_median_VplusU_2)\n",
    "display(dif_median_VplusU_3)\n",
    "\n",
    "# Different result-\n",
    "# Source 1 is the closests, then source 3 and then source 2"
   ]
  },
  {
   "cell_type": "code",
   "execution_count": 126,
   "metadata": {},
   "outputs": [
    {
     "data": {
      "text/plain": [
       "0.026807071011930583"
      ]
     },
     "metadata": {},
     "output_type": "display_data"
    },
    {
     "data": {
      "text/plain": [
       "1.5579204200814116"
      ]
     },
     "metadata": {},
     "output_type": "display_data"
    },
    {
     "data": {
      "text/plain": [
       "0.8416219753024361"
      ]
     },
     "metadata": {},
     "output_type": "display_data"
    }
   ],
   "source": [
    "# Difference between 'V' * % U' median\n",
    "# Calculate for each source (1-3) the absulote value of the difference in '% U' median between the learning set and the source\n",
    "\n",
    "dif_median_VmulU_1 = abs((data0_for1['V'] * data0_for1['% U']).median() - (data1['V'] * data1['% U']).median())\n",
    "dif_median_VmulU_2 = abs((data0_for2['V'] * data0_for2['% U']).median() - (data2['V'] * data2['% U']).median())\n",
    "dif_median_VmulU_3 = abs((data0_for3['V'] * data0_for3['% U']).median() - (data3['V'] * data3['% U']).median())\n",
    "\n",
    "display(dif_median_VmulU_1)\n",
    "display(dif_median_VmulU_2)\n",
    "display(dif_median_VmulU_3)\n",
    "\n",
    "# Different result-\n",
    "# Source 1 is the closests, then source 3 and then source 2"
   ]
  },
  {
   "cell_type": "code",
   "execution_count": 127,
   "metadata": {},
   "outputs": [
    {
     "data": {
      "text/plain": [
       "1655504.0769965108"
      ]
     },
     "metadata": {},
     "output_type": "display_data"
    },
    {
     "data": {
      "text/plain": [
       "9802798.606539484"
      ]
     },
     "metadata": {},
     "output_type": "display_data"
    },
    {
     "data": {
      "text/plain": [
       "86557180.36979736"
      ]
     },
     "metadata": {},
     "output_type": "display_data"
    }
   ],
   "source": [
    "# Difference between 'V' std\n",
    "# Calculate for each source (1-3) the absulote value of the difference in 'V' std between the learning set and the source\n",
    "\n",
    "dif_std_V_1 = abs(data0_for1['V'].std() - data1['V'].std())\n",
    "dif_std_V_2 = abs(data0_for2['V'].std() - data2['V'].std())\n",
    "dif_std_V_3 = abs(data0_for3['V'].std() - data3['V'].std())\n",
    "\n",
    "display(dif_std_V_1)\n",
    "display(dif_std_V_2)\n",
    "display(dif_std_V_3)\n",
    "\n",
    "# Source 1 is the closests, then source 2 and then source 3"
   ]
  },
  {
   "cell_type": "code",
   "execution_count": 128,
   "metadata": {},
   "outputs": [
    {
     "data": {
      "text/plain": [
       "0.00015716506787041406"
      ]
     },
     "metadata": {},
     "output_type": "display_data"
    },
    {
     "data": {
      "text/plain": [
       "0.0009035546605683984"
      ]
     },
     "metadata": {},
     "output_type": "display_data"
    },
    {
     "data": {
      "text/plain": [
       "0.0077689620403086565"
      ]
     },
     "metadata": {},
     "output_type": "display_data"
    }
   ],
   "source": [
    "# Difference between '% U' std\n",
    "# Calculate for each source (1-3) the absulote value of the difference in '% U' std between the learning set and the source\n",
    "\n",
    "dif_std_U_1 = abs(data0_for1['% U'].std() - data1['% U'].std())\n",
    "dif_std_U_2 = abs(data0_for2['% U'].std() - data2['% U'].std())\n",
    "dif_std_U_3 = abs(data0_for3['% U'].std() - data3['% U'].std())\n",
    "\n",
    "display(dif_std_U_1)\n",
    "display(dif_std_U_2)\n",
    "display(dif_std_U_3)\n",
    "\n",
    "# Source 1 is the closests, then source 2 and then source 3"
   ]
  },
  {
   "cell_type": "code",
   "execution_count": 129,
   "metadata": {},
   "outputs": [
    {
     "data": {
      "text/plain": [
       "1655504.0771623682"
      ]
     },
     "metadata": {},
     "output_type": "display_data"
    },
    {
     "data": {
      "text/plain": [
       "9802798.6074512"
      ]
     },
     "metadata": {},
     "output_type": "display_data"
    },
    {
     "data": {
      "text/plain": [
       "86557180.37758331"
      ]
     },
     "metadata": {},
     "output_type": "display_data"
    }
   ],
   "source": [
    "# Difference between 'V' + % U' std\n",
    "# Calculate for each source (1-3) the absulote value of the difference in '% U' std between the learning set and the source\n",
    "\n",
    "dif_std_VplusU_1 = abs((data0_for1['V'] + data0_for1['% U']).std() - (data1['V'] + data1['% U']).std())\n",
    "dif_std_VplusU_2 = abs((data0_for2['V'] + data0_for2['% U']).std() - (data2['V'] + data2['% U']).std())\n",
    "dif_std_VplusU_3 = abs((data0_for3['V'] + data0_for3['% U']).std() - (data3['V'] + data3['% U']).std())\n",
    "\n",
    "display(dif_std_VplusU_1)\n",
    "display(dif_std_VplusU_2)\n",
    "display(dif_std_VplusU_3)\n",
    "\n",
    "# Different result-\n",
    "# Source 1 is the closests, then source 3 and then source 2"
   ]
  },
  {
   "cell_type": "code",
   "execution_count": 130,
   "metadata": {},
   "outputs": [
    {
     "data": {
      "text/plain": [
       "98209.28580637735"
      ]
     },
     "metadata": {},
     "output_type": "display_data"
    },
    {
     "data": {
      "text/plain": [
       "721815.0913557182"
      ]
     },
     "metadata": {},
     "output_type": "display_data"
    },
    {
     "data": {
      "text/plain": [
       "37865459.92777424"
      ]
     },
     "metadata": {},
     "output_type": "display_data"
    }
   ],
   "source": [
    "# Difference between 'V' * % U' std\n",
    "# Calculate for each source (1-3) the absulote value of the difference in '% U' mean between the learning set and the source\n",
    "\n",
    "dif_std_VmulU_1 = abs((data0_for1['V'] * data0_for1['% U']).std() - (data1['V'] * data1['% U']).std())\n",
    "dif_std_VmulU_2 = abs((data0_for2['V'] * data0_for2['% U']).std() - (data2['V'] * data2['% U']).std())\n",
    "dif_std_VmulU_3 = abs((data0_for3['V'] * data0_for3['% U']).std() - (data3['V'] * data3['% U']).std())\n",
    "\n",
    "display(dif_std_VmulU_1)\n",
    "display(dif_std_VmulU_2)\n",
    "display(dif_std_VmulU_3)\n",
    "\n",
    "# Source 1 is the closests, then source 2 and then source 3"
   ]
  },
  {
   "cell_type": "code",
   "execution_count": null,
   "metadata": {},
   "outputs": [],
   "source": []
  },
  {
   "cell_type": "code",
   "execution_count": 100,
   "metadata": {},
   "outputs": [
    {
     "data": {
      "text/plain": [
       "805473.2164695299"
      ]
     },
     "execution_count": 100,
     "metadata": {},
     "output_type": "execute_result"
    }
   ],
   "source": [
    "data1['V'].mean()"
   ]
  },
  {
   "cell_type": "code",
   "execution_count": 101,
   "metadata": {},
   "outputs": [
    {
     "data": {
      "text/plain": [
       "649315.5827404887"
      ]
     },
     "execution_count": 101,
     "metadata": {},
     "output_type": "execute_result"
    }
   ],
   "source": [
    "data0['V'].mean()"
   ]
  },
  {
   "cell_type": "code",
   "execution_count": null,
   "metadata": {},
   "outputs": [],
   "source": []
  }
 ],
 "metadata": {
  "kernelspec": {
   "display_name": "Python 3",
   "language": "python",
   "name": "python3"
  },
  "language_info": {
   "codemirror_mode": {
    "name": "ipython",
    "version": 3
   },
   "file_extension": ".py",
   "mimetype": "text/x-python",
   "name": "python",
   "nbconvert_exporter": "python",
   "pygments_lexer": "ipython3",
   "version": "3.7.7"
  }
 },
 "nbformat": 4,
 "nbformat_minor": 4
}
